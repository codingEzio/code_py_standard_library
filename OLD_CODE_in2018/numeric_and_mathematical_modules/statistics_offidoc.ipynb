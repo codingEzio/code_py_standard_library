{
 "cells": [
  {
   "cell_type": "markdown",
   "metadata": {},
   "source": [
    "#### Resources \n",
    "- 文檔: [link](https://docs.python.org/3/library/statistics.html)\n",
    "- 源碼: [link](https://github.com/python/cpython/blob/3.7/Lib/statistics.py)\n",
    "- 版本: *Python* 3.7.0\n",
    "\n",
    "#### Note \n",
    "> Unless explicitly noted otherwise,<br>these functions support ```int```, ```float```, ```Decimal```, ```Fraction```."
   ]
  },
  {
   "cell_type": "code",
   "execution_count": 79,
   "metadata": {},
   "outputs": [],
   "source": [
    "from statistics import *\n",
    "from fractions import Fraction as F\n",
    "from decimal import Decimal as D"
   ]
  },
  {
   "cell_type": "code",
   "execution_count": 80,
   "metadata": {},
   "outputs": [
    {
     "data": {
      "text/plain": [
       "2"
      ]
     },
     "execution_count": 80,
     "metadata": {},
     "output_type": "execute_result"
    },
    {
     "data": {
      "text/plain": [
       "2.0"
      ]
     },
     "execution_count": 80,
     "metadata": {},
     "output_type": "execute_result"
    },
    {
     "data": {
      "text/plain": [
       "Decimal('2')"
      ]
     },
     "execution_count": 80,
     "metadata": {},
     "output_type": "execute_result"
    },
    {
     "data": {
      "text/plain": [
       "Fraction(47, 91)"
      ]
     },
     "execution_count": 80,
     "metadata": {},
     "output_type": "execute_result"
    },
    {
     "data": {
      "text/plain": [
       "statistics.StatisticsError('mean requires at least one data point')"
      ]
     },
     "execution_count": 80,
     "metadata": {},
     "output_type": "execute_result"
    }
   ],
   "source": [
    "# mean -- average \n",
    "\n",
    "mean([1,2,3])\n",
    "mean([1,2,3.0])\n",
    "\n",
    "mean([D(1),D(2),D(3.0)])\n",
    "\n",
    "mean([F(3,7),F(9,13),F(3,7)])\n",
    "\n",
    "try:\n",
    "    mean([])  # can't be null\n",
    "except StatisticsError as err:\n",
    "    err"
   ]
  },
  {
   "cell_type": "code",
   "execution_count": 81,
   "metadata": {},
   "outputs": [
    {
     "data": {
      "text/plain": [
       "(5.166666666666667, 5.166666666666667)"
      ]
     },
     "execution_count": 81,
     "metadata": {},
     "output_type": "execute_result"
    },
    {
     "data": {
      "text/plain": [
       "3.6"
      ]
     },
     "execution_count": 81,
     "metadata": {},
     "output_type": "execute_result"
    },
    {
     "data": {
      "text/plain": [
       "3.5999999999999996"
      ]
     },
     "execution_count": 81,
     "metadata": {},
     "output_type": "execute_result"
    }
   ],
   "source": [
    "data = [2.5,3,10]\n",
    "\n",
    "# better check the source code \n",
    "\n",
    "mean(data), sum(data) / len(data)\n",
    "\n",
    "# 調和平均數\n",
    "harmonic_mean(data)\n",
    "len(data) / (1/data[0] + 1/data[1] + 1/data[2])"
   ]
  },
  {
   "cell_type": "code",
   "execution_count": 82,
   "metadata": {},
   "outputs": [
    {
     "data": {
      "text/plain": [
       "(3, 3.5)"
      ]
     },
     "execution_count": 82,
     "metadata": {},
     "output_type": "execute_result"
    },
    {
     "data": {
      "text/plain": [
       "(3, 3)"
      ]
     },
     "execution_count": 82,
     "metadata": {},
     "output_type": "execute_result"
    },
    {
     "data": {
      "text/plain": [
       "(3, 4)"
      ]
     },
     "execution_count": 82,
     "metadata": {},
     "output_type": "execute_result"
    },
    {
     "data": {
      "text/plain": [
       "(3.0, 3.5)"
      ]
     },
     "execution_count": 82,
     "metadata": {},
     "output_type": "execute_result"
    },
    {
     "data": {
      "text/plain": [
       "4.0"
      ]
     },
     "execution_count": 82,
     "metadata": {},
     "output_type": "execute_result"
    },
    {
     "data": {
      "text/plain": [
       "(2.5, 2.0)"
      ]
     },
     "execution_count": 82,
     "metadata": {},
     "output_type": "execute_result"
    }
   ],
   "source": [
    "# odd -> pick\n",
    "# even -> avg both\n",
    "median([1,3,5]), median([1,3,4,5])\n",
    "\n",
    "# odd  -> nice \n",
    "# even -> get the left/right one\n",
    "median_low([1,3,5]), median_low([1,3,4,5])\n",
    "median_high([1,3,5]), median_high([1,3,4,5])\n",
    "\n",
    "# go see the source code!\n",
    "median_grouped([1,3,5]), median_grouped([1,3,4,5])\n",
    "\n",
    "median_grouped([1,3,3,4,4,5,5,6])\n",
    "median_grouped([1,2,3,3],interval=1), median_grouped([1,2,3,3],interval=2)"
   ]
  },
  {
   "cell_type": "code",
   "execution_count": 83,
   "metadata": {},
   "outputs": [
    {
     "data": {
      "text/plain": [
       "6"
      ]
     },
     "execution_count": 83,
     "metadata": {},
     "output_type": "execute_result"
    },
    {
     "data": {
      "text/plain": [
       "'red'"
      ]
     },
     "execution_count": 83,
     "metadata": {},
     "output_type": "execute_result"
    }
   ],
   "source": [
    "mode([1,3,6,6])\n",
    "mode(['blue','red','red','yellow'])"
   ]
  },
  {
   "cell_type": "code",
   "execution_count": 84,
   "metadata": {},
   "outputs": [
    {
     "data": {
      "text/plain": [
       "0.21650635094610965"
      ]
     },
     "execution_count": 84,
     "metadata": {},
     "output_type": "execute_result"
    },
    {
     "data": {
      "text/plain": [
       "0.046875"
      ]
     },
     "execution_count": 84,
     "metadata": {},
     "output_type": "execute_result"
    },
    {
     "data": {
      "text/plain": [
       "(0.046875, 0.046875)"
      ]
     },
     "execution_count": 84,
     "metadata": {},
     "output_type": "execute_result"
    },
    {
     "data": {
      "text/plain": [
       "Decimal('0.046875')"
      ]
     },
     "execution_count": 84,
     "metadata": {},
     "output_type": "execute_result"
    },
    {
     "data": {
      "text/plain": [
       "Fraction(3, 64)"
      ]
     },
     "execution_count": 84,
     "metadata": {},
     "output_type": "execute_result"
    }
   ],
   "source": [
    "data = [1.5,2,2,2]\n",
    "\n",
    "# --- population --- \n",
    "\n",
    "# 標準差 \n",
    "pstdev(data) \n",
    "\n",
    "# 方差 \n",
    "round(pstdev(data) ** 2, 6)\n",
    "pvariance(data), pvariance(data,mean(data))\n",
    "\n",
    "# 方差 (for D,F)\n",
    "pvariance([ D(i) for i in data])  # D: decimal.Decimal\n",
    "pvariance([ F(i) for i in data])  # F: fractions.Fraction"
   ]
  },
  {
   "cell_type": "code",
   "execution_count": 98,
   "metadata": {},
   "outputs": [
    {
     "data": {
      "text/plain": [
       "1.171334200612195"
      ]
     },
     "execution_count": 98,
     "metadata": {},
     "output_type": "execute_result"
    },
    {
     "data": {
      "text/plain": [
       "1.3720238095238098"
      ]
     },
     "execution_count": 98,
     "metadata": {},
     "output_type": "execute_result"
    },
    {
     "data": {
      "text/plain": [
       "1.3720238095238095"
      ]
     },
     "execution_count": 98,
     "metadata": {},
     "output_type": "execute_result"
    },
    {
     "data": {
      "text/plain": [
       "(1.3720238095238095, 1.3720238095238095)"
      ]
     },
     "execution_count": 98,
     "metadata": {},
     "output_type": "execute_result"
    },
    {
     "data": {
      "text/plain": [
       "Decimal('1.372023809523809523809523809')"
      ]
     },
     "execution_count": 98,
     "metadata": {},
     "output_type": "execute_result"
    },
    {
     "data": {
      "text/plain": [
       "Fraction(461, 336)"
      ]
     },
     "execution_count": 98,
     "metadata": {},
     "output_type": "execute_result"
    }
   ],
   "source": [
    "data = [2.75, 1.75, 1.25, 0.25, 0.5, 1.25, 3.5]\n",
    "\n",
    "# --- sample --- \n",
    "\n",
    "stdev(data)\n",
    "stdev(data) ** 2\n",
    "\n",
    "variance(data) \n",
    "variance(data), variance(data,mean(data))\n",
    "\n",
    "# for D,F\n",
    "variance([ D(i) for i in data])  # D: decimal.Decimal\n",
    "variance([ F(i) for i in data])  # F: fractions.Fraction"
   ]
  }
 ],
 "metadata": {
  "kernelspec": {
   "display_name": "Python 3",
   "language": "python",
   "name": "python3"
  },
  "language_info": {
   "codemirror_mode": {
    "name": "ipython",
    "version": 3
   },
   "file_extension": ".py",
   "mimetype": "text/x-python",
   "name": "python",
   "nbconvert_exporter": "python",
   "pygments_lexer": "ipython3",
   "version": "3.6.5"
  }
 },
 "nbformat": 4,
 "nbformat_minor": 2
}
