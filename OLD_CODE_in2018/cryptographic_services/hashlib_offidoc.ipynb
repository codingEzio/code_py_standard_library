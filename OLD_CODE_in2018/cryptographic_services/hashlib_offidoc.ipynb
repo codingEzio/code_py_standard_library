{
 "cells": [
  {
   "cell_type": "markdown",
   "metadata": {},
   "source": [
    "#### I'm always curious about *Cryptography*!\n",
    "- Also, this one is also based on *Python* 3.7.0.\n",
    "- Here's the [link](https://docs.python.org/3/library/hashlib.html)."
   ]
  },
  {
   "cell_type": "markdown",
   "metadata": {},
   "source": [
    "#### Hash Algorithms"
   ]
  },
  {
   "cell_type": "code",
   "execution_count": 1,
   "metadata": {},
   "outputs": [
    {
     "data": {
      "text/plain": [
       "<sha256 HASH object @ 0x105e7f1c0>"
      ]
     },
     "execution_count": 1,
     "metadata": {},
     "output_type": "execute_result"
    },
    {
     "data": {
      "text/plain": [
       "'sha256'"
      ]
     },
     "execution_count": 1,
     "metadata": {},
     "output_type": "execute_result"
    },
    {
     "data": {
      "text/plain": [
       "b'\\xb5\\xf1\\x8am\\xafb\\x06J\\x9c\\x072\\xa0U\\xc1\\x10\\x8c~D\\x13\\xc9\\xba\\xc0\\xb8\\x1b\\xc8\\xfb\\x9a\\xe2\\xcdZo\\xb3'"
      ]
     },
     "execution_count": 1,
     "metadata": {},
     "output_type": "execute_result"
    },
    {
     "data": {
      "text/plain": [
       "'b5f18a6daf62064a9c0732a055c1108c7e4413c9bac0b81bc8fb9ae2cd5a6fb3'"
      ]
     },
     "execution_count": 1,
     "metadata": {},
     "output_type": "execute_result"
    },
    {
     "data": {
      "text/plain": [
       "32"
      ]
     },
     "execution_count": 1,
     "metadata": {},
     "output_type": "execute_result"
    },
    {
     "data": {
      "text/plain": [
       "64"
      ]
     },
     "execution_count": 1,
     "metadata": {},
     "output_type": "execute_result"
    }
   ],
   "source": [
    "import hashlib \n",
    "\n",
    "m = hashlib.sha256()\n",
    "\n",
    "m.update(b'hello')\n",
    "m.update(b' motherfucker')\n",
    "\n",
    "m\n",
    "m.name         # can be passed as a parameter to 'new()' (don't use it..)\n",
    "\n",
    "m.digest()\n",
    "m.hexdigest()\n",
    "\n",
    "m.digest_size  # the size of resulting hash (bytes)\n",
    "m.block_size   # the internal block size of the hash algorithm"
   ]
  },
  {
   "cell_type": "code",
   "execution_count": 2,
   "metadata": {},
   "outputs": [
    {
     "data": {
      "text/plain": [
       "32"
      ]
     },
     "execution_count": 2,
     "metadata": {},
     "output_type": "execute_result"
    },
    {
     "data": {
      "text/plain": [
       "14"
      ]
     },
     "execution_count": 2,
     "metadata": {},
     "output_type": "execute_result"
    }
   ],
   "source": [
    "algo_available = hashlib.algorithms_available\n",
    "algo_guarantee = hashlib.algorithms_guaranteed\n",
    "\n",
    "len(algo_available)  # available in the running Python interpreter \n",
    "len(algo_guarantee)  # means 'supported on ALL platforms'"
   ]
  },
  {
   "cell_type": "code",
   "execution_count": 3,
   "metadata": {},
   "outputs": [
    {
     "data": {
      "text/plain": [
       "b'\\xa0J\\xe8$\\xa0\\xa5U\\xe4\\xeb\\xdcb\\x1e|\\xa9XX\\x18\\xe3\\x8e.\\xde\\xf4?\\xa7\\x83[\\x0f\"'"
      ]
     },
     "execution_count": 3,
     "metadata": {},
     "output_type": "execute_result"
    },
    {
     "data": {
      "text/plain": [
       "'a04ae824a0a555e4ebdc621e7ca9585818e38e2edef43fa7835b0f22'"
      ]
     },
     "execution_count": 3,
     "metadata": {},
     "output_type": "execute_result"
    }
   ],
   "source": [
    "q = hashlib.sha224()\n",
    "\n",
    "# bytes\n",
    "q.update(b'hello')\n",
    "\n",
    "# u(a);u(b) => u(a+b)\n",
    "q.update(b'hashlib is fun')\n",
    "\n",
    "q.digest()     # contains bytes from 0 to 255 \n",
    "q.hexdigest()  # string object "
   ]
  },
  {
   "cell_type": "markdown",
   "metadata": {},
   "source": [
    "#### Key derivation"
   ]
  },
  {
   "cell_type": "code",
   "execution_count": 4,
   "metadata": {},
   "outputs": [
    {
     "data": {
      "text/plain": [
       "b'c30d41309b87c19900fea94bb41c60601d6000f0'"
      ]
     },
     "execution_count": 4,
     "metadata": {},
     "output_type": "execute_result"
    }
   ],
   "source": [
    "import hashlib, binascii\n",
    "\n",
    "dk = hashlib.pbkdf2_hmac(\n",
    "    'sha256',     # algorithms \n",
    "    b'123456',    # password\n",
    "    b'xxx',       # \"salt\" (should be >16 bytes & with random obj)          \n",
    "    1000,         # iterations \n",
    "    20            # the length of the derived key\n",
    ")\n",
    "\n",
    "# hexadecimal representation of bin data\n",
    "binascii.hexlify(dk)"
   ]
  },
  {
   "cell_type": "markdown",
   "metadata": {},
   "source": [
    "<hr>\n",
    "BLAKE2 -- another algorithm (same level as MD5, SHA-1 etc.)\n",
    "<hr>"
   ]
  },
  {
   "cell_type": "markdown",
   "metadata": {},
   "source": [
    "#### example - simple hashing"
   ]
  },
  {
   "cell_type": "code",
   "execution_count": 5,
   "metadata": {},
   "outputs": [],
   "source": [
    "from hashlib import blake2b"
   ]
  },
  {
   "cell_type": "code",
   "execution_count": 6,
   "metadata": {},
   "outputs": [
    {
     "data": {
      "text/plain": [
       "b'5~\\xfcq\\x1f\\xd94\\xef\\x80<*@\\x18\\xe2\\x8f\\xaaS\\xady\\x892\\r\\n\\x11\\x8c\\x87\\x99@\\xac\\x1f\\xc9=\\xf4\\\\u\\x16\\xf1\\xf6\\xc9\\x80\\x12@\\x84\\x8e,#:\\xf5N\\xfd(=\\x8e\\xd5\\x03^\\x03|\\xdc\\xe8b\\xf0\\x92\\xb6'"
      ]
     },
     "execution_count": 6,
     "metadata": {},
     "output_type": "execute_result"
    },
    {
     "data": {
      "text/plain": [
       "'357efc711fd934ef803c2a4018e28faa53ad7989320d0a118c879940ac1fc93df45c7516f1f6c9801240848e2c233af54efd283d8ed5035e037cdce862f092b6'"
      ]
     },
     "execution_count": 6,
     "metadata": {},
     "output_type": "execute_result"
    }
   ],
   "source": [
    "# basic procedures \n",
    "\n",
    "bp = blake2b()             # create hash object\n",
    "bp.update(b'hello blake')  # feed data\n",
    "\n",
    "bp.digest()                # show it \n",
    "bp.hexdigest()             # another way "
   ]
  },
  {
   "cell_type": "code",
   "execution_count": 7,
   "metadata": {},
   "outputs": [
    {
     "data": {
      "text/plain": [
       "'ea518cfece1201a856a114e0c52123700d6ae061101c1e1eb1a275d97bda600064dbc8aaadebf6070b6cf2ed3e86513767910479a2c33918b7fbf196e58f994b'"
      ]
     },
     "execution_count": 7,
     "metadata": {},
     "output_type": "execute_result"
    }
   ],
   "source": [
    "# do it in one line! \n",
    "blake2b(b'one line').hexdigest()"
   ]
  },
  {
   "cell_type": "code",
   "execution_count": 8,
   "metadata": {},
   "outputs": [
    {
     "data": {
      "text/plain": [
       "'898e6354eae8489b0dd786f7c1503b1953bde59e928c04246d9a0296eb24cd2e5c96820f0be901d0e73c1358f4d7aef9df19bfc74a0ec1c267d089c9492bd31b'"
      ]
     },
     "execution_count": 8,
     "metadata": {},
     "output_type": "execute_result"
    }
   ],
   "source": [
    "# u can 'update' many times \n",
    "\n",
    "um = blake2b()\n",
    "\n",
    "for item in [b'you',b'are',b'awesome']:\n",
    "    um.update(item)\n",
    "    \n",
    "um.hexdigest()"
   ]
  },
  {
   "cell_type": "markdown",
   "metadata": {},
   "source": [
    "#### example - digest size"
   ]
  },
  {
   "cell_type": "code",
   "execution_count": 9,
   "metadata": {},
   "outputs": [
    {
     "data": {
      "text/plain": [
       "'75d38b15cccd8657a5b5'"
      ]
     },
     "execution_count": 9,
     "metadata": {},
     "output_type": "execute_result"
    },
    {
     "data": {
      "text/plain": [
       "b'u\\xd3\\x8b\\x15\\xcc\\xcd\\x86W\\xa5\\xb5'"
      ]
     },
     "execution_count": 9,
     "metadata": {},
     "output_type": "execute_result"
    },
    {
     "data": {
      "text/plain": [
       "(10, 10)"
      ]
     },
     "execution_count": 9,
     "metadata": {},
     "output_type": "execute_result"
    }
   ],
   "source": [
    "# specifying digest sizes \n",
    "\n",
    "ds = blake2b(digest_size=10)\n",
    "ds.update(b'hey guys')\n",
    "\n",
    "ds.hexdigest()\n",
    "\n",
    "ds.digest()\n",
    "ds.digest_size, len(ds.digest())"
   ]
  },
  {
   "cell_type": "code",
   "execution_count": 10,
   "metadata": {},
   "outputs": [
    {
     "data": {
      "text/plain": [
       "'6fa1d8fcfd719046d762'"
      ]
     },
     "execution_count": 10,
     "metadata": {},
     "output_type": "execute_result"
    },
    {
     "data": {
      "text/plain": [
       "'b8e1dda3ac0aa3820ad2990b'"
      ]
     },
     "execution_count": 10,
     "metadata": {},
     "output_type": "execute_result"
    }
   ],
   "source": [
    "# objs with different digest-size \n",
    "#   have completely different outputs.\n",
    "\n",
    "blake2b(digest_size=10).hexdigest()\n",
    "blake2b(digest_size=12).hexdigest()"
   ]
  },
  {
   "cell_type": "markdown",
   "metadata": {},
   "source": [
    "#### example - keyed hashing"
   ]
  },
  {
   "cell_type": "code",
   "execution_count": 11,
   "metadata": {},
   "outputs": [
    {
     "data": {
      "text/plain": [
       "b'\\x86\\xb4\\xe4\\x02\\x11\\x13b5\\x16\\xa7F\\xd0\\xa1\\xa3\\xe3\\xc1'"
      ]
     },
     "execution_count": 11,
     "metadata": {},
     "output_type": "execute_result"
    },
    {
     "data": {
      "text/plain": [
       "'86b4e4021113623516a746d0a1a3e3c1'"
      ]
     },
     "execution_count": 11,
     "metadata": {},
     "output_type": "execute_result"
    }
   ],
   "source": [
    "kh = blake2b(key=b'pseudorandom key!',digest_size=16)\n",
    "\n",
    "kh.update(b'get a hex-coded 128b auth code')\n",
    "\n",
    "kh.digest()\n",
    "kh.hexdigest()"
   ]
  },
  {
   "cell_type": "code",
   "execution_count": 12,
   "metadata": {},
   "outputs": [
    {
     "data": {
      "text/plain": [
       "' A practical example (cookie stuff) '"
      ]
     },
     "execution_count": 12,
     "metadata": {},
     "output_type": "execute_result"
    },
    {
     "data": {
      "text/plain": [
       "\"user-John, b'0a68d1517ea621fbd338eb76f11a8f09'\""
      ]
     },
     "execution_count": 12,
     "metadata": {},
     "output_type": "execute_result"
    },
    {
     "data": {
      "text/plain": [
       "True"
      ]
     },
     "execution_count": 12,
     "metadata": {},
     "output_type": "execute_result"
    },
    {
     "data": {
      "text/plain": [
       "False"
      ]
     },
     "execution_count": 12,
     "metadata": {},
     "output_type": "execute_result"
    },
    {
     "data": {
      "text/plain": [
       "False"
      ]
     },
     "execution_count": 12,
     "metadata": {},
     "output_type": "execute_result"
    }
   ],
   "source": [
    "''' A practical example (cookie stuff) '''\n",
    "\n",
    "from hashlib import blake2b\n",
    "from hmac import compare_digest \n",
    "\n",
    "SECURE_KEY = b'random generated secrect key'\n",
    "AUTH_SIZE  = 16\n",
    "\n",
    "def sign(cookie):\n",
    "    h = blake2b(digest_size=AUTH_SIZE, key=SECURE_KEY)\n",
    "    h.update(cookie)\n",
    "    return h.hexdigest().encode('utf-8')\n",
    "\n",
    "def verify(cookie, sig):\n",
    "    good_sig = sign(cookie)\n",
    "    return compare_digest(good_sig, sig)\n",
    "\n",
    "\n",
    "cookie = b'user-John'\n",
    "sig    = sign(cookie)  # encode it \n",
    "\n",
    "# John - before/after encoding \n",
    "\"{0}, {1}\".format(cookie.decode('utf-8'),sig)\n",
    "\n",
    "verify(cookie, sig)          # plain-text(J) / encoded(J)\n",
    "verify(b'user-Bob', sig)     # other-text(B) / encoded(J)\n",
    "\n",
    "verify(cookie, b'32193182')  # plain-text(J) / encoded(Other)"
   ]
  },
  {
   "cell_type": "code",
   "execution_count": 13,
   "metadata": {},
   "outputs": [
    {
     "data": {
      "text/plain": [
       "'038d7996ebe18c0a0390595e1575c4dcbe25de93d5fdf238fa81ede665314304'"
      ]
     },
     "execution_count": 13,
     "metadata": {},
     "output_type": "execute_result"
    }
   ],
   "source": [
    "import hmac\n",
    "import hashlib \n",
    "\n",
    "# construct with 'hmac' module\n",
    "m = hmac.new(b'secrect key', digestmod=hashlib.blake2s)\n",
    "\n",
    "m.update(b'a message')\n",
    "m.hexdigest()"
   ]
  },
  {
   "cell_type": "markdown",
   "metadata": {},
   "source": [
    "#### example - randomized hashing"
   ]
  },
  {
   "cell_type": "code",
   "execution_count": 14,
   "metadata": {},
   "outputs": [
    {
     "data": {
      "text/plain": [
       "'8f944b4fd34a77d5cde18ea00af092df114b9e217d75704ce31e8c21265e8fba97c340f7fe3df01c2c96d35884e08f622bac4ebd298c91f81c0eac118dc278a6'"
      ]
     },
     "execution_count": 14,
     "metadata": {},
     "output_type": "execute_result"
    },
    {
     "data": {
      "text/plain": [
       "'9ee0b3573926d41ef28d0673f4eb7cae62ec99c344a83bbd4f3f2efd4455fee559ff286b68f26a71476983df5a57f05dfe4d2ed072583cae8c5c948602cc9492'"
      ]
     },
     "execution_count": 14,
     "metadata": {},
     "output_type": "execute_result"
    }
   ],
   "source": [
    "import os \n",
    "from hashlib import blake2b\n",
    "\n",
    "tips = ''' \n",
    "    Randomized hashing is used for \n",
    "    protecting against collision attacks on the hash function used in digital signatures.\n",
    "    \n",
    "    There's a warning (standard library):\n",
    "        Salted hashing (or just hashing) with BLAKE2 or any other \n",
    "        general-purpose cryptographic hash func, such as SHA-256, \n",
    "        is NOT suitable for hashing passwords.\n",
    "'''\n",
    "\n",
    "salt_one = os.urandom(blake2b.SALT_SIZE)\n",
    "salt_two = os.urandom(blake2b.SALT_SIZE)\n",
    "\n",
    "rh1 = blake2b(salt=salt_one)\n",
    "rh1.update(b'some message')\n",
    "\n",
    "rh2 = blake2b(salt=salt_two)\n",
    "rh2.update(b'some message')\n",
    "\n",
    "# NOT the same (cuz the random)\n",
    "rh1.hexdigest()\n",
    "rh2.hexdigest()"
   ]
  },
  {
   "cell_type": "markdown",
   "metadata": {},
   "source": [
    "#### example - personalization"
   ]
  },
  {
   "cell_type": "code",
   "execution_count": 15,
   "metadata": {},
   "outputs": [
    {
     "data": {
      "text/plain": [
       "' Adding attribute: \"person\" '"
      ]
     },
     "execution_count": 15,
     "metadata": {},
     "output_type": "execute_result"
    },
    {
     "data": {
      "text/plain": [
       "'a7da3398cca486f7e0d03ec22a837ee67b97328a42fd15363f4c404888a3f6a2'"
      ]
     },
     "execution_count": 15,
     "metadata": {},
     "output_type": "execute_result"
    },
    {
     "data": {
      "text/plain": [
       "'d29c972cf442ab3aad75500f1348b767c06496a1e7a0d95caf4440343f96977d'"
      ]
     },
     "execution_count": 15,
     "metadata": {},
     "output_type": "execute_result"
    }
   ],
   "source": [
    "from hashlib import blake2b\n",
    "\n",
    "''' Adding attribute: \"person\" '''\n",
    "\n",
    "FILES_HASH_PERSON = b'myapp Files hash'\n",
    "BLOCK_HASH_PERSON = b'myapp Block hash'\n",
    "\n",
    "hp1 = blake2b(digest_size=32, person=FILES_HASH_PERSON)\n",
    "hp1.update(b'same content')\n",
    "\n",
    "hp2 = blake2b(digest_size=32, person=BLOCK_HASH_PERSON)\n",
    "hp2.update(b'same content')\n",
    "\n",
    "hp1.hexdigest()\n",
    "hp2.hexdigest()"
   ]
  },
  {
   "cell_type": "code",
   "execution_count": 16,
   "metadata": {},
   "outputs": [
    {
     "data": {
      "text/plain": [
       "'rbPb15S/Z9t+agffno5wuhB77VbRi6F9Iv2qIxU7WHw='"
      ]
     },
     "execution_count": 16,
     "metadata": {},
     "output_type": "execute_result"
    },
    {
     "data": {
      "text/plain": [
       "'G9GtHFE1YluXY1zWPlYk1e/nWfu0WSEb0KRcjhDeP/o='"
      ]
     },
     "execution_count": 16,
     "metadata": {},
     "output_type": "execute_result"
    }
   ],
   "source": [
    "from hashlib import blake2s\n",
    "from base64 import b64encode, b64decode\n",
    "\n",
    "tips = '''\n",
    "    Personalization with the keyed mode can also \n",
    "    be used to [derived different keys from a single one].\n",
    "'''\n",
    "\n",
    "# copied from standard library \n",
    "_key = b'Rm5EPJai72qcK3RGBpW3vPNfZy5OZothY+kHY6h21KM='\n",
    "\n",
    "orig_key = b64decode(_key)\n",
    "\n",
    "# hashing & showing it \n",
    "enc_key = blake2s(key=orig_key, person=b'kEncrypt').digest()\n",
    "mac_key = blake2s(key=orig_key, person=b'kMAC').digest()\n",
    "\n",
    "# encode the b'xxx' with base64 \n",
    "b64encode(enc_key).decode('utf-8') \n",
    "b64encode(mac_key).decode('utf-8')"
   ]
  },
  {
   "cell_type": "markdown",
   "metadata": {},
   "source": [
    "#### example - tree mode"
   ]
  },
  {
   "cell_type": "code",
   "execution_count": 17,
   "metadata": {},
   "outputs": [],
   "source": [
    "#  10\n",
    "#  / \\\n",
    "# 00 01\n",
    "\n",
    "from hashlib import blake2b\n",
    "\n",
    "# data\n",
    "\n",
    "FANOUT     = 2\n",
    "DEPTH      = 2 \n",
    "LEAF_SIZE  = 4096\n",
    "INNER_SIZE = 64\n",
    "\n",
    "buf = bytearray(6000)"
   ]
  },
  {
   "cell_type": "code",
   "execution_count": 18,
   "metadata": {},
   "outputs": [
    {
     "data": {
      "text/plain": [
       "'9c3d2354abe4248873c284440540b01aa3a11c52b659226e8c1e9cbd3fcc4a93'"
      ]
     },
     "execution_count": 18,
     "metadata": {},
     "output_type": "execute_result"
    },
    {
     "data": {
      "text/plain": [
       "'3ad2a9b37c6070e374c7a8c508fe20ca86b6ed54e286e93a0318e95e881db5aa'"
      ]
     },
     "execution_count": 18,
     "metadata": {},
     "output_type": "execute_result"
    }
   ],
   "source": [
    "# Left leaf \n",
    "h00 = blake2b(\n",
    "    buf[0:LEAF_SIZE], \n",
    "    \n",
    "    fanout=FANOUT,\n",
    "    depth=DEPTH,\n",
    "    leaf_size=LEAF_SIZE, \n",
    "    inner_size = INNER_SIZE,\n",
    "    \n",
    "    node_offset=0, \n",
    "    node_depth=0, \n",
    "    last_node=False \n",
    ")\n",
    "\n",
    "# Right leaf \n",
    "h01 = blake2b(\n",
    "    buf[LEAF_SIZE:], \n",
    "    \n",
    "    fanout=FANOUT,\n",
    "    depth=DEPTH,\n",
    "    leaf_size=LEAF_SIZE, \n",
    "    inner_size = INNER_SIZE,\n",
    "    \n",
    "    node_offset=1, \n",
    "    node_depth=0, \n",
    "    last_node=True \n",
    ")\n",
    "\n",
    "# Root leaf \n",
    "h10 = blake2b(\n",
    "    digest_size=32,\n",
    "    \n",
    "    fanout=FANOUT,\n",
    "    depth=DEPTH,\n",
    "    leaf_size=LEAF_SIZE, \n",
    "    inner_size = INNER_SIZE,\n",
    "    \n",
    "    node_offset=0, \n",
    "    node_depth=1, \n",
    "    last_node=True \n",
    ")\n",
    "\n",
    "\n",
    "h10.hexdigest()\n",
    "\n",
    "h10.update(h00.digest())\n",
    "h10.update(h01.digest())\n",
    "\n",
    "h10.hexdigest()"
   ]
  }
 ],
 "metadata": {
  "kernelspec": {
   "display_name": "Python 3",
   "language": "python",
   "name": "python3"
  },
  "language_info": {
   "codemirror_mode": {
    "name": "ipython",
    "version": 3
   },
   "file_extension": ".py",
   "mimetype": "text/x-python",
   "name": "python",
   "nbconvert_exporter": "python",
   "pygments_lexer": "ipython3",
   "version": "3.6.5"
  }
 },
 "nbformat": 4,
 "nbformat_minor": 2
}
