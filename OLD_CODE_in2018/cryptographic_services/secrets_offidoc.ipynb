{
 "cells": [
  {
   "cell_type": "markdown",
   "metadata": {
    "deletable": false,
    "editable": false,
    "run_control": {
     "frozen": true
    }
   },
   "source": [
    "#### Sources\n",
    "- 鏈接在此: [link](https://docs.python.org/3/library/secrets.html)\n",
    "- 注意: **新于 Python 3.7.0 出現的函數 不會在此測試**."
   ]
  },
  {
   "cell_type": "code",
   "execution_count": 1,
   "metadata": {},
   "outputs": [],
   "source": [
    "before_using_it = '''\n",
    "    The 'secrets' module is used for \n",
    "        generating cryptographically strong random numbers \n",
    "        which is suitable for managing data such as pwd, account auth etc. \n",
    "    In particularly, it should be \n",
    "        used in preference to the default pseudo-random generator in 'random',\n",
    "        it's designed for modelling and simulation, not security or cryptography.\n",
    "    \n",
    "    ----- In short, you SHOULD USE 'secrets' module. ----\n",
    "'''"
   ]
  },
  {
   "cell_type": "code",
   "execution_count": 2,
   "metadata": {},
   "outputs": [
    {
     "data": {
      "text/plain": [
       "(54, 54)"
      ]
     },
     "execution_count": 2,
     "metadata": {},
     "output_type": "execute_result"
    }
   ],
   "source": [
    "import random\n",
    "import secrets\n",
    "\n",
    "# use these by creating an instance\n",
    "rsr = random.SystemRandom()\n",
    "ssr = secrets.SystemRandom()\n",
    "\n",
    "# the same? I didn't check each one of them\n",
    "len(rsr.__dir__()), len(ssr.__dir__())"
   ]
  },
  {
   "cell_type": "markdown",
   "metadata": {},
   "source": [
    "#### random numbers"
   ]
  },
  {
   "cell_type": "code",
   "execution_count": 3,
   "metadata": {
    "collapsed": true
   },
   "outputs": [
    {
     "data": {
      "text/plain": [
       "'BlockChain'"
      ]
     },
     "execution_count": 3,
     "metadata": {},
     "output_type": "execute_result"
    },
    {
     "data": {
      "text/plain": [
       "27"
      ]
     },
     "execution_count": 3,
     "metadata": {},
     "output_type": "execute_result"
    },
    {
     "data": {
      "text/plain": [
       "1"
      ]
     },
     "execution_count": 3,
     "metadata": {},
     "output_type": "execute_result"
    },
    {
     "data": {
      "text/plain": [
       "1277707410252733006346419587565688351"
      ]
     },
     "execution_count": 3,
     "metadata": {},
     "output_type": "execute_result"
    }
   ],
   "source": [
    "options = [\n",
    "    'Base64',\n",
    "    'Descriptor',\n",
    "    'BlockChain', \n",
    "    'Cryptography',\n",
    "]\n",
    "\n",
    "secrets.choice(options)  \n",
    "\n",
    "secrets.randbelow(30)  # an random int in [0, n)\n",
    "\n",
    "secrets.randbits(1)    # an int with k random bits\n",
    "secrets.randbits(120)"
   ]
  },
  {
   "cell_type": "markdown",
   "metadata": {},
   "source": [
    "#### generating tokens"
   ]
  },
  {
   "cell_type": "code",
   "execution_count": 4,
   "metadata": {},
   "outputs": [
    {
     "data": {
      "text/plain": [
       "b'\\xdc\\xa5\\xb8\\x9d\\xeeTK*kc\\xcfK\\x02Vo\\xab3w\\x00\\xf00\\xd60\\xb6\\xfc@\\xe8$\\xc8\\xa3\\x16\\xef'"
      ]
     },
     "execution_count": 4,
     "metadata": {},
     "output_type": "execute_result"
    },
    {
     "data": {
      "text/plain": [
       "'667c551eb6dea1b71da7e007ca9209e4efcdffb2dd99474a4b475f31cc6e592a'"
      ]
     },
     "execution_count": 4,
     "metadata": {},
     "output_type": "execute_result"
    },
    {
     "data": {
      "text/plain": [
       "'kQVpAlY3dYxbExQeHCAxlrhAFmpvsrQ8LwFqRIg_mj4'"
      ]
     },
     "execution_count": 4,
     "metadata": {},
     "output_type": "execute_result"
    },
    {
     "data": {
      "text/plain": [
       "True"
      ]
     },
     "execution_count": 4,
     "metadata": {},
     "output_type": "execute_result"
    }
   ],
   "source": [
    "aim = ''' \n",
    "    The secure tokens is suitable for\n",
    "    applications such password resets, hard-to-guess urls, and similar.   \n",
    "'''\n",
    "\n",
    "tip = '''\n",
    "    The default 'nbytes' is ant integer. \n",
    "        For now, the 32 bytes is the default.\n",
    "        Of course, you can specify your own token length.\n",
    "    \n",
    "    It was used to make tokens have sufficient randomness (against attack).\n",
    "     \n",
    "    And note: \n",
    "        the default is subject to change at any time,\n",
    "        including during maintenance releases. (XD)\n",
    "'''\n",
    "\n",
    "# nbytes=32\n",
    "tb1 = secrets.token_bytes()    # byte string \n",
    "tb2 = secrets.token_bytes(20)  \n",
    "\n",
    "# nbytes=64\n",
    "th1 = secrets.token_hex()      # text string in hexadecimal\n",
    "th2 = secrets.token_hex(20)  \n",
    "\n",
    "# nbytes=43\n",
    "tu1 = secrets.token_urlsafe()  # random URL-safe text string \n",
    "tu2 = secrets.token_urlsafe(9)\n",
    "\n",
    "\n",
    "# default \n",
    "tb1        # token_bytes()\n",
    "th1        # token_hex() \n",
    "tu1        # token_urlsafe()\n",
    "\n",
    "# compare!\n",
    "secrets.compare_digest(tu1,tu1)"
   ]
  },
  {
   "cell_type": "markdown",
   "metadata": {},
   "source": [
    "#### recipes and best practices"
   ]
  },
  {
   "cell_type": "code",
   "execution_count": 16,
   "metadata": {},
   "outputs": [
    {
     "data": {
      "text/plain": [
       "'3efpgD6F0FrU'"
      ]
     },
     "execution_count": 16,
     "metadata": {},
     "output_type": "execute_result"
    }
   ],
   "source": [
    "from string import ascii_letters, digits\n",
    "from secrets import choice\n",
    "\n",
    "a_basic_password = ''' \n",
    "    generate an 12-char alphanumeric password \n",
    "'''\n",
    "\n",
    "alphab = ascii_letters + digits\n",
    "passwd = ''.join(choice(alphab) for i in range(12))\n",
    "\n",
    "# Btw, applications should NOT \n",
    "#   store pwds in a Recoverable format, whether plain text or encrypted.\n",
    "# They should be Salted and Hashed \n",
    "#   using a cryptographically-strong one-way(irreversible) hash function. \n",
    "passwd"
   ]
  },
  {
   "cell_type": "code",
   "execution_count": 18,
   "metadata": {},
   "outputs": [
    {
     "data": {
      "text/plain": [
       "'Oyl83knrk6'"
      ]
     },
     "execution_count": 18,
     "metadata": {},
     "output_type": "execute_result"
    }
   ],
   "source": [
    "create_a_password = '''\n",
    "  Generate a ten-char alphanumeric pwd \n",
    "    with at least one   lowercase char, \n",
    "         at lease one   uppercase char, \n",
    "    and  at lease three           digits. \n",
    "'''\n",
    "\n",
    "alphab = ascii_letters + digits\n",
    "\n",
    "while True:\n",
    "    password = ''.join(choice(alphab) for i in range(10))\n",
    "    if ( any( c.islower() for c in password ) \n",
    "        and any( c.isupper() for c in password ) \n",
    "        and sum( c.isdigit() for c in password ) >= 3\n",
    "    ):\n",
    "        break\n",
    "        \n",
    "password"
   ]
  },
  {
   "cell_type": "code",
   "execution_count": 23,
   "metadata": {},
   "outputs": [
    {
     "data": {
      "text/plain": [
       "'https://example.com/reset=JpQ3YBXNlEw-rQ'"
      ]
     },
     "execution_count": 23,
     "metadata": {},
     "output_type": "execute_result"
    }
   ],
   "source": [
    "# Generate a hard-to-guess temporary \n",
    "#   URL containing a security token \n",
    "#   suitable for password recovery applications \n",
    "\n",
    "url = 'https://example.com/reset=' + secrets.token_urlsafe(10)\n",
    "url"
   ]
  }
 ],
 "metadata": {
  "kernelspec": {
   "display_name": "Python 3",
   "language": "python",
   "name": "python3"
  },
  "language_info": {
   "codemirror_mode": {
    "name": "ipython",
    "version": 3
   },
   "file_extension": ".py",
   "mimetype": "text/x-python",
   "name": "python",
   "nbconvert_exporter": "python",
   "pygments_lexer": "ipython3",
   "version": "3.6.5"
  }
 },
 "nbformat": 4,
 "nbformat_minor": 2
}
