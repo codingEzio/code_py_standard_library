{
 "cells": [
  {
   "cell_type": "markdown",
   "metadata": {},
   "source": [
    "<hr>\n",
    "Link : [An introduction to the ipaddress module](https://docs.python.org/3/howto/ipaddress.html)\n",
    "<hr>"
   ]
  },
  {
   "cell_type": "code",
   "execution_count": 1,
   "metadata": {},
   "outputs": [],
   "source": [
    "from ipaddress import *"
   ]
  },
  {
   "cell_type": "markdown",
   "metadata": {},
   "source": [
    "#### create "
   ]
  },
  {
   "cell_type": "code",
   "execution_count": 2,
   "metadata": {},
   "outputs": [
    {
     "data": {
      "text/plain": [
       "IPv4Address('192.0.2.1')"
      ]
     },
     "execution_count": 2,
     "metadata": {},
     "output_type": "execute_result"
    },
    {
     "data": {
      "text/plain": [
       "IPv6Address('2002:d99::11')"
      ]
     },
     "execution_count": 2,
     "metadata": {},
     "output_type": "execute_result"
    },
    {
     "data": {
      "text/plain": [
       "IPv4Address('19.222.197.138')"
      ]
     },
     "execution_count": 2,
     "metadata": {},
     "output_type": "execute_result"
    },
    {
     "data": {
      "text/plain": [
       "IPv6Address('::da:b83d:f7c1')"
      ]
     },
     "execution_count": 2,
     "metadata": {},
     "output_type": "execute_result"
    },
    {
     "data": {
      "text/plain": [
       "IPv4Address('0.0.0.20')"
      ]
     },
     "execution_count": 2,
     "metadata": {},
     "output_type": "execute_result"
    },
    {
     "data": {
      "text/plain": [
       "IPv6Address('::14')"
      ]
     },
     "execution_count": 2,
     "metadata": {},
     "output_type": "execute_result"
    }
   ],
   "source": [
    "# two ways: [str, int]\n",
    "\n",
    "ip_address('192.0.2.1')\n",
    "ip_address('2002:D99::11')\n",
    "\n",
    "ip_address(333366666) \n",
    "ip_address(939393939393)\n",
    "\n",
    "# or like this \n",
    "\n",
    "IPv4Address(20)\n",
    "IPv6Address(20)"
   ]
  },
  {
   "cell_type": "code",
   "execution_count": 3,
   "metadata": {},
   "outputs": [
    {
     "data": {
      "text/plain": [
       "IPv4Network('192.168.1.0/24')"
      ]
     },
     "execution_count": 3,
     "metadata": {},
     "output_type": "execute_result"
    },
    {
     "data": {
      "text/plain": [
       "IPv6Network('2001:db8::/128')"
      ]
     },
     "execution_count": 3,
     "metadata": {},
     "output_type": "execute_result"
    },
    {
     "data": {
      "text/plain": [
       "IPv4Network('0.219.113.126/32')"
      ]
     },
     "execution_count": 3,
     "metadata": {},
     "output_type": "execute_result"
    },
    {
     "data": {
      "text/plain": [
       "IPv6Network('::66:14f7:a626/128')"
      ]
     },
     "execution_count": 3,
     "metadata": {},
     "output_type": "execute_result"
    },
    {
     "name": "stdout",
     "output_type": "stream",
     "text": [
      "\n"
     ]
    },
    {
     "data": {
      "text/plain": [
       "IPv4Network('192.168.1.100/32')"
      ]
     },
     "execution_count": 3,
     "metadata": {},
     "output_type": "execute_result"
    },
    {
     "data": {
      "text/plain": [
       "IPv4Network('192.168.1.0/24')"
      ]
     },
     "execution_count": 3,
     "metadata": {},
     "output_type": "execute_result"
    },
    {
     "data": {
      "text/plain": [
       "ValueError('192.168.1.100/24 has host bits set')"
      ]
     },
     "execution_count": 3,
     "metadata": {},
     "output_type": "execute_result"
    }
   ],
   "source": [
    "# These are 'Networks', not host addr\n",
    "\n",
    "ip_network('192.168.1.0/24')\n",
    "ip_network('2001:db8::0/128')\n",
    "\n",
    "# number? totally fine.\n",
    "ip_network(14381438)\n",
    "ip_network(438438438438)\n",
    "\n",
    "try:\n",
    "    print()  # aha!\n",
    "    \n",
    "    # It's fine without mask\n",
    "    ip_network('192.168.1.100')\n",
    "        \n",
    "    # you can set the flag to skip it.\n",
    "    ip_network('192.168.1.100/24',strict=False)\n",
    "    \n",
    "    # the error was cause by this line!\n",
    "    ip_network('192.168.1.100/24')\n",
    "    \n",
    "except ValueError as err:\n",
    "    err"
   ]
  },
  {
   "cell_type": "code",
   "execution_count": 4,
   "metadata": {},
   "outputs": [
    {
     "data": {
      "text/plain": [
       "IPv4Interface('192.168.1.1/24')"
      ]
     },
     "execution_count": 4,
     "metadata": {},
     "output_type": "execute_result"
    },
    {
     "data": {
      "text/plain": [
       "IPv6Interface('2001:db9::1/96')"
      ]
     },
     "execution_count": 4,
     "metadata": {},
     "output_type": "execute_result"
    }
   ],
   "source": [
    "# Host interfaces ( used on a particular network )\n",
    "ip_interface('192.168.1.1/24')\n",
    "ip_interface('2001:db9::1/96')"
   ]
  },
  {
   "cell_type": "code",
   "execution_count": 5,
   "metadata": {},
   "outputs": [
    {
     "data": {
      "text/plain": [
       "IPv4Interface('26.34.10.38/32')"
      ]
     },
     "execution_count": 5,
     "metadata": {},
     "output_type": "execute_result"
    },
    {
     "data": {
      "text/plain": [
       "IPv4Interface('0.0.0.66/32')"
      ]
     },
     "execution_count": 5,
     "metadata": {},
     "output_type": "execute_result"
    },
    {
     "data": {
      "text/plain": [
       "IPv4Interface('0.0.0.20/32')"
      ]
     },
     "execution_count": 5,
     "metadata": {},
     "output_type": "execute_result"
    },
    {
     "data": {
      "text/plain": [
       "IPv4Interface('192.168.1.100/32')"
      ]
     },
     "execution_count": 5,
     "metadata": {},
     "output_type": "execute_result"
    }
   ],
   "source": [
    "# here's some ways to create a ip xxx object \n",
    "#   just like the other types! (network, host, interface)\n",
    "\n",
    "ip_interface(438438438)\n",
    "ip_interface(ip_address(66))\n",
    "ip_interface(IPv4Address(20))\n",
    "ip_interface(ip_network('192.168.1.100'))"
   ]
  },
  {
   "cell_type": "markdown",
   "metadata": {},
   "source": [
    "#### inspect"
   ]
  },
  {
   "cell_type": "code",
   "execution_count": 6,
   "metadata": {},
   "outputs": [
    {
     "data": {
      "text/plain": [
       "4"
      ]
     },
     "execution_count": 6,
     "metadata": {},
     "output_type": "execute_result"
    },
    {
     "data": {
      "text/plain": [
       "('70.174.6.56', '70.174.6.56')"
      ]
     },
     "execution_count": 6,
     "metadata": {},
     "output_type": "execute_result"
    },
    {
     "data": {
      "text/plain": [
       "6"
      ]
     },
     "execution_count": 6,
     "metadata": {},
     "output_type": "execute_result"
    },
    {
     "data": {
      "text/plain": [
       "('2001:cdba::3257:9652', '2001:cdba:0000:0000:0000:0000:3257:9652')"
      ]
     },
     "execution_count": 6,
     "metadata": {},
     "output_type": "execute_result"
    }
   ],
   "source": [
    "addr4 = ip_address('70.174.6.56')\n",
    "addr6 = ip_address('2001:cdba::3257:9652')\n",
    "\n",
    "addr4.version\n",
    "addr4.compressed, addr4.exploded  # same text for v4\n",
    "\n",
    "addr6.version\n",
    "addr6.compressed, addr6.exploded  # hmm, nice!"
   ]
  },
  {
   "cell_type": "code",
   "execution_count": 7,
   "metadata": {},
   "outputs": [
    {
     "data": {
      "text/plain": [
       "IPv4Network('70.174.6.0/32')"
      ]
     },
     "execution_count": 7,
     "metadata": {},
     "output_type": "execute_result"
    },
    {
     "data": {
      "text/plain": [
       "IPv6Network('2001:db8::/96')"
      ]
     },
     "execution_count": 7,
     "metadata": {},
     "output_type": "execute_result"
    }
   ],
   "source": [
    "host4 = ip_interface('70.174.6.0')\n",
    "host6 = ip_interface('2001:db8::0/96')\n",
    "\n",
    "# basic info\n",
    "host4.network\n",
    "host6.network"
   ]
  },
  {
   "cell_type": "code",
   "execution_count": 8,
   "metadata": {},
   "outputs": [
    {
     "data": {
      "text/plain": [
       "256"
      ]
     },
     "execution_count": 8,
     "metadata": {},
     "output_type": "execute_result"
    },
    {
     "data": {
      "text/plain": [
       "4294967296"
      ]
     },
     "execution_count": 8,
     "metadata": {},
     "output_type": "execute_result"
    },
    {
     "name": "stdout",
     "output_type": "stream",
     "text": [
      "Address: 192.0.2.1\n",
      "Address: 192.0.2.2\n",
      "Address: 192.0.2.3\n"
     ]
    },
    {
     "data": {
      "text/plain": [
       "(IPv4Address('192.0.2.1'), IPv4Address('192.0.2.10'))"
      ]
     },
     "execution_count": 8,
     "metadata": {},
     "output_type": "execute_result"
    },
    {
     "data": {
      "text/plain": [
       "(IPv6Address('2001:db8::1'), IPv6Address('2001:db8::a'))"
      ]
     },
     "execution_count": 8,
     "metadata": {},
     "output_type": "execute_result"
    },
    {
     "data": {
      "text/plain": [
       "True"
      ]
     },
     "execution_count": 8,
     "metadata": {},
     "output_type": "execute_result"
    },
    {
     "data": {
      "text/plain": [
       "True"
      ]
     },
     "execution_count": 8,
     "metadata": {},
     "output_type": "execute_result"
    }
   ],
   "source": [
    "net4 = ip_network('192.0.2.0/24')\n",
    "net6 = ip_network('2001:db8::0/96')\n",
    "\n",
    "# how many individual addrs are in the 'network'\n",
    "net4.num_addresses\n",
    "net6.num_addresses\n",
    "\n",
    "# 'usable' addrs \n",
    "for i,addr in enumerate(net4.hosts()):\n",
    "    if i < 3:\n",
    "        print('Address:',addr) \n",
    "    else:\n",
    "        pass\n",
    "\n",
    "# or accessing it directly \n",
    "net4[1], net4[10]\n",
    "net6[1], net6[10]\n",
    "\n",
    "# 'in' it or not\n",
    "ip_address('192.0.2.100') in net4\n",
    "ip_address('2001:db8::100') in net6"
   ]
  },
  {
   "cell_type": "code",
   "execution_count": 9,
   "metadata": {},
   "outputs": [
    {
     "data": {
      "text/plain": [
       "IPv4Address('192.0.2.0')"
      ]
     },
     "execution_count": 9,
     "metadata": {},
     "output_type": "execute_result"
    },
    {
     "data": {
      "text/plain": [
       "'192.0.2.0/255.255.255.0'"
      ]
     },
     "execution_count": 9,
     "metadata": {},
     "output_type": "execute_result"
    },
    {
     "data": {
      "text/plain": [
       "IPv4Address('0.0.0.255')"
      ]
     },
     "execution_count": 9,
     "metadata": {},
     "output_type": "execute_result"
    },
    {
     "data": {
      "text/plain": [
       "IPv4Address('255.255.255.0')"
      ]
     },
     "execution_count": 9,
     "metadata": {},
     "output_type": "execute_result"
    }
   ],
   "source": [
    "# netmask for v4\n",
    "\n",
    "ip_network('192.0.2.0/24').network_address\n",
    "ip_network('192.0.2.0/24').with_netmask\n",
    "\n",
    "ip_network('192.0.2.0/24').hostmask\n",
    "ip_network('192.0.2.0/24').netmask"
   ]
  },
  {
   "cell_type": "code",
   "execution_count": 10,
   "metadata": {},
   "outputs": [
    {
     "data": {
      "text/plain": [
       "IPv6Address('2001:db8::')"
      ]
     },
     "execution_count": 10,
     "metadata": {},
     "output_type": "execute_result"
    },
    {
     "data": {
      "text/plain": [
       "'2001:db8::/ffff:ffff:ffff:ffff:ffff:ffff::'"
      ]
     },
     "execution_count": 10,
     "metadata": {},
     "output_type": "execute_result"
    },
    {
     "data": {
      "text/plain": [
       "IPv6Address('::ffff:ffff')"
      ]
     },
     "execution_count": 10,
     "metadata": {},
     "output_type": "execute_result"
    },
    {
     "data": {
      "text/plain": [
       "IPv6Address('ffff:ffff:ffff:ffff:ffff:ffff::')"
      ]
     },
     "execution_count": 10,
     "metadata": {},
     "output_type": "execute_result"
    }
   ],
   "source": [
    "# netmask for v6\n",
    "\n",
    "ip_network('2001:db8::0/96').network_address\n",
    "ip_network('2001:db8::0/96').with_netmask\n",
    "\n",
    "ip_network('2001:db8::0/96').hostmask\n",
    "ip_network('2001:db8::0/96').netmask"
   ]
  },
  {
   "cell_type": "markdown",
   "metadata": {},
   "source": [
    "#### Comparison"
   ]
  },
  {
   "cell_type": "code",
   "execution_count": 11,
   "metadata": {},
   "outputs": [
    {
     "data": {
      "text/plain": [
       "True"
      ]
     },
     "execution_count": 11,
     "metadata": {},
     "output_type": "execute_result"
    },
    {
     "data": {
      "text/plain": [
       "True"
      ]
     },
     "execution_count": 11,
     "metadata": {},
     "output_type": "execute_result"
    },
    {
     "data": {
      "text/plain": [
       "True"
      ]
     },
     "execution_count": 11,
     "metadata": {},
     "output_type": "execute_result"
    },
    {
     "data": {
      "text/plain": [
       "True"
      ]
     },
     "execution_count": 11,
     "metadata": {},
     "output_type": "execute_result"
    }
   ],
   "source": [
    "# just use it!\n",
    "\n",
    "ip_address('127.0.0.1') > ip_address('127.0.0.0')\n",
    "IPv4Address('70.174.16.15') > IPv4Address('70.174.16.5')\n",
    "\n",
    "ip_network('13.13.13.13') == ip_network('13.13.13.13')\n",
    "ip_interface('13.13.13.13') == ip_interface('13.13.13.13')"
   ]
  },
  {
   "cell_type": "markdown",
   "metadata": {},
   "source": [
    "#### Using it with other modules"
   ]
  },
  {
   "cell_type": "code",
   "execution_count": 12,
   "metadata": {},
   "outputs": [
    {
     "data": {
      "text/plain": [
       "'192.162.0.100'"
      ]
     },
     "execution_count": 12,
     "metadata": {},
     "output_type": "execute_result"
    },
    {
     "data": {
      "text/plain": [
       "3231842404"
      ]
     },
     "execution_count": 12,
     "metadata": {},
     "output_type": "execute_result"
    }
   ],
   "source": [
    "addr4 = ip_address('192.162.0.100')\n",
    "\n",
    "# these are acceptable (for other modules)\n",
    "addr4.__str__()  \n",
    "addr4.__int__()  "
   ]
  },
  {
   "cell_type": "markdown",
   "metadata": {},
   "source": [
    "#### About error handling"
   ]
  },
  {
   "cell_type": "code",
   "execution_count": 13,
   "metadata": {},
   "outputs": [
    {
     "data": {
      "text/plain": [
       "ValueError(\"'192.168.0.256' does not appear to be an IPv4 or IPv6 address\")"
      ]
     },
     "execution_count": 13,
     "metadata": {},
     "output_type": "execute_result"
    },
    {
     "data": {
      "text/plain": [
       "ipaddress.AddressValueError(\"Octet 256 (> 255) not permitted in '192.168.0.256'\")"
      ]
     },
     "execution_count": 13,
     "metadata": {},
     "output_type": "execute_result"
    }
   ],
   "source": [
    "try:\n",
    "    ip_address(\"192.168.0.256\")   # factory functions \n",
    "except ValueError as err:\n",
    "    err                           # all as ValueError\n",
    "\n",
    "    \n",
    "try:\n",
    "    IPv4Address(\"192.168.0.256\")  # class constructors \n",
    "except Exception as err:\n",
    "    err                           # much more detailed"
   ]
  },
  {
   "cell_type": "code",
   "execution_count": 14,
   "metadata": {},
   "outputs": [
    {
     "data": {
      "text/plain": [
       "ValueError(\"'192.168.0.1/64' does not appear to be an IPv4 or IPv6 network\")"
      ]
     },
     "execution_count": 14,
     "metadata": {},
     "output_type": "execute_result"
    },
    {
     "data": {
      "text/plain": [
       "ipaddress.NetmaskValueError(\"'64' is not a valid netmask\")"
      ]
     },
     "execution_count": 14,
     "metadata": {},
     "output_type": "execute_result"
    }
   ],
   "source": [
    "# This one is about 'NetmaskValueError'\n",
    "\n",
    "try:\n",
    "    ip_network(\"192.168.0.1/64\")\n",
    "except ValueError as err:\n",
    "    err\n",
    "\n",
    "try:\n",
    "    IPv4Network(\"192.168.0.1/64\")\n",
    "except Exception as err:\n",
    "    err"
   ]
  }
 ],
 "metadata": {
  "kernelspec": {
   "display_name": "Python 3",
   "language": "python",
   "name": "python3"
  },
  "language_info": {
   "codemirror_mode": {
    "name": "ipython",
    "version": 3
   },
   "file_extension": ".py",
   "mimetype": "text/x-python",
   "name": "python",
   "nbconvert_exporter": "python",
   "pygments_lexer": "ipython3",
   "version": "3.6.5"
  }
 },
 "nbformat": 4,
 "nbformat_minor": 2
}
