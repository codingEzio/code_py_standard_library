{
 "cells": [
  {
   "cell_type": "markdown",
   "metadata": {},
   "source": [
    "<hr>\n",
    "\n",
    "Link : [Descriptor HowTo Guide](https://docs.python.org/3/howto/descriptor.html)\n"
   ]
  },
  {
   "cell_type": "markdown",
   "metadata": {},
   "source": [
    "#### Why we learn it?\n",
    "- Learning about descriptors not only provides access to a larger toolset, <br>it creates a deeper understanding of how Python works and an appreciation for the elegance of its design."
   ]
  },
  {
   "cell_type": "markdown",
   "metadata": {},
   "source": [
    "- 0x01 - descriptor example"
   ]
  },
  {
   "cell_type": "code",
   "execution_count": 1,
   "metadata": {},
   "outputs": [],
   "source": [
    "class Reveal(object):\n",
    "    \n",
    "    def __init__(self, initval=None, name='var'):\n",
    "        self.val  = initval \n",
    "        self.name = name \n",
    "        \n",
    "    def __get__(self, obj, objtype):\n",
    "        print('Retrieving', self.name)\n",
    "        return self.val \n",
    "    \n",
    "    def __set__(self, obj, val):\n",
    "        print('Updating', self.name)\n",
    "        self.val = val    "
   ]
  },
  {
   "cell_type": "code",
   "execution_count": 2,
   "metadata": {},
   "outputs": [],
   "source": [
    "class MyClass(object):\n",
    "    x = Reveal(10, 'var \"x\"')\n",
    "    y = 5 "
   ]
  },
  {
   "cell_type": "code",
   "execution_count": 3,
   "metadata": {},
   "outputs": [
    {
     "name": "stdout",
     "output_type": "stream",
     "text": [
      "Retrieving var \"x\"\n"
     ]
    },
    {
     "data": {
      "text/plain": [
       "10"
      ]
     },
     "execution_count": 3,
     "metadata": {},
     "output_type": "execute_result"
    },
    {
     "name": "stdout",
     "output_type": "stream",
     "text": [
      "Updating var \"x\"\n",
      "Retrieving var \"x\"\n"
     ]
    },
    {
     "data": {
      "text/plain": [
       "20"
      ]
     },
     "execution_count": 3,
     "metadata": {},
     "output_type": "execute_result"
    }
   ],
   "source": [
    "m = MyClass()\n",
    "\n",
    "m.x       # __get__  ==  access it \n",
    "\n",
    "m.x = 20  # __set__  ==  changing value \n",
    "\n",
    "m.x       # __get__"
   ]
  },
  {
   "cell_type": "markdown",
   "metadata": {},
   "source": [
    "- 0x02 - property"
   ]
  },
  {
   "cell_type": "code",
   "execution_count": 71,
   "metadata": {},
   "outputs": [],
   "source": [
    "class C(object):\n",
    "    def getx(self):         return self.__x\n",
    "    def setx(self, value):  self.__x = None\n",
    "    def delx(self):         del self.__x\n",
    "    x = property(getx, setx, delx, \"I'm the 'x' property.\")"
   ]
  }
 ],
 "metadata": {
  "kernelspec": {
   "display_name": "Python 3",
   "language": "python",
   "name": "python3"
  },
  "language_info": {
   "codemirror_mode": {
    "name": "ipython",
    "version": 3
   },
   "file_extension": ".py",
   "mimetype": "text/x-python",
   "name": "python",
   "nbconvert_exporter": "python",
   "pygments_lexer": "ipython3",
   "version": "3.6.5"
  }
 },
 "nbformat": 4,
 "nbformat_minor": 2
}
