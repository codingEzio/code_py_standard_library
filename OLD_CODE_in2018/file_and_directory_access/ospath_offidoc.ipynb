{
 "cells": [
  {
   "cell_type": "markdown",
   "metadata": {},
   "source": [
    "Resources\n",
    "- 链接: https://docs.python.org/3/library/os.path.html\n",
    "- 版本: 3.7.1 <small>(rc2)</small>\n",
    "- 平台: macOS <small>(不测试部分 func)</small>"
   ]
  },
  {
   "cell_type": "markdown",
   "metadata": {},
   "source": [
    "### 0x01 "
   ]
  },
  {
   "cell_type": "code",
   "execution_count": 1,
   "metadata": {},
   "outputs": [],
   "source": [
    "import os \n",
    "from os import path "
   ]
  },
  {
   "cell_type": "code",
   "execution_count": 2,
   "metadata": {},
   "outputs": [
    {
     "data": {
      "text/plain": [
       "'/Volumes/exFAT_Two/code_other/code_py_stdlib_and_howtos'"
      ]
     },
     "execution_count": 2,
     "metadata": {},
     "output_type": "execute_result"
    }
   ],
   "source": [
    "path.abspath('..') "
   ]
  },
  {
   "cell_type": "code",
   "execution_count": 3,
   "metadata": {},
   "outputs": [
    {
     "data": {
      "text/plain": [
       "'alex'"
      ]
     },
     "execution_count": 3,
     "metadata": {},
     "output_type": "execute_result"
    },
    {
     "data": {
      "text/plain": [
       "''"
      ]
     },
     "execution_count": 3,
     "metadata": {},
     "output_type": "execute_result"
    },
    {
     "name": "stdout",
     "output_type": "stream",
     "text": [
      "alex\n",
      "alex\n"
     ]
    }
   ],
   "source": [
    "# 取出最后一个 element \n",
    "#   i.e. A file or a folder \n",
    "\n",
    "path.basename('/Users/alex')   # Got 'alex'\n",
    "path.basename('/Users/alex/')  # Nope \n",
    "\n",
    "!basename /User/alex           # This one is an Unix program \n",
    "!basename /User/alex/          # Both works "
   ]
  },
  {
   "cell_type": "code",
   "execution_count": 4,
   "metadata": {},
   "outputs": [
    {
     "data": {
      "text/plain": [
       "'/Volumes'"
      ]
     },
     "execution_count": 4,
     "metadata": {},
     "output_type": "execute_result"
    },
    {
     "data": {
      "text/plain": [
       "'/usr/local/bin/e'"
      ]
     },
     "execution_count": 4,
     "metadata": {},
     "output_type": "execute_result"
    },
    {
     "data": {
      "text/plain": [
       "'/usr'"
      ]
     },
     "execution_count": 4,
     "metadata": {},
     "output_type": "execute_result"
    },
    {
     "data": {
      "text/plain": [
       "'/usr/s'"
      ]
     },
     "execution_count": 4,
     "metadata": {},
     "output_type": "execute_result"
    }
   ],
   "source": [
    "path.commonpath((       \n",
    "    '/Volumes/exFAT_One/VM/',       # find the common (longest) path \n",
    "    '/Volumes/exFAT_One/emsdk/',    # i.e. the '/Volumes'\n",
    "    '/Volumes/exFAT_Two/Pictures/'  # also, these're in a tuple! Not 3 strs!\n",
    "))\n",
    "\n",
    "path.commonprefix((\n",
    "    '/usr/local/bin/exa',      # Kinda like 'commonpath'\n",
    "    '/usr/local/bin/eslint',   # It might return an invalid path.\n",
    "    '/usr/local/bin/electron' \n",
    "))\n",
    "\n",
    "# the core diff between them \n",
    "\n",
    "path.commonpath(('/usr/sbin', '/usr/share/'))    # '/usr'\n",
    "path.commonprefix(('/usr/sbin', '/usr/share/'))  # '/usr/s'"
   ]
  },
  {
   "cell_type": "code",
   "execution_count": 5,
   "metadata": {},
   "outputs": [
    {
     "data": {
      "text/plain": [
       "'/'"
      ]
     },
     "execution_count": 5,
     "metadata": {},
     "output_type": "execute_result"
    },
    {
     "data": {
      "text/plain": [
       "'/Volumes'"
      ]
     },
     "execution_count": 5,
     "metadata": {},
     "output_type": "execute_result"
    },
    {
     "data": {
      "text/plain": [
       "'/Volumes'"
      ]
     },
     "execution_count": 5,
     "metadata": {},
     "output_type": "execute_result"
    },
    {
     "data": {
      "text/plain": [
       "'/Volumes/exFAT_One'"
      ]
     },
     "execution_count": 5,
     "metadata": {},
     "output_type": "execute_result"
    }
   ],
   "source": [
    "# return the dir part \n",
    "\n",
    "path.dirname('/Volumes')   # => '/Volumes'\n",
    "path.dirname('/Volumes/')  # => '/'\n",
    "\n",
    "path.dirname('/Volumes/exFAT_One')\n",
    "path.dirname('/Volumes/exFAT_One/')"
   ]
  },
  {
   "cell_type": "code",
   "execution_count": 6,
   "metadata": {},
   "outputs": [
    {
     "data": {
      "text/plain": [
       "True"
      ]
     },
     "execution_count": 6,
     "metadata": {},
     "output_type": "execute_result"
    },
    {
     "data": {
      "text/plain": [
       "True"
      ]
     },
     "execution_count": 6,
     "metadata": {},
     "output_type": "execute_result"
    }
   ],
   "source": [
    "path.exists('../builtin_stuff/')  # normal folder \n",
    "path.exists('/Users/alex/epub/')  # sym link "
   ]
  },
  {
   "cell_type": "code",
   "execution_count": 7,
   "metadata": {},
   "outputs": [
    {
     "data": {
      "text/plain": [
       "'/Users/alex'"
      ]
     },
     "execution_count": 7,
     "metadata": {},
     "output_type": "execute_result"
    },
    {
     "data": {
      "text/plain": [
       "'/var/root'"
      ]
     },
     "execution_count": 7,
     "metadata": {},
     "output_type": "execute_result"
    },
    {
     "data": {
      "text/plain": [
       "'blabla'"
      ]
     },
     "execution_count": 7,
     "metadata": {},
     "output_type": "execute_result"
    }
   ],
   "source": [
    "path.expanduser('~')\n",
    "path.expanduser('~root')\n",
    "\n",
    "path.expanduser('blabla')  # if failed => unchanged "
   ]
  },
  {
   "cell_type": "code",
   "execution_count": 8,
   "metadata": {},
   "outputs": [
    {
     "name": "stdout",
     "output_type": "stream",
     "text": [
      "/Library/Java/JavaVirtualMachines/jdk1.8.0_181.jdk/Contents/Home\r\n"
     ]
    },
    {
     "data": {
      "text/plain": [
       "'/Library/Java/JavaVirtualMachines/jdk1.8.0_181.jdk/Contents/Home'"
      ]
     },
     "execution_count": 8,
     "metadata": {},
     "output_type": "execute_result"
    },
    {
     "data": {
      "text/plain": [
       "['/Volumes/exFAT_Two/env_datascience/env/bin',\n",
       " '/Volumes/exFAT_Two/env_datascience/env/bin',\n",
       " '/Users/alex/.rvm/gems/ruby-2.3.0/bin']"
      ]
     },
     "execution_count": 8,
     "metadata": {},
     "output_type": "execute_result"
    },
    {
     "data": {
      "text/plain": [
       "'JUST_PLAYIN_RETURN_NONE'"
      ]
     },
     "execution_count": 8,
     "metadata": {},
     "output_type": "execute_result"
    }
   ],
   "source": [
    "# env path \n",
    "\n",
    "! echo $JAVA_HOME\n",
    "path.expandvars('$JAVA_HOME')\n",
    "\n",
    "path.expandvars('${PATH}').split(':')[:3]\n",
    "\n",
    "path.expandvars('JUST_PLAYIN_RETURN_NONE')"
   ]
  },
  {
   "cell_type": "code",
   "execution_count": 9,
   "metadata": {},
   "outputs": [
    {
     "data": {
      "text/plain": [
       "1533948502.0"
      ]
     },
     "execution_count": 9,
     "metadata": {},
     "output_type": "execute_result"
    },
    {
     "data": {
      "text/plain": [
       "1533948502.16"
      ]
     },
     "execution_count": 9,
     "metadata": {},
     "output_type": "execute_result"
    },
    {
     "data": {
      "text/plain": [
       "1533948502.16"
      ]
     },
     "execution_count": 9,
     "metadata": {},
     "output_type": "execute_result"
    }
   ],
   "source": [
    "# Starting at 1970/01/01  ( denom: / 60 / 60 / 24 / 365 )\n",
    "\n",
    "path.getatime('.')  # Last access time \n",
    "path.getmtime('.')  # Last modification time \n",
    "\n",
    "path.getctime('.')  # Last metadate change "
   ]
  },
  {
   "cell_type": "code",
   "execution_count": 10,
   "metadata": {},
   "outputs": [
    {
     "data": {
      "text/plain": [
       "1.037109375"
      ]
     },
     "execution_count": 10,
     "metadata": {},
     "output_type": "execute_result"
    },
    {
     "data": {
      "text/plain": [
       "15.3310546875"
      ]
     },
     "execution_count": 10,
     "metadata": {},
     "output_type": "execute_result"
    }
   ],
   "source": [
    "# Size of file (not folder!)\n",
    "\n",
    "path.getsize('../LICENSE') / 1024 \n",
    "path.getsize('../file_and_directory_access/ospath_offidoc.ipynb') / 1024 "
   ]
  },
  {
   "cell_type": "code",
   "execution_count": 11,
   "metadata": {},
   "outputs": [
    {
     "data": {
      "text/plain": [
       "False"
      ]
     },
     "execution_count": 11,
     "metadata": {},
     "output_type": "execute_result"
    },
    {
     "data": {
      "text/plain": [
       "True"
      ]
     },
     "execution_count": 11,
     "metadata": {},
     "output_type": "execute_result"
    }
   ],
   "source": [
    "path.isabs('../../../Vids/')            # rel\n",
    "path.isabs('/Volumes/exFAT_Two/Vids/')  # abs "
   ]
  },
  {
   "cell_type": "code",
   "execution_count": 12,
   "metadata": {},
   "outputs": [
    {
     "data": {
      "text/plain": [
       "True"
      ]
     },
     "execution_count": 12,
     "metadata": {},
     "output_type": "execute_result"
    },
    {
     "data": {
      "text/plain": [
       "True"
      ]
     },
     "execution_count": 12,
     "metadata": {},
     "output_type": "execute_result"
    },
    {
     "data": {
      "text/plain": [
       "True"
      ]
     },
     "execution_count": 12,
     "metadata": {},
     "output_type": "execute_result"
    }
   ],
   "source": [
    "path.isfile('/var/mail/alex')\n",
    "path.islink('/Users/alex/epub')\n",
    "\n",
    "path.isdir('/etc/sudoers.d/') "
   ]
  },
  {
   "cell_type": "code",
   "execution_count": 13,
   "metadata": {},
   "outputs": [
    {
     "data": {
      "text/plain": [
       "True"
      ]
     },
     "execution_count": 13,
     "metadata": {},
     "output_type": "execute_result"
    },
    {
     "data": {
      "text/plain": [
       "False"
      ]
     },
     "execution_count": 13,
     "metadata": {},
     "output_type": "execute_result"
    }
   ],
   "source": [
    "path.ismount('/Volumes/vm_and_music')   \n",
    "path.ismount('/Volumes/what-the-hell')  # stay 'where u are'"
   ]
  },
  {
   "cell_type": "code",
   "execution_count": 14,
   "metadata": {},
   "outputs": [
    {
     "data": {
      "text/plain": [
       "'/etc'"
      ]
     },
     "execution_count": 14,
     "metadata": {},
     "output_type": "execute_result"
    },
    {
     "data": {
      "text/plain": [
       "'/etc/'"
      ]
     },
     "execution_count": 14,
     "metadata": {},
     "output_type": "execute_result"
    },
    {
     "data": {
      "text/plain": [
       "'/etc'"
      ]
     },
     "execution_count": 14,
     "metadata": {},
     "output_type": "execute_result"
    }
   ],
   "source": [
    "path.join('/etc') \n",
    "path.join('/etc', '')           # this will add a '/' at the end \n",
    "\n",
    "path.join('/etc/asl/', '/etc')  # if abs-path -> all prev path discarded "
   ]
  },
  {
   "cell_type": "code",
   "execution_count": 15,
   "metadata": {},
   "outputs": [
    {
     "data": {
      "text/plain": [
       "'../README.md'"
      ]
     },
     "execution_count": 15,
     "metadata": {},
     "output_type": "execute_result"
    },
    {
     "data": {
      "text/plain": [
       "'../LICENSE'"
      ]
     },
     "execution_count": 15,
     "metadata": {},
     "output_type": "execute_result"
    },
    {
     "data": {
      "text/plain": [
       "'src/just_normal_file.txt'"
      ]
     },
     "execution_count": 15,
     "metadata": {},
     "output_type": "execute_result"
    }
   ],
   "source": [
    "# portable env needed\n",
    "path.normcase('../README.md')\n",
    "\n",
    "# collapsing redundant sep (and upper refs)\n",
    "path.normpath('..//LICENSE')\n",
    "path.normpath('.///////src/just_normal_file.txt')"
   ]
  },
  {
   "cell_type": "code",
   "execution_count": 16,
   "metadata": {},
   "outputs": [
    {
     "data": {
      "text/plain": [
       "'/Volumes/exFAT_Two/code_other'"
      ]
     },
     "execution_count": 16,
     "metadata": {},
     "output_type": "execute_result"
    },
    {
     "data": {
      "text/plain": [
       "'/Volumes/exFAT_Two/--copied--/book_PDF'"
      ]
     },
     "execution_count": 16,
     "metadata": {},
     "output_type": "execute_result"
    },
    {
     "data": {
      "text/plain": [
       "'../../../../../System/Library'"
      ]
     },
     "execution_count": 16,
     "metadata": {},
     "output_type": "execute_result"
    },
    {
     "data": {
      "text/plain": [
       "'../../../../etc'"
      ]
     },
     "execution_count": 16,
     "metadata": {},
     "output_type": "execute_result"
    }
   ],
   "source": [
    "path.realpath('../..')                 # rel     (upwrapped)\n",
    "path.realpath('/Users/alex/pdf-new/')  # symlink (upwrapped)\n",
    "\n",
    "path.relpath('/System/Library/')       # rel (in contrast to current pwd)\n",
    "path.relpath('/etc', start='..')       # u can name it (== how to cd there)"
   ]
  },
  {
   "cell_type": "code",
   "execution_count": 17,
   "metadata": {},
   "outputs": [
    {
     "data": {
      "text/plain": [
       "True"
      ]
     },
     "execution_count": 17,
     "metadata": {},
     "output_type": "execute_result"
    }
   ],
   "source": [
    "path.samefile('/etc/hosts', '/etc/hosts')\n",
    "\n",
    "# TODO samestat\n",
    "# TODO sameopenfile "
   ]
  },
  {
   "cell_type": "code",
   "execution_count": 18,
   "metadata": {},
   "outputs": [
    {
     "data": {
      "text/plain": [
       "('/Volumes/exFAT_One', 'VM')"
      ]
     },
     "execution_count": 18,
     "metadata": {},
     "output_type": "execute_result"
    },
    {
     "data": {
      "text/plain": [
       "('', 'C:\\\\Windows')"
      ]
     },
     "execution_count": 18,
     "metadata": {},
     "output_type": "execute_result"
    }
   ],
   "source": [
    "path.split('/Volumes/exFAT_One/VM')\n",
    "\n",
    "try:\n",
    "    path.splitdrive('C:\\\\Windows')\n",
    "except:\n",
    "    'On systems which do not use drive spec'\n",
    "    'The res will stay the same (the <drive> will be empty)'"
   ]
  },
  {
   "cell_type": "code",
   "execution_count": 19,
   "metadata": {},
   "outputs": [
    {
     "data": {
      "text/plain": [
       "('../LICENSE', '')"
      ]
     },
     "execution_count": 19,
     "metadata": {},
     "output_type": "execute_result"
    },
    {
     "data": {
      "text/plain": [
       "('../README', '.md')"
      ]
     },
     "execution_count": 19,
     "metadata": {},
     "output_type": "execute_result"
    },
    {
     "data": {
      "text/plain": [
       "('../builtin_stuff/builtin_functions', '.ipynb')"
      ]
     },
     "execution_count": 19,
     "metadata": {},
     "output_type": "execute_result"
    }
   ],
   "source": [
    "# file + ext \n",
    "\n",
    "path.splitext('../LICENSE')\n",
    "\n",
    "path.splitext('../README.md')\n",
    "path.splitext('../builtin_stuff/builtin_functions.ipynb')"
   ]
  }
 ],
 "metadata": {
  "kernelspec": {
   "display_name": "Python 3",
   "language": "python",
   "name": "python3"
  },
  "language_info": {
   "codemirror_mode": {
    "name": "ipython",
    "version": 3
   },
   "file_extension": ".py",
   "mimetype": "text/x-python",
   "name": "python",
   "nbconvert_exporter": "python",
   "pygments_lexer": "ipython3",
   "version": "3.6.5"
  }
 },
 "nbformat": 4,
 "nbformat_minor": 2
}
