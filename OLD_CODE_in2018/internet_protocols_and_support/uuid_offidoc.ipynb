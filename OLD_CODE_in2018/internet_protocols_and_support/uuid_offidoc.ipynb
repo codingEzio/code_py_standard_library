{
 "cells": [
  {
   "cell_type": "markdown",
   "metadata": {},
   "source": [
    "Resources \n",
    "- 基于 Python 3.7.0. 链接在此: [uuid](https://docs.python.org/3/library/uuid.html)\n",
    "- 会提到新特性, 但无实操. \n",
    "\n",
    "Why use *UUID*?\n",
    "- check this: https://github.com/interagent/http-api-design/issues/79"
   ]
  },
  {
   "cell_type": "markdown",
   "metadata": {},
   "source": [
    "A few words from official doc:\n",
    "- *uuid1()* containing your computer's network addr (*privacy stuff*).\n",
    "- *uuid4()* creates a **random** UUID."
   ]
  },
  {
   "cell_type": "code",
   "execution_count": 127,
   "metadata": {},
   "outputs": [],
   "source": [
    "from uuid import *"
   ]
  },
  {
   "cell_type": "markdown",
   "metadata": {},
   "source": [
    "For version 3.7.0:\n",
    "- new\n",
    "    - ```uuid.SafeUUID``` \n",
    "    - ```uuid.UUID.is_safe```\n",
    "- update\n",
    "    - ```uuid.getnode``` => prefered universally MAC addresses (*rather than local one*)"
   ]
  },
  {
   "cell_type": "markdown",
   "metadata": {},
   "source": [
    "- ```UUID``` class"
   ]
  },
  {
   "cell_type": "code",
   "execution_count": 128,
   "metadata": {},
   "outputs": [
    {
     "data": {
      "text/plain": [
       "UUID('12345678-1234-5678-1234-567812345678')"
      ]
     },
     "execution_count": 128,
     "metadata": {},
     "output_type": "execute_result"
    },
    {
     "data": {
      "text/plain": [
       "UUID('12345678-1234-5678-1234-567812345678')"
      ]
     },
     "execution_count": 128,
     "metadata": {},
     "output_type": "execute_result"
    },
    {
     "data": {
      "text/plain": [
       "UUID('12345678-1234-5678-1234-567812345678')"
      ]
     },
     "execution_count": 128,
     "metadata": {},
     "output_type": "execute_result"
    },
    {
     "data": {
      "text/plain": [
       "UUID('12345678-1234-5678-1234-567812345678')"
      ]
     },
     "execution_count": 128,
     "metadata": {},
     "output_type": "execute_result"
    },
    {
     "data": {
      "text/plain": [
       "UUID('12345678-1234-5678-1234-567812345678')"
      ]
     },
     "execution_count": 128,
     "metadata": {},
     "output_type": "execute_result"
    }
   ],
   "source": [
    "# intuitive\n",
    "UUID('{12345678123456781234567812345678}')\n",
    "UUID('12345678123456781234567812345678')\n",
    "UUID(int=0x12345678123456781234567812345678)\n",
    "\n",
    "# hmm..\n",
    "UUID('urn:uuid:12345678-12345678-12345678-12345678')\n",
    "UUID(fields=(0x12345678, 0x1234, 0x5678, 0x12, 0x34, 0x567812345678))"
   ]
  },
  {
   "cell_type": "markdown",
   "metadata": {},
   "source": [
    "- attributes"
   ]
  },
  {
   "cell_type": "code",
   "execution_count": 129,
   "metadata": {},
   "outputs": [
    {
     "data": {
      "text/plain": [
       "b'\\x124Vx\\x124Vx\\x124Vx\\x124Vx'"
      ]
     },
     "execution_count": 129,
     "metadata": {},
     "output_type": "execute_result"
    },
    {
     "data": {
      "text/plain": [
       "b'xV4\\x124\\x12xV\\x124Vx\\x124Vx'"
      ]
     },
     "execution_count": 129,
     "metadata": {},
     "output_type": "execute_result"
    },
    {
     "data": {
      "text/plain": [
       "(305419896, 4660, 22136, 18, 52, 95073701484152)"
      ]
     },
     "execution_count": 129,
     "metadata": {},
     "output_type": "execute_result"
    }
   ],
   "source": [
    "a = UUID('urn:uuid:12345678-12345678-12345678-12345678') # just an example \n",
    "\n",
    "a.bytes\n",
    "a.bytes_le\n",
    "a.fields"
   ]
  },
  {
   "cell_type": "code",
   "execution_count": 130,
   "metadata": {},
   "outputs": [
    {
     "data": {
      "text/plain": [
       "'12345678123456781234567812345678'"
      ]
     },
     "execution_count": 130,
     "metadata": {},
     "output_type": "execute_result"
    },
    {
     "data": {
      "text/plain": [
       "24197857161011715162171839636988778104"
      ]
     },
     "execution_count": 130,
     "metadata": {},
     "output_type": "execute_result"
    },
    {
     "data": {
      "text/plain": [
       "'urn:uuid:12345678-1234-5678-1234-567812345678'"
      ]
     },
     "execution_count": 130,
     "metadata": {},
     "output_type": "execute_result"
    }
   ],
   "source": [
    "a.hex\n",
    "a.int\n",
    "a.urn"
   ]
  },
  {
   "cell_type": "markdown",
   "metadata": {},
   "source": [
    "- functions"
   ]
  },
  {
   "cell_type": "code",
   "execution_count": 131,
   "metadata": {},
   "outputs": [
    {
     "data": {
      "text/plain": [
       "UUID('1d71a718-901e-11e8-9d67-00e04c83d774')"
      ]
     },
     "execution_count": 131,
     "metadata": {},
     "output_type": "execute_result"
    },
    {
     "data": {
      "text/plain": [
       "UUID('1d71e57a-901e-11e8-b61e-00e04c83d774')"
      ]
     },
     "execution_count": 131,
     "metadata": {},
     "output_type": "execute_result"
    }
   ],
   "source": [
    "# generating from a host ID, seq num and the current time.\n",
    "\n",
    "uuid1() \n",
    "uuid1(node=uuid.getnode())"
   ]
  },
  {
   "cell_type": "code",
   "execution_count": 132,
   "metadata": {},
   "outputs": [
    {
     "data": {
      "text/plain": [
       "UUID('22fe6191-c161-3d86-a432-a81f343eda08')"
      ]
     },
     "execution_count": 132,
     "metadata": {},
     "output_type": "execute_result"
    },
    {
     "data": {
      "text/plain": [
       "UUID('deb7d48f-647b-4d96-b8bc-fa3d853ea00c')"
      ]
     },
     "execution_count": 132,
     "metadata": {},
     "output_type": "execute_result"
    },
    {
     "data": {
      "text/plain": [
       "UUID('db2d99a4-b8ec-568e-b285-49319288d71a')"
      ]
     },
     "execution_count": 132,
     "metadata": {},
     "output_type": "execute_result"
    }
   ],
   "source": [
    "# based on the MD5 hash of a namespace id(UUID) and a name(string)\n",
    "uuid3(NAMESPACE_URL, 'python.org')  \n",
    "\n",
    "# random\n",
    "uuid4()\n",
    "\n",
    "# generate just like uuid3, but changed to SHA-1 hash.\n",
    "uuid5(NAMESPACE_URL, 'dot.com')"
   ]
  },
  {
   "cell_type": "markdown",
   "metadata": {},
   "source": [
    "- constants"
   ]
  },
  {
   "cell_type": "code",
   "execution_count": 133,
   "metadata": {},
   "outputs": [
    {
     "data": {
      "text/plain": [
       "UUID('6ba7b810-9dad-11d1-80b4-00c04fd430c8')"
      ]
     },
     "execution_count": 133,
     "metadata": {},
     "output_type": "execute_result"
    },
    {
     "data": {
      "text/plain": [
       "UUID('6ba7b811-9dad-11d1-80b4-00c04fd430c8')"
      ]
     },
     "execution_count": 133,
     "metadata": {},
     "output_type": "execute_result"
    },
    {
     "data": {
      "text/plain": [
       "UUID('6ba7b812-9dad-11d1-80b4-00c04fd430c8')"
      ]
     },
     "execution_count": 133,
     "metadata": {},
     "output_type": "execute_result"
    },
    {
     "data": {
      "text/plain": [
       "UUID('6ba7b814-9dad-11d1-80b4-00c04fd430c8')"
      ]
     },
     "execution_count": 133,
     "metadata": {},
     "output_type": "execute_result"
    }
   ],
   "source": [
    "NAMESPACE_DNS\n",
    "NAMESPACE_URL\n",
    "\n",
    "NAMESPACE_OID\n",
    "NAMESPACE_X500"
   ]
  },
  {
   "cell_type": "code",
   "execution_count": 134,
   "metadata": {},
   "outputs": [
    {
     "data": {
      "text/plain": [
       "'reserved for Microsoft compatibility'"
      ]
     },
     "execution_count": 134,
     "metadata": {},
     "output_type": "execute_result"
    },
    {
     "data": {
      "text/plain": [
       "'reserved for future definition'"
      ]
     },
     "execution_count": 134,
     "metadata": {},
     "output_type": "execute_result"
    },
    {
     "data": {
      "text/plain": [
       "'reserved for NCS compatibility'"
      ]
     },
     "execution_count": 134,
     "metadata": {},
     "output_type": "execute_result"
    },
    {
     "data": {
      "text/plain": [
       "'specified in RFC 4122'"
      ]
     },
     "execution_count": 134,
     "metadata": {},
     "output_type": "execute_result"
    }
   ],
   "source": [
    "# just for fun :D\n",
    "\n",
    "RESERVED_MICROSOFT\n",
    "RESERVED_FUTURE\n",
    "RESERVED_NCS\n",
    "RFC_4122"
   ]
  }
 ],
 "metadata": {
  "kernelspec": {
   "display_name": "Python 3",
   "language": "python",
   "name": "python3"
  },
  "language_info": {
   "codemirror_mode": {
    "name": "ipython",
    "version": 3
   },
   "file_extension": ".py",
   "mimetype": "text/x-python",
   "name": "python",
   "nbconvert_exporter": "python",
   "pygments_lexer": "ipython3",
   "version": "3.6.5"
  }
 },
 "nbformat": 4,
 "nbformat_minor": 2
}
