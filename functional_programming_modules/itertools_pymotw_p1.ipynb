{
 "cells": [
  {
   "cell_type": "markdown",
   "metadata": {},
   "source": [
    "#### Resources \n",
    "- link: [itertools — Iterator Functions — PyMOTW 3](https://pymotw.com/3/itertools/index.html)"
   ]
  },
  {
   "cell_type": "markdown",
   "metadata": {},
   "source": [
    "### Why we use it\n",
    "- Iterator-based code offers **better memory consumption** characteristics than code than using lists."
   ]
  },
  {
   "cell_type": "code",
   "execution_count": 352,
   "metadata": {},
   "outputs": [],
   "source": [
    "from itertools import *"
   ]
  },
  {
   "cell_type": "markdown",
   "metadata": {},
   "source": [
    "### Merging and Splitting Iterators"
   ]
  },
  {
   "cell_type": "markdown",
   "metadata": {},
   "source": [
    "- chain"
   ]
  },
  {
   "cell_type": "code",
   "execution_count": 353,
   "metadata": {},
   "outputs": [],
   "source": [
    "a = [1, 2, 3]\n",
    "b = ['a', 'b', 'c']"
   ]
  },
  {
   "cell_type": "code",
   "execution_count": 354,
   "metadata": {},
   "outputs": [
    {
     "name": "stdout",
     "output_type": "stream",
     "text": [
      "1 2 3 a b c "
     ]
    }
   ],
   "source": [
    "# most common one \n",
    "for i in chain(a, b):\n",
    "    print(i, end=' ')"
   ]
  },
  {
   "cell_type": "code",
   "execution_count": 355,
   "metadata": {},
   "outputs": [
    {
     "name": "stdout",
     "output_type": "stream",
     "text": [
      "1 2 3 a b c "
     ]
    }
   ],
   "source": [
    "# for the sake of 'evaluated lazily'\n",
    "def make_iter_to_chain():\n",
    "    yield a\n",
    "    yield b\n",
    "    \n",
    "for i in chain.from_iterable(make_iter_to_chain()):\n",
    "    print(i, end=' ')"
   ]
  },
  {
   "cell_type": "markdown",
   "metadata": {},
   "source": [
    "- zip"
   ]
  },
  {
   "cell_type": "code",
   "execution_count": 356,
   "metadata": {},
   "outputs": [
    {
     "data": {
      "text/plain": [
       "'zip'"
      ]
     },
     "execution_count": 356,
     "metadata": {},
     "output_type": "execute_result"
    },
    {
     "data": {
      "text/plain": [
       "[(1, 'a'), (2, 'b'), (3, 'c')]"
      ]
     },
     "execution_count": 356,
     "metadata": {},
     "output_type": "execute_result"
    },
    {
     "name": "stdout",
     "output_type": "stream",
     "text": [
      "(1, 'a') (2, 'b') (3, 'c') "
     ]
    }
   ],
   "source": [
    "zip.__name__           # built-in (whatever)\n",
    "\n",
    "list(zip(a,b))         # \"list\" the generator \n",
    "\n",
    "for i in zip(a,b):     # produces values 'one at a time'\n",
    "    print(i, end=' ')  # e.g. a[0], b[0]  or  a[3], b[3]"
   ]
  },
  {
   "cell_type": "code",
   "execution_count": 357,
   "metadata": {},
   "outputs": [
    {
     "data": {
      "text/plain": [
       "[(0, 0), (1, 1)]"
      ]
     },
     "execution_count": 357,
     "metadata": {},
     "output_type": "execute_result"
    }
   ],
   "source": [
    "r1 = range(4)  # 0,1,2,3\n",
    "r2 = range(2)  # 0,1\n",
    "\n",
    "# zip is exhausted by the shortest iterator\n",
    "list(zip(r1, r2))"
   ]
  },
  {
   "cell_type": "code",
   "execution_count": 358,
   "metadata": {},
   "outputs": [
    {
     "data": {
      "text/plain": [
       "[(0, 0), (1, 1), (2, None), (3, None)]"
      ]
     },
     "execution_count": 358,
     "metadata": {},
     "output_type": "execute_result"
    },
    {
     "data": {
      "text/plain": [
       "[(0, 0), (1, 1), (2, 666), (3, 666)]"
      ]
     },
     "execution_count": 358,
     "metadata": {},
     "output_type": "execute_result"
    }
   ],
   "source": [
    "l1 = range(4)\n",
    "l2 = range(2)\n",
    "\n",
    "# just \"zip\" it!  \n",
    "list(zip_longest(r1, r2))                 # default: fill with None \n",
    "list(zip_longest(r1, r2, fillvalue=666))  # name it!"
   ]
  },
  {
   "cell_type": "markdown",
   "metadata": {},
   "source": [
    "- islice"
   ]
  },
  {
   "cell_type": "code",
   "execution_count": 359,
   "metadata": {},
   "outputs": [
    {
     "data": {
      "text/plain": [
       "['B', 'C']"
      ]
     },
     "execution_count": 359,
     "metadata": {},
     "output_type": "execute_result"
    },
    {
     "data": {
      "text/plain": [
       "['A', 'B']"
      ]
     },
     "execution_count": 359,
     "metadata": {},
     "output_type": "execute_result"
    },
    {
     "data": {
      "text/plain": [
       "['C', 'D', 'E', 'F']"
      ]
     },
     "execution_count": 359,
     "metadata": {},
     "output_type": "execute_result"
    },
    {
     "data": {
      "text/plain": [
       "['A', 'C', 'E']"
      ]
     },
     "execution_count": 359,
     "metadata": {},
     "output_type": "execute_result"
    },
    {
     "data": {
      "text/plain": [
       "[0, 1, 2, 3, 4, 5, 6, 7, 8, 9]"
      ]
     },
     "execution_count": 359,
     "metadata": {},
     "output_type": "execute_result"
    },
    {
     "data": {
      "text/plain": [
       "[0, 50, 100, 150, 200]"
      ]
     },
     "execution_count": 359,
     "metadata": {},
     "output_type": "execute_result"
    }
   ],
   "source": [
    "# iterable, *args \n",
    "\n",
    "list(islice('ABCDEF', 1, 3))        # just like index\n",
    "list(islice('ABCDEF', 2))           # \"2\"      for two items\n",
    "list(islice('ABCDEF', 2, None))     # \"2,None\" for start from two to end \n",
    "list(islice('ABCDEF', 0, None, 2))  # \"0,None\" as [:], and there's a step \"2\" !\n",
    "\n",
    "# range is fun!\n",
    "list(islice(range(1000), 10))\n",
    "list(islice(range(0, 201), 0, None, 50))"
   ]
  },
  {
   "cell_type": "markdown",
   "metadata": {},
   "source": [
    "- tee"
   ]
  },
  {
   "cell_type": "code",
   "execution_count": 360,
   "metadata": {},
   "outputs": [
    {
     "data": {
      "text/plain": [
       "([0, 1, 2, 3, 4], [0, 1, 2, 3, 4])"
      ]
     },
     "execution_count": 360,
     "metadata": {},
     "output_type": "execute_result"
    },
    {
     "data": {
      "text/plain": [
       "([0, 1, 2, 3, 4], [0, 1, 2, 3, 4])"
      ]
     },
     "execution_count": 360,
     "metadata": {},
     "output_type": "execute_result"
    }
   ],
   "source": [
    "# tuple of n independent iterators \n",
    "\n",
    "r = islice(range(5), 5)\n",
    "\n",
    "# repeat (sort of)\n",
    "i1, i2, i3, i4 = tee(r, 4)  # default: 2\n",
    "\n",
    "list(i1), list(i2), \n",
    "list(i3), list(i4)"
   ]
  },
  {
   "cell_type": "code",
   "execution_count": 361,
   "metadata": {},
   "outputs": [
    {
     "name": "stdout",
     "output_type": "stream",
     "text": [
      "r:  0 1 2 \n",
      "i1:  [3, 4]\n",
      "i2:  [3, 4]\n"
     ]
    }
   ],
   "source": [
    "# the new iterators (i1,i2) share their input (r)\n",
    "# so ...\n",
    "\n",
    "r = islice(range(5), 5)\n",
    "i1, i2 = tee(r)        \n",
    "\n",
    "print('r: ',end=' ')\n",
    "for i in r:\n",
    "    print(i, end=' ') \n",
    "    if i > 1:           # [0,1,2] was consumed in here.\n",
    "        break           \n",
    "        \n",
    "print()                 \n",
    "\n",
    "# for now, the 'r' only got [3,4]  (for tee as well) \n",
    "print('i1: ',list(i1))  \n",
    "print('i2: ',list(i2))  "
   ]
  },
  {
   "cell_type": "markdown",
   "metadata": {},
   "source": [
    "### Converting Inputs"
   ]
  },
  {
   "cell_type": "markdown",
   "metadata": {},
   "source": [
    "- map"
   ]
  },
  {
   "cell_type": "code",
   "execution_count": 362,
   "metadata": {},
   "outputs": [],
   "source": [
    "def times_two(x):\n",
    "    return x * 2 \n",
    "\n",
    "def multiply(x, y):\n",
    "    return x, y, x * y "
   ]
  },
  {
   "cell_type": "code",
   "execution_count": 363,
   "metadata": {},
   "outputs": [
    {
     "name": "stdout",
     "output_type": "stream",
     "text": [
      "0\n",
      "2\n",
      "4\n",
      "6\n",
      "8\n"
     ]
    },
    {
     "data": {
      "text/plain": [
       "[0, 2, 4, 6, 8]"
      ]
     },
     "execution_count": 363,
     "metadata": {},
     "output_type": "execute_result"
    }
   ],
   "source": [
    "for i in map(times_two, range(5)):\n",
    "    print(i)\n",
    "    \n",
    "[ i * 2 for i in range(5) ] "
   ]
  },
  {
   "cell_type": "code",
   "execution_count": 364,
   "metadata": {},
   "outputs": [
    {
     "name": "stdout",
     "output_type": "stream",
     "text": [
      "0 * 0 = 0\n",
      "1 * 1 = 1\n",
      "2 * 2 = 4\n",
      "3 * 3 = 9\n",
      "4 * 4 = 16\n",
      "(0, 0, 0)\n",
      "(1, 1, 1)\n"
     ]
    }
   ],
   "source": [
    "# normal\n",
    "for i in map(multiply, range(5), range(10)):\n",
    "    print(\"{:d} * {:d} = {:d}\".format(*i))\n",
    "\n",
    "# [0,1,2,3,4] vs [0,1,2]\n",
    "for i in map(multiply, range(5), range(2)):  # range(2) wins!!\n",
    "    print(i)"
   ]
  },
  {
   "cell_type": "markdown",
   "metadata": {},
   "source": [
    "- starmap"
   ]
  },
  {
   "cell_type": "code",
   "execution_count": 365,
   "metadata": {},
   "outputs": [
    {
     "name": "stdout",
     "output_type": "stream",
     "text": [
      "0 * 5 = 0\n",
      "1 * 6 = 6\n",
      "2 * 7 = 14\n",
      "3 * 8 = 24\n",
      "4 * 9 = 36\n"
     ]
    }
   ],
   "source": [
    "values = [(0, 5), (1, 6), (2, 7), (3, 8), (4, 9)]\n",
    "\n",
    "# feed the lambda func with 'i' \n",
    "#   i       --  (0,5) \n",
    "#   lambda  --  0,5 -> (0, 5, 0*5)\n",
    "\n",
    "for i in starmap(lambda x,y: (x, y, x*y),values):\n",
    "    print(\"{} * {} = {}\".format(*i))"
   ]
  },
  {
   "cell_type": "markdown",
   "metadata": {},
   "source": [
    "### Producing New Values"
   ]
  },
  {
   "cell_type": "markdown",
   "metadata": {},
   "source": [
    "- count"
   ]
  },
  {
   "cell_type": "code",
   "execution_count": 366,
   "metadata": {},
   "outputs": [
    {
     "name": "stdout",
     "output_type": "stream",
     "text": [
      "(-5, 'a')\n",
      "(-4, 'b')\n",
      "(-3, 'c')\n",
      "\n",
      "(-5, 'a')\n",
      "(-4, 'b')\n",
      "(-3, 'c')\n"
     ]
    }
   ],
   "source": [
    "# more readiability I think :)\n",
    "\n",
    "for i in zip(count(-5), ['a', 'b', 'c']):\n",
    "    print(i)\n",
    "    \n",
    "print() \n",
    "    \n",
    "for i in enumerate(['a', 'b', 'c'],start=-5):\n",
    "    print(i)"
   ]
  },
  {
   "cell_type": "code",
   "execution_count": 367,
   "metadata": {},
   "outputs": [
    {
     "name": "stdout",
     "output_type": "stream",
     "text": [
      "1/5 : a\n",
      "2/5 : b\n",
      "3/5 : c\n",
      "4/5 : d\n",
      "1 : e\n"
     ]
    }
   ],
   "source": [
    "from fractions import Fraction as F \n",
    "\n",
    "start = F(1, 5)\n",
    "step  = F(1, 5)\n",
    "\n",
    "alphab = list('abcde')\n",
    "\n",
    "for i in zip(count(start, step), alphab):\n",
    "    print(\"{} : {}\".format(*i))"
   ]
  },
  {
   "cell_type": "markdown",
   "metadata": {},
   "source": [
    "- cycle"
   ]
  },
  {
   "cell_type": "code",
   "execution_count": 368,
   "metadata": {},
   "outputs": [
    {
     "name": "stdout",
     "output_type": "stream",
     "text": [
      "(0, 'a')\n",
      "(1, 'b')\n",
      "(2, 'c')\n",
      "(3, 'a')\n",
      "(4, 'b')\n",
      "(5, 'c')\n"
     ]
    }
   ],
   "source": [
    "# \"range\" is God, \n",
    "#   the \"cycled()\" iterators follow!  \n",
    "\n",
    "# repeat the goddamn iterators!\n",
    "for i in zip(range(6), cycle(list('abc'))):\n",
    "    print(i)"
   ]
  },
  {
   "cell_type": "code",
   "execution_count": 369,
   "metadata": {},
   "outputs": [
    {
     "name": "stdout",
     "output_type": "stream",
     "text": [
      "(0, 'a')\n",
      "(1, 'b')\n",
      "(2, 'c')\n"
     ]
    }
   ],
   "source": [
    "# range die, all iterators die \n",
    "for i in zip(range(3), cycle(list('abcdeh'))):\n",
    "    print(i) "
   ]
  },
  {
   "cell_type": "markdown",
   "metadata": {},
   "source": [
    "- repeat"
   ]
  },
  {
   "cell_type": "code",
   "execution_count": 370,
   "metadata": {},
   "outputs": [
    {
     "name": "stdout",
     "output_type": "stream",
     "text": [
      "oooover-and-oooover\n",
      "oooover-and-oooover\n",
      "oooover-and-oooover\n"
     ]
    }
   ],
   "source": [
    "for i in repeat('oooover-and-oooover', 3):\n",
    "    print(i)"
   ]
  },
  {
   "cell_type": "code",
   "execution_count": 371,
   "metadata": {},
   "outputs": [
    {
     "name": "stdout",
     "output_type": "stream",
     "text": [
      "0 bang bang!\n",
      "1 bang bang!\n",
      "2 bang bang!\n",
      "3 bang bang!\n",
      "4 bang bang!\n"
     ]
    }
   ],
   "source": [
    "for cnt, rept in zip(count(), repeat('bang bang!', 5)):\n",
    "    print(cnt, rept)"
   ]
  },
  {
   "cell_type": "code",
   "execution_count": 372,
   "metadata": {},
   "outputs": [
    {
     "name": "stdout",
     "output_type": "stream",
     "text": [
      "2 0 0\n",
      "2 1 2\n",
      "2 2 4\n",
      "2 3 6\n",
      "2 4 8\n"
     ]
    }
   ],
   "source": [
    "# feed lambda with 'repeat(2)' and 'range(5)'\n",
    "#   repeat(2)  --  let the other arg decide (indefinite num itself)\n",
    "#   range(5)   --  [0,1,2,3,4]\n",
    "#   lambda     --  map 2 with [0,1,2,3,4] while doing multiply \n",
    "\n",
    "for i in map(lambda x, y: (x, y, x * y), repeat(2), range(5)):\n",
    "    print(\"{} {} {}\".format(*i))"
   ]
  },
  {
   "cell_type": "markdown",
   "metadata": {},
   "source": [
    "### Filtering"
   ]
  },
  {
   "cell_type": "markdown",
   "metadata": {},
   "source": [
    "- dropwhile"
   ]
  },
  {
   "cell_type": "code",
   "execution_count": 373,
   "metadata": {},
   "outputs": [
    {
     "name": "stdout",
     "output_type": "stream",
     "text": [
      "Testing: 20\n",
      "Testing: 30\n",
      "Testing: 150\n",
      ">> Yielding: 150\n",
      ">> Yielding: 66\n"
     ]
    }
   ],
   "source": [
    "def drop_it(x):\n",
    "    print(\"Testing:\", x)\n",
    "    return x < 100\n",
    "\n",
    "# WARNING:\n",
    "#   it does NOT check every item of the input \n",
    "#   after the cond is false the first time, \n",
    "#     all the remaining items are returned (what the ..)\n",
    "\n",
    "for i in dropwhile(drop_it, [20, 30, 150, 66]):  # tips: 66 shouldn't be here\n",
    "    print(\">> Yielding:\",i) "
   ]
  },
  {
   "cell_type": "markdown",
   "metadata": {},
   "source": [
    "- takewhile"
   ]
  },
  {
   "cell_type": "code",
   "execution_count": 374,
   "metadata": {},
   "outputs": [
    {
     "name": "stdout",
     "output_type": "stream",
     "text": [
      "Testing: 20\n",
      ">> Yielding: 20\n",
      "Testing: 30\n",
      ">> Yielding: 30\n",
      "Testing: 150\n"
     ]
    }
   ],
   "source": [
    "def take_it(x):\n",
    "    print(\"Testing:\", x)\n",
    "    return x < 100 \n",
    "\n",
    "# same mechanics as 'dropwhile'\n",
    "#   got ture/false then stop processing \n",
    "\n",
    "for i in takewhile(take_it, [20, 30, 150, 10]):  # tips: 10 should be here\n",
    "    print(\">> Yielding:\",i) "
   ]
  },
  {
   "cell_type": "markdown",
   "metadata": {},
   "source": [
    "- filter"
   ]
  },
  {
   "cell_type": "code",
   "execution_count": 375,
   "metadata": {},
   "outputs": [
    {
     "name": "stdout",
     "output_type": "stream",
     "text": [
      "\n",
      "Testing: -1\n",
      "\n",
      "Testing: 0\n",
      "Yielding: 0\n",
      "\n",
      "Testing: 1\n",
      "Yielding: 1\n",
      "\n",
      "Testing: 2\n",
      "Yielding: 2\n",
      "\n",
      "Testing: -2\n"
     ]
    }
   ],
   "source": [
    "# Yes! \n",
    "# the 'filter' does check Every items in the list (compare to xxwhile)\n",
    "\n",
    "def check_item(x):\n",
    "    print(\"\\nTesting:\", x) \n",
    "    return x >= 0 \n",
    "\n",
    "for i in filter(check_item, [-1, 0, 1, 2, -2]):  # >=0 is True (Testing)\n",
    "    print(\"Yielding:\", i)"
   ]
  },
  {
   "cell_type": "markdown",
   "metadata": {},
   "source": [
    "- filterfalse"
   ]
  },
  {
   "cell_type": "code",
   "execution_count": 376,
   "metadata": {},
   "outputs": [
    {
     "name": "stdout",
     "output_type": "stream",
     "text": [
      "\n",
      "Testing: -1\n",
      "Yielding: -1\n",
      "\n",
      "Testing: 0\n",
      "\n",
      "Testing: 1\n",
      "\n",
      "Testing: 2\n",
      "\n",
      "Testing: -2\n",
      "Yielding: -2\n"
     ]
    }
   ],
   "source": [
    "def check_item(x):\n",
    "    print(\"\\nTesting:\",x)\n",
    "    return x >= 0\n",
    "\n",
    "for i in filterfalse(check_item, [-1, 0, 1, 2, -2]): # >=0 is False (Testing)\n",
    "    print(\"Yielding:\", i) "
   ]
  },
  {
   "cell_type": "markdown",
   "metadata": {},
   "source": [
    "- compress"
   ]
  },
  {
   "cell_type": "code",
   "execution_count": 377,
   "metadata": {},
   "outputs": [
    {
     "name": "stdout",
     "output_type": "stream",
     "text": [
      "2 5 8 "
     ]
    }
   ],
   "source": [
    "# 'compress' uses the values in another iterable \n",
    "#   to indicate where to accept/ignore the values \n",
    "\n",
    "# accept/ignore \n",
    "every_third = cycle([False, False, True])\n",
    "\n",
    "data = range(0, 10)\n",
    "\n",
    "# 0, 1, 2  ==>  FFT => 2 \n",
    "# 3, 4, 5  ==>  FFT => 5 \n",
    "# 6, 7, 8  ==>  FFT => 8\n",
    "# 9,       ==>  F\\\\\n",
    "for i in compress(data, every_third):\n",
    "    print(i, end=' ')"
   ]
  },
  {
   "cell_type": "markdown",
   "metadata": {},
   "source": [
    "### Grouping Data"
   ]
  },
  {
   "cell_type": "code",
   "execution_count": 378,
   "metadata": {},
   "outputs": [],
   "source": [
    "import functools\n",
    "from itertools import *\n",
    "import operator\n",
    "from pprint import pprint"
   ]
  },
  {
   "cell_type": "code",
   "execution_count": 379,
   "metadata": {},
   "outputs": [],
   "source": [
    "@functools.total_ordering\n",
    "class Point:\n",
    "\n",
    "    def __init__(self, x, y):\n",
    "        self.x = x\n",
    "        self.y = y\n",
    "\n",
    "    def __repr__(self):\n",
    "        return '({}, {})'.format(self.x, self.y)\n",
    "\n",
    "    def __eq__(self, other):\n",
    "        return (self.x, self.y) == (other.x, other.y)\n",
    "\n",
    "    def __gt__(self, other):\n",
    "        return (self.x, self.y) == (other.x, other.y)"
   ]
  },
  {
   "cell_type": "code",
   "execution_count": 380,
   "metadata": {},
   "outputs": [
    {
     "name": "stdout",
     "output_type": "stream",
     "text": [
      "Data:\n",
      "[(0, 0),\n",
      " (1, 1),\n",
      " (2, 2),\n",
      " (0, 3),\n",
      " (1, 4),\n",
      " (2, 5),\n",
      " (0, 6)]\n"
     ]
    }
   ],
   "source": [
    "# create a dataset\n",
    "\n",
    "data = list(map(\n",
    "    Point,\n",
    "    cycle(islice(count(), 3)),  # == 'range(3)' (But being cycled)\n",
    "    islice(count(), 7)          # == 'range(7)'\n",
    "))\n",
    "\n",
    "print('Data:')\n",
    "pprint(data, width=35)"
   ]
  },
  {
   "cell_type": "code",
   "execution_count": 381,
   "metadata": {},
   "outputs": [
    {
     "name": "stdout",
     "output_type": "stream",
     "text": [
      "Grouped, unsorted:\n",
      "0 [(0, 0)]\n",
      "1 [(1, 1)]\n",
      "2 [(2, 2)]\n",
      "0 [(0, 3)]\n",
      "1 [(1, 4)]\n",
      "2 [(2, 5)]\n",
      "0 [(0, 6)]\n"
     ]
    }
   ],
   "source": [
    "# group the unsorted data based on X values \n",
    "\n",
    "print('Grouped, unsorted:')\n",
    "\n",
    "for k,g in groupby(data, operator.attrgetter('x')): \n",
    "    print(k, list(g))"
   ]
  },
  {
   "cell_type": "code",
   "execution_count": 382,
   "metadata": {},
   "outputs": [
    {
     "name": "stdout",
     "output_type": "stream",
     "text": [
      "Sorted:\n",
      "[(0, 6),\n",
      " (2, 5),\n",
      " (1, 4),\n",
      " (0, 3),\n",
      " (2, 2),\n",
      " (1, 1),\n",
      " (0, 0)]\n"
     ]
    }
   ],
   "source": [
    "# sort the data\n",
    "\n",
    "data.sort()\n",
    "\n",
    "print('Sorted:')\n",
    "pprint(data, width=35)"
   ]
  },
  {
   "cell_type": "code",
   "execution_count": 383,
   "metadata": {},
   "outputs": [
    {
     "name": "stdout",
     "output_type": "stream",
     "text": [
      "Grouped, sorted:\n",
      "0 [(0, 6)]\n",
      "2 [(2, 5)]\n",
      "1 [(1, 4)]\n",
      "0 [(0, 3)]\n",
      "2 [(2, 2)]\n",
      "1 [(1, 1)]\n",
      "0 [(0, 0)]\n"
     ]
    }
   ],
   "source": [
    "# group the sorted data based on X values \n",
    "\n",
    "print('Grouped, sorted:')\n",
    "for k, g in groupby(data, operator.attrgetter('x')):\n",
    "    print(k, list(g)) "
   ]
  },
  {
   "cell_type": "markdown",
   "metadata": {},
   "source": [
    "### Combining Inputs"
   ]
  },
  {
   "cell_type": "markdown",
   "metadata": {},
   "source": [
    "- accumulate"
   ]
  },
  {
   "cell_type": "code",
   "execution_count": 384,
   "metadata": {},
   "outputs": [
    {
     "data": {
      "text/plain": [
       "[0, 1, 3, 6, 10]"
      ]
     },
     "execution_count": 384,
     "metadata": {},
     "output_type": "execute_result"
    },
    {
     "data": {
      "text/plain": [
       "['a', 'ab', 'abc', 'abcd', 'abcde']"
      ]
     },
     "execution_count": 384,
     "metadata": {},
     "output_type": "execute_result"
    }
   ],
   "source": [
    "list(\n",
    "    accumulate(range(0,5))  # 0, 0+1, 0+1+2, 0+1+2+3, 0+1+2+3+4 \n",
    ")\n",
    "\n",
    "list(\n",
    "    accumulate('abcde')     # a ab abc abcd abcde\n",
    ")"
   ]
  },
  {
   "cell_type": "code",
   "execution_count": 385,
   "metadata": {},
   "outputs": [
    {
     "data": {
      "text/plain": [
       "['a',\n",
       " ['a', 'b'],\n",
       " [['a', 'b'], 'c'],\n",
       " [[['a', 'b'], 'c'], 'd'],\n",
       " [[[['a', 'b'], 'c'], 'd'], 'e']]"
      ]
     },
     "execution_count": 385,
     "metadata": {},
     "output_type": "execute_result"
    }
   ],
   "source": [
    "# u can customize your own (default is 'add')\n",
    "\n",
    "def f(a, b):\n",
    "    return [a,b]  # hella fun!\n",
    "\n",
    "# a \n",
    "# a - b \n",
    "# a b - c \n",
    "# a b c - d\n",
    "# a b c d - e\n",
    "list(accumulate('abcde', f)) "
   ]
  },
  {
   "cell_type": "markdown",
   "metadata": {},
   "source": [
    "- product"
   ]
  },
  {
   "cell_type": "code",
   "execution_count": 386,
   "metadata": {},
   "outputs": [
    {
     "data": {
      "text/plain": [
       "[('1', '6'), ('1', '7'), ('2', '6'), ('2', '7'), ('3', '6'), ('3', '7')]"
      ]
     },
     "execution_count": 386,
     "metadata": {},
     "output_type": "execute_result"
    },
    {
     "data": {
      "text/plain": [
       "[('1', '6'), ('1', '7'), ('2', '6'), ('2', '7'), ('3', '6'), ('3', '7')]"
      ]
     },
     "execution_count": 386,
     "metadata": {},
     "output_type": "execute_result"
    }
   ],
   "source": [
    "# short intro XD\n",
    "\n",
    "list(product('123','67'))\n",
    "[(x,y) for x in '123' for y in '67']"
   ]
  },
  {
   "cell_type": "code",
   "execution_count": 387,
   "metadata": {},
   "outputs": [
    {
     "data": {
      "text/plain": [
       "[(2, '- Heart'),\n",
       " (2, '-- Spade'),\n",
       " (2, '--- Club'),\n",
       " (2, '---- Diamond'),\n",
       " (3, '- Heart')]"
      ]
     },
     "execution_count": 387,
     "metadata": {},
     "output_type": "execute_result"
    },
    {
     "name": "stdout",
     "output_type": "stream",
     "text": [
      "     2 - Heart       2 -- Spade       2 --- Club       2 ---- Diamond  \n",
      "     3 - Heart       3 -- Spade       3 --- Club       3 ---- Diamond  \n",
      "     4 - Heart       4 -- Spade       4 --- Club       4 ---- Diamond  \n",
      "     5 - Heart       5 -- Spade       5 --- Club       5 ---- Diamond  \n",
      "     6 - Heart       6 -- Spade       6 --- Club       6 ---- Diamond  \n",
      "     7 - Heart       7 -- Spade       7 --- Club       7 ---- Diamond  \n",
      "     8 - Heart       8 -- Spade       8 --- Club       8 ---- Diamond  \n",
      "     9 - Heart       9 -- Spade       9 --- Club       9 ---- Diamond  \n",
      "    10 - Heart      10 -- Spade      10 --- Club      10 ---- Diamond  \n",
      "  Jack - Heart    Jack -- Spade    Jack --- Club    Jack ---- Diamond  \n",
      " Queen - Heart   Queen -- Spade   Queen --- Club   Queen ---- Diamond  \n",
      "  King - Heart    King -- Spade    King --- Club    King ---- Diamond  \n",
      "   Ace - Heart     Ace -- Spade     Ace --- Club     Ace ---- Diamond  \n"
     ]
    }
   ],
   "source": [
    "from pprint import pprint \n",
    "\n",
    "FACE_CARDS = ('Jack', 'Queen', 'King', 'Ace')\n",
    "SUITS = ('- Heart', '-- Spade', '--- Club', '---- Diamond')\n",
    "\n",
    "# Card   first   (2~11, JQKA)\n",
    "# Type   second  (HSCD)\n",
    "DECK = list(product(\n",
    "    chain(range(2, 11), FACE_CARDS),  # a list contains [ 2~11, Q, K, A ]\n",
    "    SUITS\n",
    "))\n",
    "\n",
    "DECK[0:5]  # it's a list after all \n",
    "\n",
    "\n",
    "for card in DECK:\n",
    "    print('{:>6} {}'.format(*card), end='  ')  # e.g. card: (2, '- Heart')  \n",
    "    if card[1] == SUITS[-1]:                   # card[1] get the type (\\n)\n",
    "        # fancy! But I haven't understand what the 'if' means \n",
    "        print() "
   ]
  },
  {
   "cell_type": "code",
   "execution_count": 388,
   "metadata": {},
   "outputs": [
    {
     "name": "stdout",
     "output_type": "stream",
     "text": [
      " 2 -H  3 -H  4 -H  5 -H  6 -H  7 -H  8 -H  9 -H 10 -H  J -H  Q -H  K -H  A -H \n",
      " 2 -S  3 -S  4 -S  5 -S  6 -S  7 -S  8 -S  9 -S 10 -S  J -S  Q -S  K -S  A -S \n",
      " 2 -C  3 -C  4 -C  5 -C  6 -C  7 -C  8 -C  9 -C 10 -C  J -C  Q -C  K -C  A -C \n",
      " 2 -D  3 -D  4 -D  5 -D  6 -D  7 -D  8 -D  9 -D 10 -D  J -D  Q -D  K -D  A -D \n"
     ]
    }
   ],
   "source": [
    "SUITS = ('-H', '-S', '-C', '-D')  # Type \n",
    "FACE_CARDS = ('J', 'Q', 'K', 'A') # Card\n",
    "\n",
    "# Type   first   (HSCD)\n",
    "# Card   second  (2~11, JQKA)\n",
    "DECK = list(product(\n",
    "    SUITS,\n",
    "    chain(range(2, 11), FACE_CARDS),  # a list contains [ 2~11, Q, K, A ]\n",
    "))\n",
    "\n",
    "# Ordering \n",
    "\n",
    "for card in DECK:\n",
    "    print('{:>2} {}'.format(card[1], card[0]), end=' ')\n",
    "    if card[1] == FACE_CARDS[-1]:\n",
    "        print()"
   ]
  },
  {
   "cell_type": "code",
   "execution_count": 389,
   "metadata": {},
   "outputs": [
    {
     "data": {
      "text/plain": [
       "' Ah ah, no cards!! '"
      ]
     },
     "execution_count": 389,
     "metadata": {},
     "output_type": "execute_result"
    },
    {
     "name": "stdout",
     "output_type": "stream",
     "text": [
      "(0,) (1,) (2,) \n",
      "\n",
      "(0, 0, 0) (0, 0, 1) (0, 0, 2) \n",
      "(0, 1, 0) (0, 1, 1) (0, 1, 2) \n",
      "(0, 2, 0) (0, 2, 1) (0, 2, 2) \n",
      "(1, 0, 0) (1, 0, 1) (1, 0, 2) \n",
      "(1, 1, 0) (1, 1, 1) (1, 1, 2) \n",
      "(1, 2, 0) (1, 2, 1) (1, 2, 2) \n",
      "(2, 0, 0) (2, 0, 1) (2, 0, 2) \n",
      "(2, 1, 0) (2, 1, 1) (2, 1, 2) \n",
      "(2, 2, 0) (2, 2, 1) (2, 2, 2) \n",
      "\n"
     ]
    }
   ],
   "source": [
    "''' Ah ah, no cards!! '''\n",
    "\n",
    "def show(iterable):\n",
    "    for i, item in enumerate(iterable, 1):  # start with 1 (index)\n",
    "        print(item, end=' ')\n",
    "        if (i % 3) == 0:\n",
    "            print()\n",
    "        \n",
    "    \n",
    "    print()\n",
    "    \n",
    "\n",
    "show(\n",
    "    list(product(\n",
    "        range(3),  # put the 'range()' into the 'show()' as arg (iter->item)\n",
    "        repeat=1   # it's an param of the 'product' \n",
    "    ))\n",
    ")\n",
    "\n",
    "show(\n",
    "    list(product(\n",
    "        range(3),\n",
    "        repeat=3\n",
    "    ))\n",
    ")"
   ]
  },
  {
   "cell_type": "markdown",
   "metadata": {},
   "source": [
    "- permutations"
   ]
  },
  {
   "cell_type": "code",
   "execution_count": 390,
   "metadata": {},
   "outputs": [],
   "source": [
    "def show(iterable):\n",
    "    '''\n",
    "    This function is actually optional.\n",
    "    \n",
    "    It's just for showing shorter results,\n",
    "        since the original result is a bunch of tuples. (and newline XD)\n",
    "    '''\n",
    "    \n",
    "    first = None \n",
    "    \n",
    "    for idx, item in enumerate(iterable, 1):\n",
    "        \n",
    "        if first != item[0]:                 # not fully understand these...\n",
    "            if first is not None:\n",
    "                print('line-end')\n",
    "                \n",
    "            first = item[0]\n",
    "            \n",
    "        print(''.join(item), 'hi',end=' ')   # tuple -> single string \n",
    "        \n",
    "    print()"
   ]
  },
  {
   "cell_type": "code",
   "execution_count": 391,
   "metadata": {},
   "outputs": [
    {
     "name": "stdout",
     "output_type": "stream",
     "text": [
      "abcd hi abdc hi acbd hi acdb hi adbc hi adcb hi line-end\n",
      "bacd hi badc hi bcad hi bcda hi bdac hi bdca hi line-end\n",
      "cabd hi cadb hi cbad hi cbda hi cdab hi cdba hi line-end\n",
      "dabc hi dacb hi dbac hi dbca hi dcab hi dcba hi \n"
     ]
    },
    {
     "data": {
      "text/plain": [
       "[('a', 'b', 'c', 'd'),\n",
       " ('a', 'b', 'd', 'c'),\n",
       " ('a', 'c', 'b', 'd'),\n",
       " ('a', 'c', 'd', 'b')]"
      ]
     },
     "execution_count": 391,
     "metadata": {},
     "output_type": "execute_result"
    }
   ],
   "source": [
    "show(\n",
    "    permutations('abcd')  # each has 2**(n-1) items (6 for this example)\n",
    ")\n",
    "\n",
    "# just for testing :>\n",
    "list(permutations('abcd'))[0:4]"
   ]
  },
  {
   "cell_type": "code",
   "execution_count": 392,
   "metadata": {},
   "outputs": [
    {
     "name": "stdout",
     "output_type": "stream",
     "text": [
      "a hi line-end\n",
      "b hi line-end\n",
      "c hi line-end\n",
      "d hi \n",
      "\n",
      "ab hi ac hi ad hi line-end\n",
      "ba hi bc hi bd hi line-end\n",
      "ca hi cb hi cd hi line-end\n",
      "da hi db hi dc hi \n",
      "\n",
      "abcd hi abdc hi acbd hi acdb hi adbc hi adcb hi line-end\n",
      "bacd hi badc hi bcad hi bcda hi bdac hi bdca hi line-end\n",
      "cabd hi cadb hi cbad hi cbda hi cdab hi cdba hi line-end\n",
      "dabc hi dacb hi dbac hi dbca hi dcab hi dcba hi \n"
     ]
    }
   ],
   "source": [
    "show(\n",
    "    permutations('abcd', r=1)\n",
    ")\n",
    "\n",
    "print()\n",
    "\n",
    "show(\n",
    "    permutations('abcd', r=2)\n",
    ")\n",
    "\n",
    "print()\n",
    "\n",
    "show(\n",
    "    permutations('abcd', r=len('abcd'))\n",
    ")"
   ]
  },
  {
   "cell_type": "markdown",
   "metadata": {},
   "source": [
    "- combinations"
   ]
  },
  {
   "cell_type": "code",
   "execution_count": 393,
   "metadata": {},
   "outputs": [],
   "source": [
    "def show(iterable):\n",
    "    \n",
    "    first = None \n",
    "    \n",
    "    for idx, item in enumerate(iterable, 1):\n",
    "        \n",
    "        if first != item[0]:\n",
    "            if first is not None:\n",
    "                print()\n",
    "            first = item[0]\n",
    "        \n",
    "        print(''.join(item), end=' ')\n",
    "        \n",
    "    print()"
   ]
  },
  {
   "cell_type": "code",
   "execution_count": 394,
   "metadata": {},
   "outputs": [
    {
     "data": {
      "text/plain": [
       "'Unique paris:'"
      ]
     },
     "execution_count": 394,
     "metadata": {},
     "output_type": "execute_result"
    },
    {
     "name": "stdout",
     "output_type": "stream",
     "text": [
      "ab ac ad \n",
      "bc bd \n",
      "cd \n",
      "abc abd acd \n",
      "bcd \n"
     ]
    }
   ],
   "source": [
    "\"Unique paris:\"\n",
    "\n",
    "show(\n",
    "    combinations('abcd', r=2)  # the param 'r' is required \n",
    ")\n",
    "\n",
    "show(\n",
    "    combinations('abcd', r=3)\n",
    ")"
   ]
  },
  {
   "cell_type": "code",
   "execution_count": 395,
   "metadata": {},
   "outputs": [
    {
     "data": {
      "text/plain": [
       "' Including individual input elements '"
      ]
     },
     "execution_count": 395,
     "metadata": {},
     "output_type": "execute_result"
    },
    {
     "name": "stdout",
     "output_type": "stream",
     "text": [
      "aa ab ac ad \n",
      "bb bc bd \n",
      "cc cd \n",
      "dd \n",
      "aaa aab aac aad abb abc abd acc acd add \n",
      "bbb bbc bbd bcc bcd bdd \n",
      "ccc ccd cdd \n",
      "ddd \n"
     ]
    }
   ],
   "source": [
    "\"\"\" Including individual input elements \"\"\"\n",
    "\n",
    "show(\n",
    "    combinations_with_replacement('abcd', r=2)\n",
    ")\n",
    "\n",
    "show(\n",
    "    combinations_with_replacement('abcd', r=3)\n",
    ")"
   ]
  }
 ],
 "metadata": {
  "kernelspec": {
   "display_name": "Python 3",
   "language": "python",
   "name": "python3"
  },
  "language_info": {
   "codemirror_mode": {
    "name": "ipython",
    "version": 3
   },
   "file_extension": ".py",
   "mimetype": "text/x-python",
   "name": "python",
   "nbconvert_exporter": "python",
   "pygments_lexer": "ipython3",
   "version": "3.6.5"
  }
 },
 "nbformat": 4,
 "nbformat_minor": 2
}
