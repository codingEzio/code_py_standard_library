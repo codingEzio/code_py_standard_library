{
 "cells": [
  {
   "cell_type": "markdown",
   "metadata": {},
   "source": [
    "Resources \n",
    "- link: [Sorting HOW TO](https://docs.python.org/3/howto/sorting.html)\n",
    "- version: 3.7.0 "
   ]
  },
  {
   "cell_type": "markdown",
   "metadata": {},
   "source": [
    "#### *.sort()*"
   ]
  },
  {
   "cell_type": "code",
   "execution_count": 1,
   "metadata": {},
   "outputs": [
    {
     "data": {
      "text/plain": [
       "[1, 2, 3]"
      ]
     },
     "execution_count": 1,
     "metadata": {},
     "output_type": "execute_result"
    }
   ],
   "source": [
    "_list = [3, 1, 2]\n",
    "\n",
    "_list.sort()  # in-place, return None, list Only \n",
    "_list"
   ]
  },
  {
   "cell_type": "markdown",
   "metadata": {},
   "source": [
    "#### *sorted()* 101"
   ]
  },
  {
   "cell_type": "code",
   "execution_count": 2,
   "metadata": {},
   "outputs": [
    {
     "data": {
      "text/plain": [
       "[1, 2, 3]"
      ]
     },
     "execution_count": 2,
     "metadata": {},
     "output_type": "execute_result"
    },
    {
     "data": {
      "text/plain": [
       "['age', 'name']"
      ]
     },
     "execution_count": 2,
     "metadata": {},
     "output_type": "execute_result"
    }
   ],
   "source": [
    "_list = [3, 1, 2]\n",
    "_dict = {'name':'Alice', 'age':20}\n",
    "\n",
    "sorted(_list)  # return sorted obj, not modifing original\n",
    "sorted(_dict)  # sort key only "
   ]
  },
  {
   "cell_type": "code",
   "execution_count": 3,
   "metadata": {},
   "outputs": [
    {
     "data": {
      "text/plain": [
       "['I', 'Jupyter', 'Lab!', 'am', 'on', 'working']"
      ]
     },
     "execution_count": 3,
     "metadata": {},
     "output_type": "execute_result"
    },
    {
     "data": {
      "text/plain": [
       "['am', 'I', 'Jupyter', 'Lab!', 'on', 'working']"
      ]
     },
     "execution_count": 3,
     "metadata": {},
     "output_type": "execute_result"
    }
   ],
   "source": [
    "_string = \"I am working on Jupyter Lab!\".split()\n",
    "\n",
    "sorted(_string)\n",
    "sorted(_string, key=str.lower)"
   ]
  },
  {
   "cell_type": "markdown",
   "metadata": {},
   "source": [
    "#### *sorted()* and *operator* module"
   ]
  },
  {
   "cell_type": "code",
   "execution_count": 4,
   "metadata": {},
   "outputs": [],
   "source": [
    "# Some preliminaries \n",
    "\n",
    "from operator import itemgetter, attrgetter\n",
    "\n",
    "score_tuples = [\n",
    "    ('Joe', 100, 23),\n",
    "    ('Fob', 90, 17),\n",
    "    ('Aoy', 110, 20),\n",
    "]\n",
    "\n",
    "class Score:\n",
    "    def __init__(self, name, score, age):\n",
    "        self.name  = name \n",
    "        self.score = score\n",
    "        self.age   = age \n",
    "    def __repr__(self):\n",
    "        return repr((self.name, self.score, self.age))\n",
    "    \n",
    "score_objs = [\n",
    "    Score('Joe', 100, 23),\n",
    "    Score('Fob', 90, 17),\n",
    "    Score('Aoy', 110, 20),\n",
    "]"
   ]
  },
  {
   "cell_type": "code",
   "execution_count": 5,
   "metadata": {},
   "outputs": [
    {
     "data": {
      "text/plain": [
       "' for tuple '"
      ]
     },
     "execution_count": 5,
     "metadata": {},
     "output_type": "execute_result"
    },
    {
     "data": {
      "text/plain": [
       "[('Aoy', 110, 20), ('Fob', 90, 17), ('Joe', 100, 23)]"
      ]
     },
     "execution_count": 5,
     "metadata": {},
     "output_type": "execute_result"
    },
    {
     "data": {
      "text/plain": [
       "[('Aoy', 110, 20), ('Fob', 90, 17), ('Joe', 100, 23)]"
      ]
     },
     "execution_count": 5,
     "metadata": {},
     "output_type": "execute_result"
    },
    {
     "name": "stdout",
     "output_type": "stream",
     "text": [
      "\n"
     ]
    },
    {
     "data": {
      "text/plain": [
       "[('Fob', 90, 17), ('Aoy', 110, 20), ('Joe', 100, 23)]"
      ]
     },
     "execution_count": 5,
     "metadata": {},
     "output_type": "execute_result"
    },
    {
     "data": {
      "text/plain": [
       "[('Fob', 90, 17), ('Aoy', 110, 20), ('Joe', 100, 23)]"
      ]
     },
     "execution_count": 5,
     "metadata": {},
     "output_type": "execute_result"
    }
   ],
   "source": [
    "''' for tuple '''\n",
    "\n",
    "# by name \n",
    "sorted(score_tuples)\n",
    "sorted(score_tuples, key=itemgetter(0)); print()\n",
    "\n",
    "# by age \n",
    "sorted(score_tuples, key=lambda score: score[2])\n",
    "sorted(score_tuples, key=itemgetter(2))"
   ]
  },
  {
   "cell_type": "code",
   "execution_count": 6,
   "metadata": {},
   "outputs": [
    {
     "data": {
      "text/plain": [
       "' for object '"
      ]
     },
     "execution_count": 6,
     "metadata": {},
     "output_type": "execute_result"
    },
    {
     "data": {
      "text/plain": [
       "[('Aoy', 110, 20), ('Fob', 90, 17), ('Joe', 100, 23)]"
      ]
     },
     "execution_count": 6,
     "metadata": {},
     "output_type": "execute_result"
    },
    {
     "data": {
      "text/plain": [
       "[('Aoy', 110, 20), ('Fob', 90, 17), ('Joe', 100, 23)]"
      ]
     },
     "execution_count": 6,
     "metadata": {},
     "output_type": "execute_result"
    },
    {
     "name": "stdout",
     "output_type": "stream",
     "text": [
      "\n"
     ]
    },
    {
     "data": {
      "text/plain": [
       "[('Fob', 90, 17), ('Aoy', 110, 20), ('Joe', 100, 23)]"
      ]
     },
     "execution_count": 6,
     "metadata": {},
     "output_type": "execute_result"
    },
    {
     "data": {
      "text/plain": [
       "[('Fob', 90, 17), ('Aoy', 110, 20), ('Joe', 100, 23)]"
      ]
     },
     "execution_count": 6,
     "metadata": {},
     "output_type": "execute_result"
    }
   ],
   "source": [
    "''' for object '''\n",
    "\n",
    "# by name \n",
    "sorted(score_objs, key=lambda score: score.name)\n",
    "sorted(score_objs, key=attrgetter('name')); print()\n",
    "\n",
    "# by age \n",
    "sorted(score_objs, key=lambda score: score.age)\n",
    "sorted(score_objs, key=attrgetter('age'))"
   ]
  },
  {
   "cell_type": "code",
   "execution_count": 7,
   "metadata": {},
   "outputs": [
    {
     "data": {
      "text/plain": [
       "' more about itemgetter & attrgetter '"
      ]
     },
     "execution_count": 7,
     "metadata": {},
     "output_type": "execute_result"
    },
    {
     "data": {
      "text/plain": [
       "[('Aoy', 110, 20), ('Fob', 90, 17), ('Joe', 100, 23)]"
      ]
     },
     "execution_count": 7,
     "metadata": {},
     "output_type": "execute_result"
    },
    {
     "data": {
      "text/plain": [
       "[('Joe', 100, 23), ('Fob', 90, 17), ('Aoy', 110, 20)]"
      ]
     },
     "execution_count": 7,
     "metadata": {},
     "output_type": "execute_result"
    },
    {
     "name": "stdout",
     "output_type": "stream",
     "text": [
      "\n"
     ]
    },
    {
     "data": {
      "text/plain": [
       "[('Aoy', 110, 20), ('Fob', 90, 17), ('Joe', 100, 23)]"
      ]
     },
     "execution_count": 7,
     "metadata": {},
     "output_type": "execute_result"
    },
    {
     "data": {
      "text/plain": [
       "[('Joe', 100, 23), ('Fob', 90, 17), ('Aoy', 110, 20)]"
      ]
     },
     "execution_count": 7,
     "metadata": {},
     "output_type": "execute_result"
    }
   ],
   "source": [
    "''' more about itemgetter & attrgetter '''\n",
    "\n",
    "# tuple \n",
    "sorted(score_tuples, key=itemgetter(0, 1))\n",
    "sorted(score_tuples, key=itemgetter(0, 1), reverse=True); print()\n",
    "\n",
    "# object\n",
    "sorted(score_objs, key=attrgetter('name', 'score'))\n",
    "sorted(score_objs, key=attrgetter('name', 'score'), reverse=True)"
   ]
  },
  {
   "cell_type": "markdown",
   "metadata": {},
   "source": [
    "### sort ***stability***"
   ]
  },
  {
   "cell_type": "code",
   "execution_count": 28,
   "metadata": {},
   "outputs": [
    {
     "data": {
      "text/plain": [
       "[('blue', 3), ('gray', 9), ('red', 10), ('red', 5)]"
      ]
     },
     "execution_count": 28,
     "metadata": {},
     "output_type": "execute_result"
    },
    {
     "data": {
      "text/plain": [
       "[('red', 10), ('red', 5), ('gray', 9), ('blue', 3)]"
      ]
     },
     "execution_count": 28,
     "metadata": {},
     "output_type": "execute_result"
    }
   ],
   "source": [
    "colors = [\n",
    "    ('red', 10),\n",
    "    ('red', 5),\n",
    "    ('blue', 3),\n",
    "    ('gray', 9)\n",
    "]\n",
    "\n",
    "# if multiple records have the SAME key\n",
    "#   their original order is surely preserved :)\n",
    "sorted(colors, key=itemgetter(0))\n",
    "sorted(colors, key=itemgetter(0), reverse=True)  # preserved as well"
   ]
  },
  {
   "cell_type": "code",
   "execution_count": 10,
   "metadata": {},
   "outputs": [
    {
     "data": {
      "text/plain": [
       "[('Bob', 110, 18), ('Hay', 85, 19), ('John', 100, 20), ('Xoe', 70, 20)]"
      ]
     },
     "execution_count": 10,
     "metadata": {},
     "output_type": "execute_result"
    },
    {
     "data": {
      "text/plain": [
       "[('Bob', 110, 18), ('John', 100, 20), ('Hay', 85, 19), ('Xoe', 70, 20)]"
      ]
     },
     "execution_count": 10,
     "metadata": {},
     "output_type": "execute_result"
    }
   ],
   "source": [
    "# ---- Another example ---- \n",
    "\n",
    "scores = [\n",
    "    Score('John', 100, 20),\n",
    "    Score('Xoe',  70,  20),\n",
    "    Score('Bob',  110, 18),\n",
    "    Score('Hay',  85,  19),\n",
    "]\n",
    "\n",
    "# sort by age \n",
    "std = sorted(scores, key=attrgetter('age'))\n",
    "std\n",
    "\n",
    "# (continue) sort by score (the 'by age' is preserved!!) \n",
    "sorted(std, key=attrgetter('score'), reverse=True)"
   ]
  },
  {
   "cell_type": "markdown",
   "metadata": {},
   "source": [
    "### The old way - *Decorate-Sort-Undecorate*"
   ]
  },
  {
   "cell_type": "code",
   "execution_count": 25,
   "metadata": {},
   "outputs": [
    {
     "data": {
      "text/plain": [
       "(100, 0, ('Joe', 100, 23))"
      ]
     },
     "execution_count": 25,
     "metadata": {},
     "output_type": "execute_result"
    },
    {
     "data": {
      "text/plain": [
       "(90, 1, ('Fob', 90, 17))"
      ]
     },
     "execution_count": 25,
     "metadata": {},
     "output_type": "execute_result"
    },
    {
     "data": {
      "text/plain": [
       "(110, 2, ('Aoy', 110, 20))"
      ]
     },
     "execution_count": 25,
     "metadata": {},
     "output_type": "execute_result"
    }
   ],
   "source": [
    "# This one is just for reference. (examples down below)\n",
    "\n",
    "for idx, stu in enumerate(score_objs):\n",
    "    stu.score, idx, stu"
   ]
  },
  {
   "cell_type": "code",
   "execution_count": 29,
   "metadata": {},
   "outputs": [
    {
     "data": {
      "text/plain": [
       "[('Fob', 90, 17), ('Joe', 100, 23), ('Aoy', 110, 20)]"
      ]
     },
     "execution_count": 29,
     "metadata": {},
     "output_type": "execute_result"
    }
   ],
   "source": [
    "_deco = [\n",
    "    # sort score? => put the score as first argument \n",
    "    #   btw, the index 'i' keeps the sorting list stable (preserved)\n",
    "    (student.score, i, student) for i, student in enumerate(score_objs)\n",
    "]\n",
    "\n",
    "# sort in-place\n",
    "_deco.sort()\n",
    "\n",
    "# access its value \n",
    "[student for grade, i, student in _deco]   "
   ]
  },
  {
   "cell_type": "markdown",
   "metadata": {},
   "source": [
    "### The old way - the ***cmp*** Parameter\n",
    "> This func has been long gone after Python 3.0. <br>And, at Python 3.2, it was added to *functools* module."
   ]
  },
  {
   "cell_type": "code",
   "execution_count": 49,
   "metadata": {},
   "outputs": [
    {
     "data": {
      "text/plain": [
       "' basic stuff '"
      ]
     },
     "execution_count": 49,
     "metadata": {},
     "output_type": "execute_result"
    }
   ],
   "source": [
    "''' basic stuff '''\n",
    "\n",
    "def num_cmp(x, y):\n",
    "    return x - y \n",
    "\n",
    "def num_cmp_reverse(x, y):\n",
    "    return y - x \n",
    "\n",
    "_list = [3, 1, 8, 9, 6]\n",
    "\n",
    "\n",
    "only_works_on_py2 = '''\n",
    "    sorted(_list, cmp=num_cmp)          # as you wish :)\n",
    "    sorted(_list, cmp=num_cmp_reverse)  # same \n",
    "'''"
   ]
  },
  {
   "cell_type": "code",
   "execution_count": 54,
   "metadata": {},
   "outputs": [
    {
     "data": {
      "text/plain": [
       "' whoooo! '"
      ]
     },
     "execution_count": 54,
     "metadata": {},
     "output_type": "execute_result"
    },
    {
     "data": {
      "text/plain": [
       "[1, 3, 7, 8, 9]"
      ]
     },
     "execution_count": 54,
     "metadata": {},
     "output_type": "execute_result"
    },
    {
     "data": {
      "text/plain": [
       "[9, 8, 7, 3, 1]"
      ]
     },
     "execution_count": 54,
     "metadata": {},
     "output_type": "execute_result"
    }
   ],
   "source": [
    "''' whoooo! '''\n",
    "\n",
    "def cmp_to_key(mycmp):\n",
    "    \"\"\" Make the code above able to work (in Python3) \n",
    "        In short, conv the 'cmp' => 'key'.\n",
    "    \"\"\"\n",
    "    class K:\n",
    "        def __init__(self, obj, *args):\n",
    "            self.obj = obj \n",
    "        def __lt__(self, other):\n",
    "            return mycmp(self.obj, other.obj) < 0\n",
    "        def __gt__(self, other):\n",
    "            return mycmp(self.obj, other.obj) > 0\n",
    "        def __eq__(self, other):\n",
    "            return mycmp(self.obj, other.obj) == 0\n",
    "        def __le__(self, other):\n",
    "            return mycmp(self.obj, other.obj) <= 0\n",
    "        def __ge__(self, other):\n",
    "            return mycmp(self.obj, other.obj) >= 0\n",
    "        def __ne__(self, other):\n",
    "            return mycmp(self.obj, other.obj) != 0\n",
    "    return K\n",
    "\n",
    "\n",
    "# This is AWESOME!!\n",
    "\n",
    "sorted(\n",
    "    [3, 1, 7, 9, 8], key=cmp_to_key(num_cmp)\n",
    ")\n",
    "\n",
    "sorted(\n",
    "    [3, 1, 7, 9, 8], key=cmp_to_key(num_cmp_reverse)\n",
    ")"
   ]
  },
  {
   "cell_type": "markdown",
   "metadata": {},
   "source": [
    "### *The End*"
   ]
  },
  {
   "cell_type": "code",
   "execution_count": 58,
   "metadata": {},
   "outputs": [
    {
     "data": {
      "text/plain": [
       "['Bob', 'Dave', 'Alice']"
      ]
     },
     "execution_count": 58,
     "metadata": {},
     "output_type": "execute_result"
    }
   ],
   "source": [
    "# the key function \n",
    "#   can also access external resources. \n",
    "\n",
    "student = ['Dave', 'Bob', 'Alice']\n",
    "grade = {'Dave': 'B', 'Bob': 'A', 'Alice':'D'}\n",
    "\n",
    "sorted(\n",
    "    student, \n",
    "    key=grade.__getitem__  # 'A' -> 'B' -> 'D'  \n",
    ")"
   ]
  }
 ],
 "metadata": {
  "kernelspec": {
   "display_name": "Python 3",
   "language": "python",
   "name": "python3"
  },
  "language_info": {
   "codemirror_mode": {
    "name": "ipython",
    "version": 3
   },
   "file_extension": ".py",
   "mimetype": "text/x-python",
   "name": "python",
   "nbconvert_exporter": "python",
   "pygments_lexer": "ipython3",
   "version": "3.6.5"
  }
 },
 "nbformat": 4,
 "nbformat_minor": 2
}
