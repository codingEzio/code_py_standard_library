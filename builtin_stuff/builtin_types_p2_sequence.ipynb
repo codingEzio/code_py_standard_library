{
 "cells": [
  {
   "cell_type": "markdown",
   "metadata": {},
   "source": [
    "注意:\n",
    "- 此部分基于 *Python* 3.7.0\n",
    "- 自 [iterator-types](https://docs.python.org/3/library/stdtypes.html#iterator-types) 起始"
   ]
  },
  {
   "cell_type": "markdown",
   "metadata": {},
   "source": [
    "提到但未实操的内容 (*partly*)\n",
    "- [collections.abc.Sequence](https://docs.python.org/3/library/collections.abc.html#collections.abc.Sequence)\n",
    "- [collections.abc.MutableSequence](https://docs.python.org/3/library/collections.abc.html#collections.abc.MutableSequence)\n",
    "- [Comparisons](https://docs.python.org/3/reference/expressions.html#comparisons)\n",
    "- [How do I create a multidimensional list?](https://docs.python.org/3/faq/programming.html#faq-multidimensional-list)"
   ]
  },
  {
   "cell_type": "markdown",
   "metadata": {},
   "source": [
    "iterator types"
   ]
  },
  {
   "cell_type": "code",
   "execution_count": 1,
   "metadata": {
    "scrolled": true
   },
   "outputs": [
    {
     "data": {
      "text/plain": [
       "[1, 2, 3]"
      ]
     },
     "execution_count": 1,
     "metadata": {},
     "output_type": "execute_result"
    },
    {
     "data": {
      "text/plain": [
       "<list_iterator at 0x10ed19898>"
      ]
     },
     "execution_count": 1,
     "metadata": {},
     "output_type": "execute_result"
    },
    {
     "data": {
      "text/plain": [
       "1"
      ]
     },
     "execution_count": 1,
     "metadata": {},
     "output_type": "execute_result"
    },
    {
     "data": {
      "text/plain": [
       "2"
      ]
     },
     "execution_count": 1,
     "metadata": {},
     "output_type": "execute_result"
    },
    {
     "data": {
      "text/plain": [
       "3"
      ]
     },
     "execution_count": 1,
     "metadata": {},
     "output_type": "execute_result"
    }
   ],
   "source": [
    "itr = [1, 2, 3]\n",
    "\n",
    "itr                   # list \n",
    "\n",
    "itr = itr.__iter__()  # == iter(itr)\n",
    "\n",
    "itr                   # list iterator\n",
    "\n",
    "itr.__next__()        # == next(itr)\n",
    "itr.__next__()\n",
    "itr.__next__() "
   ]
  },
  {
   "cell_type": "markdown",
   "metadata": {},
   "source": [
    "### Common Sequence Operations"
   ]
  },
  {
   "cell_type": "markdown",
   "metadata": {},
   "source": [
    "in"
   ]
  },
  {
   "cell_type": "code",
   "execution_count": 4,
   "metadata": {
    "scrolled": true
   },
   "outputs": [
    {
     "data": {
      "text/plain": [
       "True"
      ]
     },
     "execution_count": 4,
     "metadata": {},
     "output_type": "execute_result"
    },
    {
     "data": {
      "text/plain": [
       "True"
      ]
     },
     "execution_count": 4,
     "metadata": {},
     "output_type": "execute_result"
    },
    {
     "data": {
      "text/plain": [
       "True"
      ]
     },
     "execution_count": 4,
     "metadata": {},
     "output_type": "execute_result"
    },
    {
     "data": {
      "text/plain": [
       "True"
      ]
     },
     "execution_count": 4,
     "metadata": {},
     "output_type": "execute_result"
    },
    {
     "data": {
      "text/plain": [
       "False"
      ]
     },
     "execution_count": 4,
     "metadata": {},
     "output_type": "execute_result"
    }
   ],
   "source": [
    "'g' in 'google'\n",
    "'g' in set('google')\n",
    "'g' in list('google')\n",
    "\n",
    "1   in [1, 2, 3]  # it's the 'i' in 'for i in blabla'\n",
    "[1] in [1, 2, 3]  # False "
   ]
  },
  {
   "cell_type": "markdown",
   "metadata": {},
   "source": [
    "repetition"
   ]
  },
  {
   "cell_type": "code",
   "execution_count": 6,
   "metadata": {},
   "outputs": [
    {
     "data": {
      "text/plain": [
       "' * '"
      ]
     },
     "execution_count": 6,
     "metadata": {},
     "output_type": "execute_result"
    },
    {
     "data": {
      "text/plain": [
       "True"
      ]
     },
     "execution_count": 6,
     "metadata": {},
     "output_type": "execute_result"
    },
    {
     "data": {
      "text/plain": [
       "False"
      ]
     },
     "execution_count": 6,
     "metadata": {},
     "output_type": "execute_result"
    },
    {
     "data": {
      "text/plain": [
       "[['no'], ['no'], ['no']]"
      ]
     },
     "execution_count": 6,
     "metadata": {},
     "output_type": "execute_result"
    },
    {
     "data": {
      "text/plain": [
       "[['yes'], [], []]"
      ]
     },
     "execution_count": 6,
     "metadata": {},
     "output_type": "execute_result"
    }
   ],
   "source": [
    "''' I mean: * '''\n",
    "\n",
    "\n",
    "# different mechanics\n",
    "a = [[]] * 3      # same [] but were reference multiple times\n",
    "b = [[], [], []]  # each [] is NOT the same \n",
    "\n",
    "id(a[0]) == id(a[1])\n",
    "id(b[0]) == id(b[1])\n",
    "\n",
    "\n",
    "# real examples \n",
    "ra = [[]] * 3\n",
    "ra[0].append('no') \n",
    "ra\n",
    "\n",
    "rb = [[] for i in range(3)]  # same as [[],[],[]]  (manually created)\n",
    "rb[0].append('yes')\n",
    "rb "
   ]
  },
  {
   "cell_type": "markdown",
   "metadata": {},
   "source": [
    "```index```, ```count```"
   ]
  },
  {
   "cell_type": "code",
   "execution_count": 20,
   "metadata": {},
   "outputs": [
    {
     "data": {
      "text/plain": [
       "1"
      ]
     },
     "execution_count": 20,
     "metadata": {},
     "output_type": "execute_result"
    },
    {
     "data": {
      "text/plain": [
       "1"
      ]
     },
     "execution_count": 20,
     "metadata": {},
     "output_type": "execute_result"
    },
    {
     "data": {
      "text/plain": [
       "2"
      ]
     },
     "execution_count": 20,
     "metadata": {},
     "output_type": "execute_result"
    },
    {
     "data": {
      "text/plain": [
       "1"
      ]
     },
     "execution_count": 20,
     "metadata": {},
     "output_type": "execute_result"
    }
   ],
   "source": [
    "# index \n",
    "\n",
    "try:\n",
    "    'mathfun'.index('a')         # --> 0\n",
    "    'mathfun'.index('a',0, 100)  # --> 0 \n",
    "    'mathfun'.index('a',5)       # --> error  \n",
    "except ValueError:\n",
    "    pass\n",
    "\n",
    "\n",
    "# count \n",
    "\n",
    "[1, 2, 1].count(1) \n",
    "'Python' .count('o') "
   ]
  },
  {
   "cell_type": "code",
   "execution_count": 38,
   "metadata": {},
   "outputs": [],
   "source": [
    "[1,2,3].reverse()"
   ]
  }
 ],
 "metadata": {
  "kernelspec": {
   "display_name": "Python 3",
   "language": "python",
   "name": "python3"
  },
  "language_info": {
   "codemirror_mode": {
    "name": "ipython",
    "version": 3
   },
   "file_extension": ".py",
   "mimetype": "text/x-python",
   "name": "python",
   "nbconvert_exporter": "python",
   "pygments_lexer": "ipython3",
   "version": "3.6.5"
  }
 },
 "nbformat": 4,
 "nbformat_minor": 2
}
