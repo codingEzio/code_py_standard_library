{
 "cells": [
  {
   "cell_type": "markdown",
   "metadata": {},
   "source": [
    "- link: \n",
    "    - [subprocess — Spawning Additional Processes](https://pymotw.com/3/subprocess/index.html#82b562ef-2cfa-a49e-4482-5c5d17a067d1)"
   ]
  },
  {
   "cell_type": "markdown",
   "metadata": {},
   "source": [
    "- Three APIs for working with processes.\n",
    "    - ```run()```\n",
    "    - ```call()```, ```check_all()```, ```check_output()```\n",
    "    - ```Popen```"
   ]
  },
  {
   "cell_type": "markdown",
   "metadata": {},
   "source": [
    "- The *subprocess* module is intended to **replace** functions \n",
    "    - such as ```os.system()```, ```os.spawnv()```, \n",
    "    - and the variations of ```popen()``` in the *os* and *popen2* modules."
   ]
  },
  {
   "cell_type": "markdown",
   "metadata": {},
   "source": [
    "- Also note that:\n",
    "    - Some file can only get the **right** result ***outside the Jupyter Notebook***\n",
    "    - i.e. inside a ```.py``` file "
   ]
  },
  {
   "cell_type": "code",
   "execution_count": 4,
   "metadata": {},
   "outputs": [],
   "source": [
    "import subprocess"
   ]
  },
  {
   "cell_type": "markdown",
   "metadata": {},
   "source": [
    "### Running External Command"
   ]
  },
  {
   "cell_type": "markdown",
   "metadata": {},
   "source": [
    "- right on!"
   ]
  },
  {
   "cell_type": "code",
   "execution_count": 5,
   "metadata": {
    "scrolled": true
   },
   "outputs": [
    {
     "data": {
      "text/plain": [
       "['pwd', '-P']"
      ]
     },
     "execution_count": 5,
     "metadata": {},
     "output_type": "execute_result"
    },
    {
     "data": {
      "text/plain": [
       "0"
      ]
     },
     "execution_count": 5,
     "metadata": {},
     "output_type": "execute_result"
    }
   ],
   "source": [
    "# passin' list \n",
    "completed = subprocess.run(['pwd','-P'])\n",
    "\n",
    "completed.args\n",
    "completed.returncode  # 0: success "
   ]
  },
  {
   "cell_type": "markdown",
   "metadata": {},
   "source": [
    "- *subprocess* in the shell XD"
   ]
  },
  {
   "cell_type": "code",
   "execution_count": 6,
   "metadata": {},
   "outputs": [
    {
     "name": "stdout",
     "output_type": "stream",
     "text": [
      "/Users/alex\n",
      "\n"
     ]
    }
   ],
   "source": [
    "completed = subprocess.run(\n",
    "    'echo $HOME', \n",
    "    shell=True, \n",
    "    stdout=subprocess.PIPE  # optional if not in Jupyter Notebook\n",
    ")\n",
    "\n",
    "print(completed.stdout.decode('utf-8'))"
   ]
  },
  {
   "cell_type": "markdown",
   "metadata": {},
   "source": [
    "- ```check``` with error handling"
   ]
  },
  {
   "cell_type": "code",
   "execution_count": 7,
   "metadata": {},
   "outputs": [
    {
     "data": {
      "text/plain": [
       "CompletedProcess(args=['false'], returncode=1)"
      ]
     },
     "execution_count": 7,
     "metadata": {},
     "output_type": "execute_result"
    },
    {
     "name": "stdout",
     "output_type": "stream",
     "text": [
      "Command '['false']' returned non-zero exit status 1.\n"
     ]
    }
   ],
   "source": [
    "# fine without checking\n",
    "subprocess.run([\"false\"])\n",
    "\n",
    "\n",
    "try:\n",
    "    \n",
    "    # checking code - not zero? => error was raised \n",
    "    subprocess.run([\"false\"], check=True)\n",
    "    \n",
    "except subprocess.CalledProcessError as err:\n",
    "    print(err)"
   ]
  },
  {
   "cell_type": "markdown",
   "metadata": {},
   "source": [
    "- *throw* output into the ```PIPE```"
   ]
  },
  {
   "cell_type": "code",
   "execution_count": 9,
   "metadata": {},
   "outputs": [
    {
     "name": "stdout",
     "output_type": "stream",
     "text": [
      "return-code: 0\n",
      "345 bytes in stdout\n",
      "\n",
      "README.md\n",
      "file_and_directory_access\n",
      "python_language_services\n",
      "interprocess_commu_and_networkin\n",
      "concurrent_execution\n",
      "__HOWTOs__\n",
      "builtin_stuff\n",
      "internet_protocols_and_support\n",
      "numeric_and_mathematical_modules\n",
      "text_processing_services\n",
      "cryptographic_services\n",
      "data_types\n",
      "functional_programming_modules\n",
      "internet_data_handling\n",
      "generic_os_services\n",
      "LICENSE\n",
      "\n"
     ]
    }
   ],
   "source": [
    "completed = subprocess.run(\n",
    "    ['ls', '-t', '../..'],\n",
    "    stdout=subprocess.PIPE  # PIPE <=> xx.stdout.decode(...)\n",
    ")\n",
    "\n",
    "print(\n",
    "    'return-code: {}\\n{} bytes in stdout'.format(\n",
    "        completed.returncode,\n",
    "        len(completed.stdout)\n",
    "    )\n",
    ")\n",
    "\n",
    "print(\n",
    "    '\\n{}'.format(\n",
    "        completed.stdout.decode('utf-8')  # byte.stdout -> str\n",
    "    )\n",
    ")"
   ]
  },
  {
   "cell_type": "markdown",
   "metadata": {},
   "source": [
    "- ```check_output()``` with ```check```, ```stdout```"
   ]
  },
  {
   "cell_type": "code",
   "execution_count": 13,
   "metadata": {},
   "outputs": [
    {
     "name": "stdout",
     "output_type": "stream",
     "text": [
      "README.md\n",
      "file_and_directory_access\n",
      "python_language_services\n",
      "interprocess_commu_and_networkin\n",
      "concurrent_execution\n",
      "__HOWTOs__\n",
      "builtin_stuff\n",
      "internet_protocols_and_support\n",
      "numeric_and_mathematical_modules\n",
      "text_processing_services\n",
      "cryptographic_services\n",
      "data_types\n",
      "functional_programming_modules\n",
      "internet_data_handling\n",
      "generic_os_services\n",
      "LICENSE\n",
      "\n"
     ]
    }
   ],
   "source": [
    "completed = subprocess.run(\n",
    "    ['ls', '-t', '../..'],\n",
    "    check=True,              # the only difference with previous one \n",
    "    stdout=subprocess.PIPE   # getting val by 'xx.stdout.decode(xx)'\n",
    ")\n",
    " \n",
    "# Or using 'check_output()'  # same functionality\n",
    "\n",
    "completed_v2 = subprocess.check_output(\n",
    "    ['ls', '-t', '../..']       # getting val by 'xx.decode(xx)' \n",
    ")\n",
    "\n",
    "\n",
    "# print(completed.stdout.decode('utf-8'))\n",
    "print(completed_v2.decode('utf-8'))"
   ]
  },
  {
   "cell_type": "markdown",
   "metadata": {},
   "source": [
    "- output error (to the console)\n",
    "    > I **DO NOT** fully understand this little chapter."
   ]
  },
  {
   "cell_type": "code",
   "execution_count": 14,
   "metadata": {},
   "outputs": [
    {
     "name": "stdout",
     "output_type": "stream",
     "text": [
      "Command 'exit 1' returned non-zero exit status 1.\n"
     ]
    }
   ],
   "source": [
    "try:\n",
    "    completed = subprocess.run(\n",
    "        'exit 1',\n",
    "        check=True,\n",
    "        shell=True,\n",
    "        stdout=subprocess.PIPE  \n",
    "    )\n",
    "    \n",
    "except subprocess.CalledProcessError as err:\n",
    "    print(err)  # the error was printed to console \n",
    "    \n",
    "else:\n",
    "    \n",
    "    # the rest of the result was hidden (to console)\n",
    "    \n",
    "    print(\n",
    "        'return-code: {}\\n{} bytes in stdout'.format(\n",
    "            completed.returncode,\n",
    "            len(completed.stdout)\n",
    "        )\n",
    "    )\n",
    "\n",
    "    print(\n",
    "        '\\n{}'.format(\n",
    "            completed.stdout.decode('utf-8')  \n",
    "        )\n",
    "    )"
   ]
  },
  {
   "cell_type": "code",
   "execution_count": 15,
   "metadata": {},
   "outputs": [
    {
     "name": "stdout",
     "output_type": "stream",
     "text": [
      "return-code: 1\n",
      "10 bytes in stdout: 'to stdout\\n'\n",
      "10 bytes in stderr: 'to stdout\\n'\n"
     ]
    }
   ],
   "source": [
    "try:\n",
    "    completed = subprocess.run(\n",
    "        \n",
    "        # \"1>&2\" means redirect stdout to stderr\n",
    "        'echo to stdout; echo to stderr 1>&2; exit 1',\n",
    "        \n",
    "        shell=True,\n",
    "        stdout=subprocess.PIPE,\n",
    "        stderr=subprocess.PIPE,\n",
    "    )\n",
    "    \n",
    "except subprocess.CalledProcessError as err:\n",
    "    print(err)\n",
    "    \n",
    "else:\n",
    "    \n",
    "    print('return-code: {}'.format(completed.returncode))\n",
    "    \n",
    "    print('{} bytes in stdout: {!r}'.format(\n",
    "        len(completed.stdout),\n",
    "        completed.stdout.decode('utf-8')\n",
    "    ))\n",
    "    \n",
    "    print('{} bytes in stderr: {!r}'.format(\n",
    "        len(completed.stdout),\n",
    "        completed.stdout.decode('utf-8')\n",
    "    ))"
   ]
  },
  {
   "cell_type": "markdown",
   "metadata": {},
   "source": [
    "- capture err msg when using ```check_output()```"
   ]
  },
  {
   "cell_type": "code",
   "execution_count": 16,
   "metadata": {},
   "outputs": [
    {
     "name": "stdout",
     "output_type": "stream",
     "text": [
      "20 bytes in output: 'to stdout\\nto stderr\\n'\n"
     ]
    }
   ],
   "source": [
    "try:\n",
    "    output = subprocess.check_output(\n",
    "        'echo to stdout; echo to stderr 1>&2',\n",
    "        shell=True,\n",
    "        stderr=subprocess.STDOUT,\n",
    "    )\n",
    "    \n",
    "except subprocess.CalledProcessError as err:\n",
    "    print('Error:', err)\n",
    "    \n",
    "else:\n",
    "    \n",
    "    print('{} bytes in output: {!r}'.format(\n",
    "        len(output),\n",
    "        output.decode('utf-8')\n",
    "    ))"
   ]
  },
  {
   "cell_type": "markdown",
   "metadata": {},
   "source": [
    "- suppressing output"
   ]
  },
  {
   "cell_type": "code",
   "execution_count": 17,
   "metadata": {},
   "outputs": [
    {
     "name": "stdout",
     "output_type": "stream",
     "text": [
      "return-code: 1\n",
      "stdout is None\n",
      "stderr is None\n"
     ]
    }
   ],
   "source": [
    "# This case is for \n",
    "#   \"the output should not be shown or captured\" sort of thing.\n",
    "\n",
    "try:\n",
    "    completed = subprocess.run(\n",
    "        'echo to stdout; echo to stderr 1>&2; exit 1',\n",
    "        shell=True,\n",
    "        stdout=subprocess.DEVNULL,\n",
    "        stderr=subprocess.DEVNULL,\n",
    "    )\n",
    "    \n",
    "except subprocess.CalledProcessError as err:\n",
    "    print('Error:', err)\n",
    "    \n",
    "else:\n",
    "    \n",
    "    print('return-code:', completed.returncode)\n",
    "    \n",
    "    print('stdout is {!r}'.format(completed.stdout))\n",
    "    print('stderr is {!r}'.format(completed.stderr))"
   ]
  },
  {
   "cell_type": "markdown",
   "metadata": {},
   "source": [
    "### Working with Pipes directly "
   ]
  },
  {
   "cell_type": "code",
   "execution_count": 18,
   "metadata": {},
   "outputs": [],
   "source": [
    "import subprocess"
   ]
  },
  {
   "cell_type": "markdown",
   "metadata": {},
   "source": [
    "- One-way commu with a process"
   ]
  },
  {
   "cell_type": "code",
   "execution_count": 33,
   "metadata": {},
   "outputs": [
    {
     "data": {
      "text/plain": [
       "'[Read]'"
      ]
     },
     "execution_count": 33,
     "metadata": {},
     "output_type": "execute_result"
    },
    {
     "name": "stdout",
     "output_type": "stream",
     "text": [
      "stdout:  '\"to stdout\"\\n'\n"
     ]
    }
   ],
   "source": [
    "\"\"\"[Read]\"\"\"\n",
    "\n",
    "proc = subprocess.Popen(\n",
    "    ['echo', '\"to stdout\"'],\n",
    "    stdout=subprocess.PIPE,\n",
    ")\n",
    "\n",
    "stdout_val = proc.communicate()[0].decode('utf-8')\n",
    "print('stdout: ', repr(stdout_val))"
   ]
  },
  {
   "cell_type": "markdown",
   "metadata": {},
   "source": [
    "<hr>\n",
    "\n",
    "```python\n",
    "\"\"\"[Write]\"\"\"\n",
    "\n",
    "import subprocess \n",
    "\n",
    "proc = subprocess.Popen(\n",
    "    ['cat', '-'],\n",
    "    stdin=subprocess.PIPE,\n",
    ")\n",
    "\n",
    "proc.communicate('stdin: to stdin\\n'.encode('utf-8'))\n",
    "```\n",
    "\n",
    "<hr>"
   ]
  },
  {
   "cell_type": "code",
   "execution_count": 19,
   "metadata": {},
   "outputs": [
    {
     "name": "stdout",
     "output_type": "stream",
     "text": [
      "stdin: to stdin\n"
     ]
    }
   ],
   "source": [
    "!python3 ./subprocess_pyfile_only/01-workin-pipe-1way-write.py "
   ]
  },
  {
   "cell_type": "markdown",
   "metadata": {},
   "source": [
    "- Bi-directional commu with a process"
   ]
  },
  {
   "cell_type": "code",
   "execution_count": 20,
   "metadata": {},
   "outputs": [
    {
     "data": {
      "text/plain": [
       "'[Popen2]'"
      ]
     },
     "execution_count": 20,
     "metadata": {},
     "output_type": "execute_result"
    },
    {
     "name": "stdout",
     "output_type": "stream",
     "text": [
      "pass through:  'through stdin to stdout'\n"
     ]
    }
   ],
   "source": [
    "\"\"\"[Popen2]\"\"\"\n",
    "\n",
    "proc = subprocess.Popen(\n",
    "    ['cat', '-'],\n",
    "    stdin=subprocess.PIPE,\n",
    "    stdout=subprocess.PIPE,\n",
    ")\n",
    "\n",
    "msg        = 'through stdin to stdout'.encode('utf-8')\n",
    "stdout_val = proc.communicate(msg)[0].decode('utf-8')\n",
    "\n",
    "print('pass through: ', repr(stdout_val))"
   ]
  },
  {
   "cell_type": "markdown",
   "metadata": {},
   "source": [
    "- Capturing error output"
   ]
  },
  {
   "cell_type": "code",
   "execution_count": 21,
   "metadata": {},
   "outputs": [
    {
     "data": {
      "text/plain": [
       "'[Popen3]'"
      ]
     },
     "execution_count": 21,
     "metadata": {},
     "output_type": "execute_result"
    },
    {
     "name": "stdout",
     "output_type": "stream",
     "text": [
      "pass through:  'through stdin to stdout'\n",
      "stderr      :  'to stderr\\n'\n"
     ]
    }
   ],
   "source": [
    "\"\"\"[Popen3]\"\"\"\n",
    "\n",
    "proc = subprocess.Popen(\n",
    "    ['cat -; echo \"to stderr\" 1>&2'],\n",
    "    shell=True,\n",
    "    stdin =subprocess.PIPE,\n",
    "    stdout=subprocess.PIPE,\n",
    "    stderr=subprocess.PIPE,\n",
    ")\n",
    "\n",
    "msg = 'through stdin to stdout'.encode('utf-8')\n",
    "\n",
    "stdout_val, stderr_val = proc.communicate(msg)\n",
    "\n",
    "print(\n",
    "    'pass through: ', repr(stdout_val.decode('utf-8')))\n",
    "print(\n",
    "    'stderr      : ', repr(stderr_val.decode('utf-8')))"
   ]
  },
  {
   "cell_type": "markdown",
   "metadata": {},
   "source": [
    "- Combining regular & error output"
   ]
  },
  {
   "cell_type": "code",
   "execution_count": 24,
   "metadata": {},
   "outputs": [
    {
     "data": {
      "text/plain": [
       "'[Popen4]'"
      ]
     },
     "execution_count": 24,
     "metadata": {},
     "output_type": "execute_result"
    },
    {
     "name": "stdout",
     "output_type": "stream",
     "text": [
      "combined output:  'through stdin to stdout\\nto stderr\\n'\n",
      "stderr val     :  None\n"
     ]
    }
   ],
   "source": [
    "\"\"\"[Popen4]\"\"\"\n",
    "\n",
    "proc = subprocess.Popen(\n",
    "    'cat -; echo \"to stderr\" 1>&2',\n",
    "    shell=True,\n",
    "    stdin =subprocess.PIPE,\n",
    "    stdout=subprocess.PIPE,\n",
    "    stderr=subprocess.STDOUT,                   # MARK\n",
    ")\n",
    "\n",
    "msg = 'through stdin to stdout\\n'.encode('utf-8')\n",
    "\n",
    "stdout_val, stderr_val = proc.communicate(msg)  # MARK\n",
    "\n",
    "print(\n",
    "    'combined output: ', repr(stdout_val.decode('utf-8')))\n",
    "print(\n",
    "    'stderr val     : ', repr(stderr_val))"
   ]
  },
  {
   "cell_type": "markdown",
   "metadata": {},
   "source": [
    "### Connecting Segments of a Pipe"
   ]
  },
  {
   "cell_type": "code",
   "execution_count": 25,
   "metadata": {},
   "outputs": [],
   "source": [
    "import subprocess"
   ]
  },
  {
   "cell_type": "code",
   "execution_count": 28,
   "metadata": {},
   "outputs": [
    {
     "name": "stdout",
     "output_type": "stream",
     "text": [
      "cryptographic_services\n",
      "generic_os_services\n",
      "python_language_services\n",
      "text_processing_services\n"
     ]
    }
   ],
   "source": [
    "ls = subprocess.Popen(\n",
    "    ['ls', '../..'],\n",
    "    stdout=subprocess.PIPE,  # MARK\n",
    ")\n",
    "\n",
    "grep = subprocess.Popen(\n",
    "    ['grep', 'services'],\n",
    "    stdin=ls.stdout,         # MARK\n",
    "    stdout=subprocess.PIPE,  \n",
    ")\n",
    "\n",
    "end_of_pipe = grep.stdout\n",
    "\n",
    "for line in end_of_pipe:\n",
    "    print(line.decode('utf-8').strip())"
   ]
  },
  {
   "cell_type": "markdown",
   "metadata": {},
   "source": [
    "### Interacting with Another Command"
   ]
  },
  {
   "cell_type": "code",
   "execution_count": 34,
   "metadata": {},
   "outputs": [
    {
     "name": "stdout",
     "output_type": "stream",
     "text": [
      "\u001b[31m./subprocess_pyfile_only/03-intract_othercmd_slave_repeater.py\u001b[m\u001b[m\n",
      "\u001b[31m./subprocess_pyfile_only/04-intract_othercmd_master_interact.py\u001b[m\u001b[m\n"
     ]
    }
   ],
   "source": [
    "# Examples are inside the .py file.\n",
    "#   Instructions \n",
    "#     run 'python3 *master*'  (aha)\n",
    "\n",
    "!ls ./subprocess_pyfile_only/*intract_othercmd*"
   ]
  },
  {
   "cell_type": "markdown",
   "metadata": {},
   "source": [
    "### Signaling Between Processes"
   ]
  },
  {
   "cell_type": "code",
   "execution_count": null,
   "metadata": {},
   "outputs": [],
   "source": []
  }
 ],
 "metadata": {
  "kernelspec": {
   "display_name": "Python 3",
   "language": "python",
   "name": "python3"
  },
  "language_info": {
   "codemirror_mode": {
    "name": "ipython",
    "version": 3
   },
   "file_extension": ".py",
   "mimetype": "text/x-python",
   "name": "python",
   "nbconvert_exporter": "python",
   "pygments_lexer": "ipython3",
   "version": "3.6.5"
  }
 },
 "nbformat": 4,
 "nbformat_minor": 2
}
