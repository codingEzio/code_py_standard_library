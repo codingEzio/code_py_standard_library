{
 "cells": [
  {
   "cell_type": "markdown",
   "metadata": {},
   "source": [
    "Resources\n",
    "- 链接: https://docs.python.org/3/library/pathlib.html\n",
    "- 版本: 3.7.0\n",
    "- 平台: macOS <small>(不测试部分 func)</small>"
   ]
  },
  {
   "cell_type": "markdown",
   "metadata": {},
   "source": [
    "### 0x01 \n",
    "- basic usage of *pathlib*"
   ]
  },
  {
   "cell_type": "code",
   "execution_count": 20,
   "metadata": {},
   "outputs": [],
   "source": [
    "from pathlib import Path"
   ]
  },
  {
   "cell_type": "code",
   "execution_count": 21,
   "metadata": {
    "scrolled": true
   },
   "outputs": [
    {
     "data": {
      "text/plain": [
       "PosixPath('/Volumes/exFAT_Two/code_other/code_py_stdlib_and_howtos/file_and_directory_access/..')"
      ]
     },
     "execution_count": 21,
     "metadata": {},
     "output_type": "execute_result"
    },
    {
     "data": {
      "text/plain": [
       "PosixPath('/Volumes/exFAT_Two/code_other/code_py_stdlib_and_howtos')"
      ]
     },
     "execution_count": 21,
     "metadata": {},
     "output_type": "execute_result"
    },
    {
     "data": {
      "text/plain": [
       "False"
      ]
     },
     "execution_count": 21,
     "metadata": {},
     "output_type": "execute_result"
    },
    {
     "data": {
      "text/plain": [
       "True"
      ]
     },
     "execution_count": 21,
     "metadata": {},
     "output_type": "execute_result"
    },
    {
     "data": {
      "text/plain": [
       "os.stat_result(st_mode=16895, st_ino=39, st_dev=16777221, st_nlink=1, st_uid=501, st_gid=20, st_size=131072, st_atime=1532065038, st_mtime=1532065040, st_ctime=1532065040)"
      ]
     },
     "execution_count": 21,
     "metadata": {},
     "output_type": "execute_result"
    },
    {
     "data": {
      "text/plain": [
       "[PosixPath('../README.md'),\n",
       " PosixPath('../._README.md'),\n",
       " PosixPath('../.ipynb_checkpoints/README-checkpoint.md'),\n",
       " PosixPath('../python_language_services/_dis/note_dis.md')]"
      ]
     },
     "execution_count": 21,
     "metadata": {},
     "output_type": "execute_result"
    },
    {
     "data": {
      "text/plain": [
       "PosixPath('../builtin_stuff')"
      ]
     },
     "execution_count": 21,
     "metadata": {},
     "output_type": "execute_result"
    },
    {
     "data": {
      "text/plain": [
       "PosixPath('/Volumes/exFAT_Two/code_other/code_py_stdlib_and_howtos/builtin_stuff')"
      ]
     },
     "execution_count": 21,
     "metadata": {},
     "output_type": "execute_result"
    },
    {
     "data": {
      "text/plain": [
       "'A\\n'"
      ]
     },
     "execution_count": 21,
     "metadata": {},
     "output_type": "execute_result"
    }
   ],
   "source": [
    "p = Path('..')\n",
    "\n",
    "# trimmed (res too long)\n",
    "lis_dir = [x for x in p.iterdir() if x.is_dir()]\n",
    "\n",
    "# test other funcs \n",
    "p.absolute()  # '..' as path \n",
    "p.resolve()   # path after `cd ..` \n",
    "p.is_file()   # nope\n",
    "p.is_dir()    # yep \n",
    "p.stat()      # display file status (system call!)\n",
    "\n",
    "# and ..\n",
    "list(\n",
    "    p.glob('**/*.md')\n",
    ")\n",
    "\n",
    "# navigating \n",
    "np = p / 'builtin_stuff' \n",
    "\n",
    "np \n",
    "np.resolve()\n",
    "\n",
    "# open a file!\n",
    "a_file = Path('/usr/share/dict/words')\n",
    "\n",
    "with a_file.open(mode='r') as f:\n",
    "    f.readline()"
   ]
  },
  {
   "cell_type": "markdown",
   "metadata": {},
   "source": [
    "### 0x02 \n",
    "- brief of *PurePath* \n",
    "- It provides path-handling opts which ***don't actually access*** a filesystem."
   ]
  },
  {
   "cell_type": "code",
   "execution_count": 22,
   "metadata": {},
   "outputs": [],
   "source": [
    "from pathlib import (\n",
    "    PurePath, \n",
    "    PurePosixPath, PureWindowsPath\n",
    ")"
   ]
  },
  {
   "cell_type": "code",
   "execution_count": 23,
   "metadata": {},
   "outputs": [
    {
     "data": {
      "text/plain": [
       "PurePosixPath('.')"
      ]
     },
     "execution_count": 23,
     "metadata": {},
     "output_type": "execute_result"
    },
    {
     "data": {
      "text/plain": [
       "PurePosixPath('.')"
      ]
     },
     "execution_count": 23,
     "metadata": {},
     "output_type": "execute_result"
    },
    {
     "data": {
      "text/plain": [
       "PurePosixPath('/usr/share')"
      ]
     },
     "execution_count": 23,
     "metadata": {},
     "output_type": "execute_result"
    },
    {
     "data": {
      "text/plain": [
       "PureWindowsPath('D:/Music')"
      ]
     },
     "execution_count": 23,
     "metadata": {},
     "output_type": "execute_result"
    },
    {
     "data": {
      "text/plain": [
       "PureWindowsPath('C:/Fonts')"
      ]
     },
     "execution_count": 23,
     "metadata": {},
     "output_type": "execute_result"
    }
   ],
   "source": [
    "# null path\n",
    "PurePath()\n",
    "PurePath('.')\n",
    "\n",
    "# multiple abspath \n",
    "PurePath('/etc', '/usr', 'share')          # only the last one (/)\n",
    "\n",
    "# multiple abspath (for windows)\n",
    "PureWindowsPath('C:/Windows', 'D:/Music')  # u get the last one \n",
    "PureWindowsPath('C:/Windows', '/Fonts')    # the '/' is a bit different !"
   ]
  },
  {
   "cell_type": "code",
   "execution_count": 24,
   "metadata": {},
   "outputs": [
    {
     "data": {
      "text/plain": [
       "PurePosixPath('test.txt')"
      ]
     },
     "execution_count": 24,
     "metadata": {},
     "output_type": "execute_result"
    },
    {
     "data": {
      "text/plain": [
       "PurePosixPath('/usr/share/dict/words')"
      ]
     },
     "execution_count": 24,
     "metadata": {},
     "output_type": "execute_result"
    },
    {
     "data": {
      "text/plain": [
       "PurePosixPath('/usr')"
      ]
     },
     "execution_count": 24,
     "metadata": {},
     "output_type": "execute_result"
    },
    {
     "data": {
      "text/plain": [
       "PurePosixPath('/usr/share')"
      ]
     },
     "execution_count": 24,
     "metadata": {},
     "output_type": "execute_result"
    },
    {
     "data": {
      "text/plain": [
       "PurePosixPath('/usr/share/words')"
      ]
     },
     "execution_count": 24,
     "metadata": {},
     "output_type": "execute_result"
    }
   ],
   "source": [
    "# concat  \n",
    "\n",
    "PurePath('test.txt')\n",
    "PurePath('/usr', 'share/dict', 'words')\n",
    "\n",
    "PurePath('/usr')  \n",
    "PurePath('/usr')  / 'share' \n",
    "\n",
    "'/usr' / PurePath('share/words')"
   ]
  },
  {
   "cell_type": "code",
   "execution_count": 25,
   "metadata": {},
   "outputs": [
    {
     "data": {
      "text/plain": [
       "('/', 'usr', 'local', 'bin', 'python3')"
      ]
     },
     "execution_count": 25,
     "metadata": {},
     "output_type": "execute_result"
    },
    {
     "data": {
      "text/plain": [
       "('C:\\\\', 'Program Files', 'python3')"
      ]
     },
     "execution_count": 25,
     "metadata": {},
     "output_type": "execute_result"
    }
   ],
   "source": [
    "# split into parts \n",
    "\n",
    "nix_pt = PurePath('/usr/local/bin/python3') \n",
    "win_pt = PureWindowsPath('C:/Program Files/python3')\n",
    "\n",
    "nix_pt.parts\n",
    "win_pt.parts "
   ]
  },
  {
   "cell_type": "code",
   "execution_count": 26,
   "metadata": {},
   "outputs": [
    {
     "data": {
      "text/plain": [
       "PurePosixPath('/usr')"
      ]
     },
     "execution_count": 26,
     "metadata": {},
     "output_type": "execute_result"
    },
    {
     "data": {
      "text/plain": [
       "'/usr'"
      ]
     },
     "execution_count": 26,
     "metadata": {},
     "output_type": "execute_result"
    },
    {
     "data": {
      "text/plain": [
       "b'C:\\\\Windows'"
      ]
     },
     "execution_count": 26,
     "metadata": {},
     "output_type": "execute_result"
    },
    {
     "data": {
      "text/plain": [
       "PureWindowsPath('C:/Windows')"
      ]
     },
     "execution_count": 26,
     "metadata": {},
     "output_type": "execute_result"
    },
    {
     "data": {
      "text/plain": [
       "'C:\\\\Windows'"
      ]
     },
     "execution_count": 26,
     "metadata": {},
     "output_type": "execute_result"
    },
    {
     "data": {
      "text/plain": [
       "b'C:\\\\Windows'"
      ]
     },
     "execution_count": 26,
     "metadata": {},
     "output_type": "execute_result"
    }
   ],
   "source": [
    "# raw path \n",
    "\n",
    "PurePath('/usr')\n",
    "PurePath('/usr').__str__()\n",
    "PureWindowsPath('C:/Windows').__bytes__()  \n",
    "\n",
    "PureWindowsPath('C:/Windows')\n",
    "PureWindowsPath('C:/Windows').__str__()\n",
    "PureWindowsPath('C:/Windows').__bytes__() "
   ]
  },
  {
   "cell_type": "code",
   "execution_count": 27,
   "metadata": {},
   "outputs": [
    {
     "data": {
      "text/plain": [
       "PurePosixPath('foo/bar')"
      ]
     },
     "execution_count": 27,
     "metadata": {},
     "output_type": "execute_result"
    },
    {
     "data": {
      "text/plain": [
       "PurePosixPath('foo/bar')"
      ]
     },
     "execution_count": 27,
     "metadata": {},
     "output_type": "execute_result"
    },
    {
     "data": {
      "text/plain": [
       "PurePosixPath('foo/../bar')"
      ]
     },
     "execution_count": 27,
     "metadata": {},
     "output_type": "execute_result"
    },
    {
     "name": "stdout",
     "output_type": "stream",
     "text": [
      "\n"
     ]
    },
    {
     "data": {
      "text/plain": [
       "PurePosixPath('/etc')"
      ]
     },
     "execution_count": 27,
     "metadata": {},
     "output_type": "execute_result"
    },
    {
     "data": {
      "text/plain": [
       "PureWindowsPath('C:/Windows')"
      ]
     },
     "execution_count": 27,
     "metadata": {},
     "output_type": "execute_result"
    }
   ],
   "source": [
    "# spurious '/' and '.'\n",
    "PurePath('foo//bar')    # // => no need (and wrongly use)\n",
    "PurePath('foo/./bar')   # .  => current\n",
    "PurePath('foo/../bar'); print()  \n",
    "\n",
    "# two subclasses (of 'PurePath')\n",
    "PurePosixPath('/etc/')\n",
    "PureWindowsPath('C:/Windows')"
   ]
  },
  {
   "cell_type": "code",
   "execution_count": 28,
   "metadata": {},
   "outputs": [
    {
     "data": {
      "text/plain": [
       "' case-sensitive '"
      ]
     },
     "execution_count": 28,
     "metadata": {},
     "output_type": "execute_result"
    },
    {
     "data": {
      "text/plain": [
       "False"
      ]
     },
     "execution_count": 28,
     "metadata": {},
     "output_type": "execute_result"
    },
    {
     "data": {
      "text/plain": [
       "True"
      ]
     },
     "execution_count": 28,
     "metadata": {},
     "output_type": "execute_result"
    },
    {
     "data": {
      "text/plain": [
       "' Windows specific '"
      ]
     },
     "execution_count": 28,
     "metadata": {},
     "output_type": "execute_result"
    },
    {
     "data": {
      "text/plain": [
       "True"
      ]
     },
     "execution_count": 28,
     "metadata": {},
     "output_type": "execute_result"
    },
    {
     "data": {
      "text/plain": [
       "True"
      ]
     },
     "execution_count": 28,
     "metadata": {},
     "output_type": "execute_result"
    },
    {
     "data": {
      "text/plain": [
       "True"
      ]
     },
     "execution_count": 28,
     "metadata": {},
     "output_type": "execute_result"
    },
    {
     "data": {
      "text/plain": [
       "' posix VS windows '"
      ]
     },
     "execution_count": 28,
     "metadata": {},
     "output_type": "execute_result"
    },
    {
     "data": {
      "text/plain": [
       "True"
      ]
     },
     "execution_count": 28,
     "metadata": {},
     "output_type": "execute_result"
    },
    {
     "data": {
      "text/plain": [
       "TypeError(\"'<' not supported between instances of 'PurePosixPath' and 'PureWindowsPath'\")"
      ]
     },
     "execution_count": 28,
     "metadata": {},
     "output_type": "execute_result"
    }
   ],
   "source": [
    "# compariosn & flavor (win/*nix)\n",
    "\n",
    "''' case-sensitive '''\n",
    "PurePosixPath('foo')   == PurePosixPath('FOO')\n",
    "PureWindowsPath('foo') == PureWindowsPath('FOO')\n",
    "\n",
    "''' Windows specific '''\n",
    "PureWindowsPath('FOO') in { PureWindowsPath('foo') }\n",
    "PureWindowsPath('C:') < PureWindowsPath('C:/Windows')  # NOT `<' in math!!\n",
    "PureWindowsPath('C:') < PureWindowsPath('E:')  # \"C->D->E\" or \"d: d:file\"\n",
    "\n",
    "''' posix VS windows '''\n",
    "try:\n",
    "    PurePosixPath('foo') != PureWindowsPath('foo')  # no error\n",
    "    PurePosixPath('foo') <  PureWindowsPath('foo')  # raised by this line\n",
    "except TypeError as err:\n",
    "    err"
   ]
  },
  {
   "cell_type": "markdown",
   "metadata": {},
   "source": [
    "### 0x03 \n",
    "- more about *PurePath*"
   ]
  },
  {
   "cell_type": "code",
   "execution_count": 138,
   "metadata": {},
   "outputs": [],
   "source": [
    "# just a shortcut (not using it all the time)\n",
    "pws = PureWindowsPath  \n",
    "pix = PurePosixPath"
   ]
  },
  {
   "cell_type": "markdown",
   "metadata": {},
   "source": [
    "drive & root-dir"
   ]
  },
  {
   "cell_type": "code",
   "execution_count": 141,
   "metadata": {},
   "outputs": [
    {
     "data": {
      "text/plain": [
       "('C:', '\\\\')"
      ]
     },
     "execution_count": 141,
     "metadata": {},
     "output_type": "execute_result"
    },
    {
     "data": {
      "text/plain": [
       "('C:', '')"
      ]
     },
     "execution_count": 141,
     "metadata": {},
     "output_type": "execute_result"
    },
    {
     "data": {
      "text/plain": [
       "('', '/')"
      ]
     },
     "execution_count": 141,
     "metadata": {},
     "output_type": "execute_result"
    },
    {
     "data": {
      "text/plain": [
       "('\\\\\\\\host\\\\share', '\\\\')"
      ]
     },
     "execution_count": 141,
     "metadata": {},
     "output_type": "execute_result"
    }
   ],
   "source": [
    "pws('C:/Windows').drive, pws('C:/Windows').root\n",
    "pws('C:Windows').drive,  pws('C:Windows').root \n",
    "pix('/etc').drive,       pix('/etc').root      \n",
    "\n",
    "pws('//host/share/foo.txt').drive, \\\n",
    "pws('//host/share').root"
   ]
  },
  {
   "cell_type": "markdown",
   "metadata": {},
   "source": [
    "anchor (concat of 'drive' and 'root' )"
   ]
  },
  {
   "cell_type": "code",
   "execution_count": 143,
   "metadata": {
    "scrolled": true
   },
   "outputs": [
    {
     "data": {
      "text/plain": [
       "'C:\\\\'"
      ]
     },
     "execution_count": 143,
     "metadata": {},
     "output_type": "execute_result"
    },
    {
     "data": {
      "text/plain": [
       "'C:'"
      ]
     },
     "execution_count": 143,
     "metadata": {},
     "output_type": "execute_result"
    },
    {
     "data": {
      "text/plain": [
       "'/'"
      ]
     },
     "execution_count": 143,
     "metadata": {},
     "output_type": "execute_result"
    },
    {
     "data": {
      "text/plain": [
       "'\\\\\\\\host\\\\share\\\\'"
      ]
     },
     "execution_count": 143,
     "metadata": {},
     "output_type": "execute_result"
    }
   ],
   "source": [
    "pws('C:/Windows').anchor \n",
    "pws('C:Windows').anchor\n",
    "\n",
    "pix('/etc').anchor \n",
    "pws('//host/share').anchor"
   ]
  },
  {
   "cell_type": "markdown",
   "metadata": {},
   "source": [
    "parents & parent"
   ]
  },
  {
   "cell_type": "code",
   "execution_count": 145,
   "metadata": {
    "scrolled": true
   },
   "outputs": [
    {
     "data": {
      "text/plain": [
       "PureWindowsPath('C:/foo/bar')"
      ]
     },
     "execution_count": 145,
     "metadata": {},
     "output_type": "execute_result"
    },
    {
     "data": {
      "text/plain": [
       "PureWindowsPath('C:/foo')"
      ]
     },
     "execution_count": 145,
     "metadata": {},
     "output_type": "execute_result"
    },
    {
     "data": {
      "text/plain": [
       "PureWindowsPath('C:/')"
      ]
     },
     "execution_count": 145,
     "metadata": {},
     "output_type": "execute_result"
    },
    {
     "data": {
      "text/plain": [
       "PurePosixPath('/')"
      ]
     },
     "execution_count": 145,
     "metadata": {},
     "output_type": "execute_result"
    },
    {
     "data": {
      "text/plain": [
       "PurePosixPath('.')"
      ]
     },
     "execution_count": 145,
     "metadata": {},
     "output_type": "execute_result"
    },
    {
     "data": {
      "text/plain": [
       "PurePosixPath('foo')"
      ]
     },
     "execution_count": 145,
     "metadata": {},
     "output_type": "execute_result"
    }
   ],
   "source": [
    "pr = PureWindowsPath('C:/foo/bar/setup.py')\n",
    "\n",
    "pr.parents[0]  # == prt.parent (first-level-parent)\n",
    "pr.parents[1] \n",
    "pr.parents[2]\n",
    "\n",
    "pix('/').parent       # they've gotta no parent! XDD\n",
    "pix('.').parent\n",
    "pix('foo/..').parent  # resolve it first"
   ]
  },
  {
   "cell_type": "markdown",
   "metadata": {},
   "source": [
    "relative_to"
   ]
  },
  {
   "cell_type": "code",
   "execution_count": 147,
   "metadata": {
    "scrolled": true
   },
   "outputs": [
    {
     "data": {
      "text/plain": [
       "PurePosixPath('etc/passwd')"
      ]
     },
     "execution_count": 147,
     "metadata": {},
     "output_type": "execute_result"
    },
    {
     "data": {
      "text/plain": [
       "PurePosixPath('passwd')"
      ]
     },
     "execution_count": 147,
     "metadata": {},
     "output_type": "execute_result"
    },
    {
     "data": {
      "text/plain": [
       "ValueError(\"'/etc/passwd' does not start with '/usr'\")"
      ]
     },
     "execution_count": 147,
     "metadata": {},
     "output_type": "execute_result"
    }
   ],
   "source": [
    "rlt = PurePosixPath('/etc/passwd')\n",
    "\n",
    "rlt.relative_to('/')\n",
    "rlt.relative_to('/etc')\n",
    "\n",
    "try:\n",
    "    rlt.relative_to('/usr')\n",
    "except ValueError as err:\n",
    "    err "
   ]
  },
  {
   "cell_type": "markdown",
   "metadata": {},
   "source": [
    "name & with_name"
   ]
  },
  {
   "cell_type": "code",
   "execution_count": 149,
   "metadata": {
    "scrolled": true
   },
   "outputs": [
    {
     "data": {
      "text/plain": [
       "'path'"
      ]
     },
     "execution_count": 149,
     "metadata": {},
     "output_type": "execute_result"
    },
    {
     "data": {
      "text/plain": [
       "'.zshrc'"
      ]
     },
     "execution_count": 149,
     "metadata": {},
     "output_type": "execute_result"
    },
    {
     "data": {
      "text/plain": [
       "''"
      ]
     },
     "execution_count": 149,
     "metadata": {},
     "output_type": "execute_result"
    },
    {
     "data": {
      "text/plain": [
       "'test.txt'"
      ]
     },
     "execution_count": 149,
     "metadata": {},
     "output_type": "execute_result"
    },
    {
     "data": {
      "text/plain": [
       "PureWindowsPath('C:/Downloads/python3-webinstall.exe')"
      ]
     },
     "execution_count": 149,
     "metadata": {},
     "output_type": "execute_result"
    },
    {
     "data": {
      "text/plain": [
       "PureWindowsPath('C:/python3-webinstall.exe')"
      ]
     },
     "execution_count": 149,
     "metadata": {},
     "output_type": "execute_result"
    },
    {
     "data": {
      "text/plain": [
       "ValueError(\"PureWindowsPath('C:/') has an empty name\")"
      ]
     },
     "execution_count": 149,
     "metadata": {},
     "output_type": "execute_result"
    }
   ],
   "source": [
    "# name \n",
    " \n",
    "pix('my/path').name\n",
    "pix('my/path/.zshrc').name\n",
    "\n",
    "pws('//some/share').name\n",
    "pws('//some/share/test.txt').name   \n",
    "\n",
    "# with_name \n",
    "\n",
    "pws('C:/Downloads/hello.py').with_name('python3-webinstall.exe')\n",
    "pws('C:/Downloads').with_name('python3-webinstall.exe')\n",
    "\n",
    "try:\n",
    "    pws('C:/').with_name('hello.py')  # at least two parts \n",
    "except ValueError as err:\n",
    "    err"
   ]
  },
  {
   "cell_type": "markdown",
   "metadata": {},
   "source": [
    "suffix, suffixes & with_suffix"
   ]
  },
  {
   "cell_type": "code",
   "execution_count": 151,
   "metadata": {
    "scrolled": true
   },
   "outputs": [
    {
     "data": {
      "text/plain": [
       "'.py'"
      ]
     },
     "execution_count": 151,
     "metadata": {},
     "output_type": "execute_result"
    },
    {
     "data": {
      "text/plain": [
       "['.py']"
      ]
     },
     "execution_count": 151,
     "metadata": {},
     "output_type": "execute_result"
    },
    {
     "data": {
      "text/plain": [
       "'.gz'"
      ]
     },
     "execution_count": 151,
     "metadata": {},
     "output_type": "execute_result"
    },
    {
     "data": {
      "text/plain": [
       "['.tar', '.gz']"
      ]
     },
     "execution_count": 151,
     "metadata": {},
     "output_type": "execute_result"
    },
    {
     "data": {
      "text/plain": [
       "''"
      ]
     },
     "execution_count": 151,
     "metadata": {},
     "output_type": "execute_result"
    },
    {
     "data": {
      "text/plain": [
       "[]"
      ]
     },
     "execution_count": 151,
     "metadata": {},
     "output_type": "execute_result"
    },
    {
     "data": {
      "text/plain": [
       "PurePosixPath('/lib/README.md')"
      ]
     },
     "execution_count": 151,
     "metadata": {},
     "output_type": "execute_result"
    },
    {
     "data": {
      "text/plain": [
       "PureWindowsPath('C:/Downloads/hello.ipynb')"
      ]
     },
     "execution_count": 151,
     "metadata": {},
     "output_type": "execute_result"
    },
    {
     "data": {
      "text/plain": [
       "PurePosixPath('C:/Downloads/pack.tar.bz2')"
      ]
     },
     "execution_count": 151,
     "metadata": {},
     "output_type": "execute_result"
    }
   ],
   "source": [
    "# suffix & suffixes \n",
    "\n",
    "pix('my/code/run.py').suffix    # .py\n",
    "pix('my/code/run.py').suffixes  # [.py]\n",
    "\n",
    "pix('my/pack/mdx.tar.gz').suffix    # .gz \n",
    "pix('my/pack/mdx.tar.gz').suffixes  # [.tar, .gz]\n",
    "\n",
    "pix('my/pack').suffix\n",
    "pix('my/pack').suffixes\n",
    "\n",
    "# with_suffix \n",
    "\n",
    "pix('/lib/README').with_suffix('.md')\n",
    "pws('C:/Downloads/hello.py').with_suffix('.ipynb')\n",
    "pix('C:/Downloads/pack.tar.gz').with_suffix('.bz2')"
   ]
  },
  {
   "cell_type": "markdown",
   "metadata": {},
   "source": [
    "stem"
   ]
  },
  {
   "cell_type": "code",
   "execution_count": 153,
   "metadata": {
    "scrolled": true
   },
   "outputs": [
    {
     "data": {
      "text/plain": [
       "'library.tar'"
      ]
     },
     "execution_count": 153,
     "metadata": {},
     "output_type": "execute_result"
    },
    {
     "data": {
      "text/plain": [
       "'library'"
      ]
     },
     "execution_count": 153,
     "metadata": {},
     "output_type": "execute_result"
    },
    {
     "data": {
      "text/plain": [
       "'library'"
      ]
     },
     "execution_count": 153,
     "metadata": {},
     "output_type": "execute_result"
    }
   ],
   "source": [
    "pix('my/library.tar.gz').stem  # library.tar\n",
    "pix('my/library.tar').stem     # library\n",
    "pix('my/library').stem         # library"
   ]
  },
  {
   "cell_type": "markdown",
   "metadata": {},
   "source": [
    "as_posix & as_uri"
   ]
  },
  {
   "cell_type": "code",
   "execution_count": 155,
   "metadata": {
    "scrolled": true
   },
   "outputs": [
    {
     "data": {
      "text/plain": [
       "'C:\\\\Windows'"
      ]
     },
     "execution_count": 155,
     "metadata": {},
     "output_type": "execute_result"
    },
    {
     "data": {
      "text/plain": [
       "'C:/Windows'"
      ]
     },
     "execution_count": 155,
     "metadata": {},
     "output_type": "execute_result"
    },
    {
     "data": {
      "text/plain": [
       "'file:///etc/passwd'"
      ]
     },
     "execution_count": 155,
     "metadata": {},
     "output_type": "execute_result"
    },
    {
     "data": {
      "text/plain": [
       "'file:///C:/Windows'"
      ]
     },
     "execution_count": 155,
     "metadata": {},
     "output_type": "execute_result"
    }
   ],
   "source": [
    "# '\\\\' to '/'\n",
    "PureWindowsPath('C:\\\\Windows').__str__()\n",
    "PureWindowsPath('C:\\\\Windows').as_posix()\n",
    "\n",
    "# rep the path as 'file' URI\n",
    "PurePosixPath('/etc/passwd').as_uri()    # the path must be absolute\n",
    "PureWindowsPath('C:\\\\Windows').as_uri()  # if not, raise ValueError\n",
    "\n"
   ]
  },
  {
   "cell_type": "markdown",
   "metadata": {},
   "source": [
    "is_absolute & is_reserved"
   ]
  },
  {
   "cell_type": "code",
   "execution_count": 157,
   "metadata": {},
   "outputs": [
    {
     "data": {
      "text/plain": [
       "(True, False)"
      ]
     },
     "execution_count": 157,
     "metadata": {},
     "output_type": "execute_result"
    },
    {
     "data": {
      "text/plain": [
       "(True, False, False, True)"
      ]
     },
     "execution_count": 157,
     "metadata": {},
     "output_type": "execute_result"
    },
    {
     "data": {
      "text/plain": [
       "(True, False)"
      ]
     },
     "execution_count": 157,
     "metadata": {},
     "output_type": "execute_result"
    }
   ],
   "source": [
    "# abs - nix \n",
    "pix('/a/b').is_absolute(), \\\n",
    "pix('a/b').is_absolute()\n",
    "\n",
    "# abs - win\n",
    "pws('C:/a/b').is_absolute(), \\\n",
    "pws('/a/b').is_absolute(), \\\n",
    "pws('C:').is_absolute(), \\\n",
    "pws('//some/share').is_absolute()\n",
    "\n",
    "# is reserved (or not)\n",
    "pws('nul').is_reserved(), \\\n",
    "pix('nul').is_reserved()  # always `False` for *nix "
   ]
  },
  {
   "cell_type": "markdown",
   "metadata": {},
   "source": [
    "joinpath & match"
   ]
  },
  {
   "cell_type": "code",
   "execution_count": 158,
   "metadata": {},
   "outputs": [
    {
     "data": {
      "text/plain": [
       "PurePosixPath('/usr/share/dict')"
      ]
     },
     "execution_count": 158,
     "metadata": {},
     "output_type": "execute_result"
    },
    {
     "data": {
      "text/plain": [
       "PureWindowsPath('C:/Windows/Fonts')"
      ]
     },
     "execution_count": 158,
     "metadata": {},
     "output_type": "execute_result"
    },
    {
     "data": {
      "text/plain": [
       "PurePosixPath('/usr/local/bin')"
      ]
     },
     "execution_count": 158,
     "metadata": {},
     "output_type": "execute_result"
    },
    {
     "data": {
      "text/plain": [
       "(True, True, False)"
      ]
     },
     "execution_count": 158,
     "metadata": {},
     "output_type": "execute_result"
    },
    {
     "data": {
      "text/plain": [
       "(True, False)"
      ]
     },
     "execution_count": 158,
     "metadata": {},
     "output_type": "execute_result"
    },
    {
     "data": {
      "text/plain": [
       "(True, False)"
      ]
     },
     "execution_count": 158,
     "metadata": {},
     "output_type": "execute_result"
    }
   ],
   "source": [
    "# joinpath \n",
    "pix('/usr').joinpath('share', 'dict')\n",
    "pws('C:\\\\').joinpath('Windows', 'Fonts')\n",
    "\n",
    "pix('/usr').joinpath(pix('local', 'bin'))\n",
    "\n",
    "# match \n",
    "PurePath('a/b.py').match('*.py'),      \\\n",
    "PurePath('/a/b/c.py').match('b/*.py'), \\\n",
    "PurePath('/a/b/c.py').match('a/*.py')\n",
    "\n",
    "PurePath('/a.py').match( '/*.py'),      \\\n",
    "PurePath('a/b.py').match('/*.py')\n",
    "\n",
    "# match - case\n",
    "PureWindowsPath('b.py').match('*.PY'), \\\n",
    "PurePosixPath(  'b.py').match('*.PY')"
   ]
  },
  {
   "cell_type": "markdown",
   "metadata": {},
   "source": [
    "### 0x04 \n",
    "- Let's talk about <q>*concrete path*</q>!\n",
    "- It's subclasses of the pure path classes.\n",
    "- It provides methods to ***do system calls on path objects***. "
   ]
  },
  {
   "cell_type": "code",
   "execution_count": 159,
   "metadata": {},
   "outputs": [],
   "source": [
    "from pathlib import (\n",
    "    Path, \n",
    "    PosixPath, WindowsPath\n",
    ")"
   ]
  },
  {
   "cell_type": "markdown",
   "metadata": {},
   "source": [
    "create (init) a path object "
   ]
  },
  {
   "cell_type": "code",
   "execution_count": 161,
   "metadata": {
    "scrolled": false
   },
   "outputs": [
    {
     "data": {
      "text/plain": [
       "PosixPath('setup.py')"
      ]
     },
     "execution_count": 161,
     "metadata": {},
     "output_type": "execute_result"
    },
    {
     "data": {
      "text/plain": [
       "PosixPath('/usr/local')"
      ]
     },
     "execution_count": 161,
     "metadata": {},
     "output_type": "execute_result"
    },
    {
     "name": "stdout",
     "output_type": "stream",
     "text": [
      "Well... cannot instantiate 'WindowsPath' on your system\n"
     ]
    }
   ],
   "source": [
    "Path('setup.py')\n",
    "\n",
    "try:\n",
    "    \n",
    "    # u can only init the class corresponds to your system\n",
    "    PosixPath('/usr/local') \n",
    "    WindowsPath('C:/Windows/Fonts')\n",
    "    \n",
    "except NotImplementedError as err:\n",
    "    print('Well...', err)"
   ]
  },
  {
   "cell_type": "markdown",
   "metadata": {},
   "source": [
    "cwd, home, stat, lstat"
   ]
  },
  {
   "cell_type": "code",
   "execution_count": 164,
   "metadata": {},
   "outputs": [
    {
     "data": {
      "text/plain": [
       "PosixPath('/Volumes/exFAT_Two/code_other/code_py_stdlib_and_howtos/file_and_directory_access')"
      ]
     },
     "execution_count": 164,
     "metadata": {},
     "output_type": "execute_result"
    },
    {
     "data": {
      "text/plain": [
       "PosixPath('/Users/alex')"
      ]
     },
     "execution_count": 164,
     "metadata": {},
     "output_type": "execute_result"
    },
    {
     "data": {
      "text/plain": [
       "PosixPath('pathlib_offidoc.ipynb')"
      ]
     },
     "execution_count": 164,
     "metadata": {},
     "output_type": "execute_result"
    },
    {
     "data": {
      "text/plain": [
       "37"
      ]
     },
     "execution_count": 164,
     "metadata": {},
     "output_type": "execute_result"
    },
    {
     "data": {
      "text/plain": [
       "PosixPath('/Users/alex/vid')"
      ]
     },
     "execution_count": 164,
     "metadata": {},
     "output_type": "execute_result"
    },
    {
     "data": {
      "text/plain": [
       "23"
      ]
     },
     "execution_count": 164,
     "metadata": {},
     "output_type": "execute_result"
    }
   ],
   "source": [
    "Path.cwd()\n",
    "Path.home()\n",
    "\n",
    "f  = Path('pathlib_offidoc.ipynb')  # file    -- stat\n",
    "fl = Path('/Users/alex/vid')        # symlink -- lstat\n",
    "\n",
    "f\n",
    "f.stat().st_size // 1024\n",
    "\n",
    "fl \n",
    "fl.lstat().st_size  # show the symlink's info rather than its target's"
   ]
  },
  {
   "cell_type": "markdown",
   "metadata": {},
   "source": [
    "exists, expanduser"
   ]
  },
  {
   "cell_type": "code",
   "execution_count": 165,
   "metadata": {
    "scrolled": true
   },
   "outputs": [
    {
     "data": {
      "text/plain": [
       "True"
      ]
     },
     "execution_count": 165,
     "metadata": {},
     "output_type": "execute_result"
    },
    {
     "data": {
      "text/plain": [
       "True"
      ]
     },
     "execution_count": 165,
     "metadata": {},
     "output_type": "execute_result"
    },
    {
     "data": {
      "text/plain": [
       "True"
      ]
     },
     "execution_count": 165,
     "metadata": {},
     "output_type": "execute_result"
    },
    {
     "data": {
      "text/plain": [
       "PosixPath('~/vid')"
      ]
     },
     "execution_count": 165,
     "metadata": {},
     "output_type": "execute_result"
    },
    {
     "data": {
      "text/plain": [
       "PosixPath('/Users/alex/vid')"
      ]
     },
     "execution_count": 165,
     "metadata": {},
     "output_type": "execute_result"
    }
   ],
   "source": [
    "Path('..').exists()\n",
    "Path('/etc').exists()\n",
    "Path('/Users/alex/vid/').exists()  # symlink is supported :)\n",
    "\n",
    "PosixPath('~/vid')\n",
    "PosixPath('~/vid').expanduser()"
   ]
  },
  {
   "cell_type": "markdown",
   "metadata": {},
   "source": [
    "glob, rglob, owner, group "
   ]
  },
  {
   "cell_type": "code",
   "execution_count": 201,
   "metadata": {
    "scrolled": false
   },
   "outputs": [
    {
     "data": {
      "text/plain": [
       "[PosixPath('../__HOWTOs__/descriptor_howto_guide.ipynb'),\n",
       " PosixPath('../__HOWTOs__/intro_to_ipaddress_module.ipynb'),\n",
       " PosixPath('../__HOWTOs__/sorting_howto.ipynb')]"
      ]
     },
     "execution_count": 201,
     "metadata": {},
     "output_type": "execute_result"
    },
    {
     "data": {
      "text/plain": [
       "[PosixPath('../._README.md'),\n",
       " PosixPath('../.ipynb_checkpoints/README-checkpoint.md'),\n",
       " PosixPath('../README.md'),\n",
       " PosixPath('../python_language_services/_dis/note_dis.md')]"
      ]
     },
     "execution_count": 201,
     "metadata": {},
     "output_type": "execute_result"
    },
    {
     "data": {
      "text/plain": [
       "[PosixPath('../._README.md'),\n",
       " PosixPath('../.ipynb_checkpoints/README-checkpoint.md'),\n",
       " PosixPath('../README.md'),\n",
       " PosixPath('../python_language_services/_dis/note_dis.md')]"
      ]
     },
     "execution_count": 201,
     "metadata": {},
     "output_type": "execute_result"
    }
   ],
   "source": [
    "# glob \n",
    "\n",
    "sorted(\n",
    "    Path('../__HOWTOs__').glob('*.ipynb')\n",
    ")\n",
    "\n",
    "sorted(\n",
    "    Path('..').glob('**/*.md')  # crt dir & all subdirs\n",
    ")\n",
    "\n",
    "\n",
    "# rglob \n",
    "\n",
    "sorted(\n",
    "    Path('..').rglob('*.md')    # just like 'glob' but add '**'\n",
    ")"
   ]
  },
  {
   "cell_type": "markdown",
   "metadata": {},
   "source": [
    "owner, group "
   ]
  },
  {
   "cell_type": "code",
   "execution_count": 199,
   "metadata": {},
   "outputs": [
    {
     "data": {
      "text/plain": [
       "'alex'"
      ]
     },
     "execution_count": 199,
     "metadata": {},
     "output_type": "execute_result"
    },
    {
     "data": {
      "text/plain": [
       "'staff'"
      ]
     },
     "execution_count": 199,
     "metadata": {},
     "output_type": "execute_result"
    }
   ],
   "source": [
    "Path('.').owner()  # -> alex \n",
    "Path('.').group()  # -> staff"
   ]
  },
  {
   "cell_type": "markdown",
   "metadata": {},
   "source": [
    "is_dir, is_file, is_symlink"
   ]
  },
  {
   "cell_type": "code",
   "execution_count": 169,
   "metadata": {
    "scrolled": true
   },
   "outputs": [
    {
     "data": {
      "text/plain": [
       "True"
      ]
     },
     "execution_count": 169,
     "metadata": {},
     "output_type": "execute_result"
    },
    {
     "data": {
      "text/plain": [
       "True"
      ]
     },
     "execution_count": 169,
     "metadata": {},
     "output_type": "execute_result"
    },
    {
     "data": {
      "text/plain": [
       "True"
      ]
     },
     "execution_count": 169,
     "metadata": {},
     "output_type": "execute_result"
    },
    {
     "data": {
      "text/plain": [
       "False"
      ]
     },
     "execution_count": 169,
     "metadata": {},
     "output_type": "execute_result"
    }
   ],
   "source": [
    "# is_dir \n",
    "Path('/Users/alex/vid/').is_dir()\n",
    "Path('../file_and_directory_access/').is_dir()\n",
    "\n",
    "# is_file\n",
    "Path('pathlib_offidoc.ipynb').is_file()\n",
    "\n",
    "# is_mount \n",
    "# Path('/Users/alex/vid').is_mount()  # Python 3.7 only \n",
    "\n",
    "# is_symlink \n",
    "Path('/User/alex/vid').is_symlink()   # hmm.."
   ]
  },
  {
   "cell_type": "markdown",
   "metadata": {},
   "source": [
    "iterdir, open"
   ]
  },
  {
   "cell_type": "code",
   "execution_count": 170,
   "metadata": {},
   "outputs": [
    {
     "data": {
      "text/plain": [
       "[PosixPath('/Users/alex/Movies/$RECYCLE.BIN'),\n",
       " PosixPath('/Users/alex/Movies/.localized')]"
      ]
     },
     "execution_count": 170,
     "metadata": {},
     "output_type": "execute_result"
    },
    {
     "data": {
      "text/plain": [
       "'##\\n'"
      ]
     },
     "execution_count": 170,
     "metadata": {},
     "output_type": "execute_result"
    }
   ],
   "source": [
    "# iterdir \n",
    "list(\n",
    "    Path('/Users/alex/Movies').iterdir()\n",
    ")\n",
    "\n",
    "# open \n",
    "with Path('/etc/hosts').open('r') as f: \n",
    "    f.readline()"
   ]
  },
  {
   "cell_type": "markdown",
   "metadata": {},
   "source": [
    "read_bytes, read_text"
   ]
  },
  {
   "cell_type": "code",
   "execution_count": 172,
   "metadata": {},
   "outputs": [
    {
     "data": {
      "text/plain": [
       "10"
      ]
     },
     "execution_count": 172,
     "metadata": {},
     "output_type": "execute_result"
    },
    {
     "data": {
      "text/plain": [
       "b'hello byte'"
      ]
     },
     "execution_count": 172,
     "metadata": {},
     "output_type": "execute_result"
    },
    {
     "data": {
      "text/plain": [
       "9"
      ]
     },
     "execution_count": 172,
     "metadata": {},
     "output_type": "execute_result"
    },
    {
     "data": {
      "text/plain": [
       "'hey guys!'"
      ]
     },
     "execution_count": 172,
     "metadata": {},
     "output_type": "execute_result"
    }
   ],
   "source": [
    "pb = Path('src/my_bin_file')\n",
    "pt = Path('src/my_txt_file')\n",
    "\n",
    "pb.write_bytes(b'hello byte')   # automatically closed (hell yeah)\n",
    "pb.read_bytes()\n",
    "\n",
    "pt.write_text('hey guys!')\n",
    "pt.read_text(encoding='utf-8')  # same (encode) meaning as `open()`"
   ]
  },
  {
   "cell_type": "markdown",
   "metadata": {},
   "source": [
    "rename, replace"
   ]
  },
  {
   "cell_type": "code",
   "execution_count": 183,
   "metadata": {},
   "outputs": [
    {
     "data": {
      "text/plain": [
       "13"
      ]
     },
     "execution_count": 183,
     "metadata": {},
     "output_type": "execute_result"
    },
    {
     "data": {
      "text/plain": [
       "PosixPath('src/file_to_be_renamed.txt')"
      ]
     },
     "execution_count": 183,
     "metadata": {},
     "output_type": "execute_result"
    },
    {
     "data": {
      "text/plain": [
       "'aha gotta ya!'"
      ]
     },
     "execution_count": 183,
     "metadata": {},
     "output_type": "execute_result"
    }
   ],
   "source": [
    "before = Path('src/file_to_be_renamed.txt')\n",
    "target = Path('src/just_normal_file.txt')\n",
    "\n",
    "before.open('w').write('aha gotta ya!')\n",
    "before \n",
    "\n",
    "before.rename(\n",
    "    target  # => just_normal_file.txt\n",
    ")\n",
    "\n",
    "target.open().read()\n",
    "\n",
    "# then `replace` \n",
    "tip = '''\n",
    "    the same as shell's command: `mv` \n",
    "        if another-file  => rename \n",
    "        if it-is-a-dir   => move 'this' file to the dir \n",
    "'''"
   ]
  },
  {
   "cell_type": "markdown",
   "metadata": {},
   "source": [
    "resolve"
   ]
  },
  {
   "cell_type": "code",
   "execution_count": 193,
   "metadata": {},
   "outputs": [
    {
     "data": {
      "text/plain": [
       "PosixPath('..')"
      ]
     },
     "execution_count": 193,
     "metadata": {},
     "output_type": "execute_result"
    },
    {
     "data": {
      "text/plain": [
       "PosixPath('/Volumes/exFAT_Two/code_other/code_py_stdlib_and_howtos')"
      ]
     },
     "execution_count": 193,
     "metadata": {},
     "output_type": "execute_result"
    },
    {
     "data": {
      "text/plain": [
       "PosixPath('/Volumes/exFAT_Two/code_other/code_py_stdlib_and_howtos/__HOWTOs__')"
      ]
     },
     "execution_count": 193,
     "metadata": {},
     "output_type": "execute_result"
    }
   ],
   "source": [
    "Path('..')\n",
    "Path('..').resolve()\n",
    "\n",
    "Path('../__HOWTOs__/').resolve(strict=True)  # no idea about `strict`"
   ]
  },
  {
   "cell_type": "markdown",
   "metadata": {},
   "source": [
    "symlink_to"
   ]
  },
  {
   "cell_type": "code",
   "execution_count": 218,
   "metadata": {},
   "outputs": [
    {
     "data": {
      "text/plain": [
       "PosixPath('src/link_to_home')"
      ]
     },
     "execution_count": 218,
     "metadata": {},
     "output_type": "execute_result"
    },
    {
     "data": {
      "text/plain": [
       "PosixPath('/Users')"
      ]
     },
     "execution_count": 218,
     "metadata": {},
     "output_type": "execute_result"
    }
   ],
   "source": [
    "link = Path('src/link_to_home')\n",
    "\n",
    "try:\n",
    "    link.symlink_to('/Users/')\n",
    "except FileExistsError:\n",
    "    link\n",
    "    link.resolve()"
   ]
  },
  {
   "cell_type": "markdown",
   "metadata": {},
   "source": [
    "touch, unlink"
   ]
  },
  {
   "cell_type": "code",
   "execution_count": 222,
   "metadata": {},
   "outputs": [
    {
     "data": {
      "text/plain": [
       "PosixPath('src/inst_file')"
      ]
     },
     "execution_count": 222,
     "metadata": {},
     "output_type": "execute_result"
    }
   ],
   "source": [
    "a = Path('src/inst_file')\n",
    "\n",
    "a \n",
    "\n",
    "a.touch()\n",
    "a.touch(mode=0o666, exist_ok=True) \n",
    "\n",
    "a.unlink()  # delete the file (or symlink)"
   ]
  }
 ],
 "metadata": {
  "kernelspec": {
   "display_name": "Python 3",
   "language": "python",
   "name": "python3"
  },
  "language_info": {
   "codemirror_mode": {
    "name": "ipython",
    "version": 3
   },
   "file_extension": ".py",
   "mimetype": "text/x-python",
   "name": "python",
   "nbconvert_exporter": "python",
   "pygments_lexer": "ipython3",
   "version": "3.6.5"
  }
 },
 "nbformat": 4,
 "nbformat_minor": 2
}
