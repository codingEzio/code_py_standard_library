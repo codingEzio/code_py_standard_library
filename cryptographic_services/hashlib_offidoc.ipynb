{
 "cells": [
  {
   "cell_type": "markdown",
   "metadata": {},
   "source": [
    "#### I'm always curious about *Cryptography*!\n",
    "- Also, this one is also based on *Python* 3.7.0.\n",
    "- Here's the [link](https://docs.python.org/3/library/hashlib.html)."
   ]
  },
  {
   "cell_type": "markdown",
   "metadata": {},
   "source": [
    "#### Hash Algorithms"
   ]
  },
  {
   "cell_type": "code",
   "execution_count": 37,
   "metadata": {},
   "outputs": [
    {
     "data": {
      "text/plain": [
       "<sha256 HASH object @ 0x105f95f80>"
      ]
     },
     "execution_count": 37,
     "metadata": {},
     "output_type": "execute_result"
    },
    {
     "data": {
      "text/plain": [
       "'sha256'"
      ]
     },
     "execution_count": 37,
     "metadata": {},
     "output_type": "execute_result"
    },
    {
     "data": {
      "text/plain": [
       "b'\\xb5\\xf1\\x8am\\xafb\\x06J\\x9c\\x072\\xa0U\\xc1\\x10\\x8c~D\\x13\\xc9\\xba\\xc0\\xb8\\x1b\\xc8\\xfb\\x9a\\xe2\\xcdZo\\xb3'"
      ]
     },
     "execution_count": 37,
     "metadata": {},
     "output_type": "execute_result"
    },
    {
     "data": {
      "text/plain": [
       "'b5f18a6daf62064a9c0732a055c1108c7e4413c9bac0b81bc8fb9ae2cd5a6fb3'"
      ]
     },
     "execution_count": 37,
     "metadata": {},
     "output_type": "execute_result"
    },
    {
     "data": {
      "text/plain": [
       "32"
      ]
     },
     "execution_count": 37,
     "metadata": {},
     "output_type": "execute_result"
    },
    {
     "data": {
      "text/plain": [
       "64"
      ]
     },
     "execution_count": 37,
     "metadata": {},
     "output_type": "execute_result"
    }
   ],
   "source": [
    "import hashlib \n",
    "\n",
    "m = hashlib.sha256()\n",
    "\n",
    "m.update(b'hello')\n",
    "m.update(b' motherfucker')\n",
    "\n",
    "m\n",
    "m.name         # can be passed as a parameter to 'new()' (don't use it..)\n",
    "\n",
    "m.digest()\n",
    "m.hexdigest()\n",
    "\n",
    "m.digest_size  # the size of resulting hash (bytes)\n",
    "m.block_size   # the internal block size of the hash algorithm"
   ]
  },
  {
   "cell_type": "code",
   "execution_count": 28,
   "metadata": {},
   "outputs": [
    {
     "data": {
      "text/plain": [
       "32"
      ]
     },
     "execution_count": 28,
     "metadata": {},
     "output_type": "execute_result"
    },
    {
     "data": {
      "text/plain": [
       "14"
      ]
     },
     "execution_count": 28,
     "metadata": {},
     "output_type": "execute_result"
    }
   ],
   "source": [
    "algo_available = hashlib.algorithms_available\n",
    "algo_guarantee = hashlib.algorithms_guaranteed\n",
    "\n",
    "len(algo_available)  # available in the running Python interpreter \n",
    "len(algo_guarantee)  # means 'supported on ALL platforms'"
   ]
  },
  {
   "cell_type": "code",
   "execution_count": 34,
   "metadata": {},
   "outputs": [
    {
     "data": {
      "text/plain": [
       "b'\\xa0J\\xe8$\\xa0\\xa5U\\xe4\\xeb\\xdcb\\x1e|\\xa9XX\\x18\\xe3\\x8e.\\xde\\xf4?\\xa7\\x83[\\x0f\"'"
      ]
     },
     "execution_count": 34,
     "metadata": {},
     "output_type": "execute_result"
    },
    {
     "data": {
      "text/plain": [
       "'a04ae824a0a555e4ebdc621e7ca9585818e38e2edef43fa7835b0f22'"
      ]
     },
     "execution_count": 34,
     "metadata": {},
     "output_type": "execute_result"
    }
   ],
   "source": [
    "q = hashlib.sha224()\n",
    "\n",
    "# bytes\n",
    "q.update(b'hello')\n",
    "\n",
    "# u(a);u(b) => u(a+b)\n",
    "q.update(b'hashlib is fun')\n",
    "\n",
    "q.digest()     # contains bytes from 0 to 255 \n",
    "q.hexdigest()  # string object "
   ]
  },
  {
   "cell_type": "markdown",
   "metadata": {},
   "source": [
    "#### Key derivation"
   ]
  },
  {
   "cell_type": "code",
   "execution_count": 47,
   "metadata": {},
   "outputs": [
    {
     "data": {
      "text/plain": [
       "b'653cc888d937efe22810a5cbdb25a5bd82e2ebb27a800f85cfa360a6d925198e'"
      ]
     },
     "execution_count": 47,
     "metadata": {},
     "output_type": "execute_result"
    }
   ],
   "source": [
    "import hashlib, binascii\n",
    "\n",
    "dk = hashlib.pbkdf2_hmac(\n",
    "    'sha256', b'password', b'salt', 10\n",
    ")\n",
    "\n",
    "\n",
    "binascii.hexlify(dk)"
   ]
  }
 ],
 "metadata": {
  "kernelspec": {
   "display_name": "Python 3",
   "language": "python",
   "name": "python3"
  },
  "language_info": {
   "codemirror_mode": {
    "name": "ipython",
    "version": 3
   },
   "file_extension": ".py",
   "mimetype": "text/x-python",
   "name": "python",
   "nbconvert_exporter": "python",
   "pygments_lexer": "ipython3",
   "version": "3.6.5"
  }
 },
 "nbformat": 4,
 "nbformat_minor": 2
}
