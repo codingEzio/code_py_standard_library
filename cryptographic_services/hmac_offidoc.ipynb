{
 "cells": [
  {
   "cell_type": "markdown",
   "metadata": {},
   "source": [
    "#### Sources\n",
    "- 鏈接在此: [link](https://docs.python.org/3/library/hmac.html)\n",
    "- 注意: **新于 Python 3.7.0 出現的函數 不會在此測試**."
   ]
  },
  {
   "cell_type": "code",
   "execution_count": 45,
   "metadata": {},
   "outputs": [],
   "source": [
    "import hmac \n",
    "import hashlib"
   ]
  },
  {
   "cell_type": "markdown",
   "metadata": {},
   "source": [
    "#### new"
   ]
  },
  {
   "cell_type": "code",
   "execution_count": 46,
   "metadata": {},
   "outputs": [
    {
     "data": {
      "text/plain": [
       "' Got a new HMAC object (key,msg,xxmod) '"
      ]
     },
     "execution_count": 46,
     "metadata": {},
     "output_type": "execute_result"
    },
    {
     "data": {
      "text/plain": [
       "'1b58003a55009143d83f59652b8f1ec9'"
      ]
     },
     "execution_count": 46,
     "metadata": {},
     "output_type": "execute_result"
    },
    {
     "data": {
      "text/plain": [
       "('8598f29853a4a6d9b4b54b50192150d9', '8598f29853a4a6d9b4b54b50192150d9')"
      ]
     },
     "execution_count": 46,
     "metadata": {},
     "output_type": "execute_result"
    }
   ],
   "source": [
    "''' Got a new HMAC object (key,msg,xxmod) '''\n",
    "\n",
    "# must be bytes \n",
    "new1 = hmac.new(b'what?')\n",
    "\n",
    "# msg is given => update(msg) \n",
    "# default mode => MD5 \n",
    "new2 = hmac.new(b'what?',msg=b'ohyeah')\n",
    "new3 = hmac.new(b'what?',msg=b'ohyeah',digestmod=hashlib.md5)\n",
    "\n",
    "# btw, the \"as default\" of the MD5\n",
    "#   will be deprecated since 3.4, removed in 3.8 \n",
    "new1.hexdigest()\n",
    "new2.hexdigest(), new3.hexdigest()"
   ]
  },
  {
   "cell_type": "markdown",
   "metadata": {},
   "source": [
    "#### update, compare, digest"
   ]
  },
  {
   "cell_type": "code",
   "execution_count": 47,
   "metadata": {},
   "outputs": [
    {
     "data": {
      "text/plain": [
       "True"
      ]
     },
     "execution_count": 47,
     "metadata": {},
     "output_type": "execute_result"
    }
   ],
   "source": [
    "ho = hmac.new(b'what')\n",
    "\n",
    "# up(a), up(b) === update(a+b)\n",
    "#   80d406679c20d8c1ead45dd15976f2a6 (may vary)\n",
    "ho.update(b'nice')\n",
    "ho.update(b'song')\n",
    "\n",
    "# use this instead of '=='\n",
    "hmac.compare_digest(\n",
    "    ho.hexdigest(),         # just for testing :)\n",
    "    ho.copy().hexdigest(),  # yes, you can \"clone\" it\n",
    ")"
   ]
  }
 ],
 "metadata": {
  "kernelspec": {
   "display_name": "Python 3",
   "language": "python",
   "name": "python3"
  },
  "language_info": {
   "codemirror_mode": {
    "name": "ipython",
    "version": 3
   },
   "file_extension": ".py",
   "mimetype": "text/x-python",
   "name": "python",
   "nbconvert_exporter": "python",
   "pygments_lexer": "ipython3",
   "version": "3.6.5"
  }
 },
 "nbformat": 4,
 "nbformat_minor": 2
}
