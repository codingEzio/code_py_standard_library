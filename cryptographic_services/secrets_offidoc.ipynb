{
 "cells": [
  {
   "cell_type": "markdown",
   "metadata": {},
   "source": [
    "#### Sources\n",
    "- 鏈接在此: [link](https://docs.python.org/3/library/secrets.html)\n",
    "- 注意: **新于 Python 3.7.0 出現的函數 不會在此測試**."
   ]
  },
  {
   "cell_type": "code",
   "execution_count": 2,
   "metadata": {},
   "outputs": [],
   "source": [
    "before_using_it = '''\n",
    "    The 'secrets' module is used for \n",
    "        generating cryptographically strong random numbers \n",
    "        which is suitable for managing data such as pwd, account auth etc. \n",
    "    In particularly, it should be \n",
    "        used in preference to the default pseudo-random generator in 'random',\n",
    "        it's designed for modelling and simulation, not security or cryptography.\n",
    "    \n",
    "    ----- In short, you SHOULD USE 'secrets' module. ----\n",
    "'''"
   ]
  },
  {
   "cell_type": "code",
   "execution_count": 3,
   "metadata": {},
   "outputs": [
    {
     "data": {
      "text/plain": [
       "(54, 54)"
      ]
     },
     "execution_count": 3,
     "metadata": {},
     "output_type": "execute_result"
    }
   ],
   "source": [
    "import random \n",
    "import secrets \n",
    "\n",
    "# use these by creating an instance \n",
    "rsr = random.SystemRandom()\n",
    "ssr = secrets.SystemRandom()\n",
    "\n",
    "# the same? I didn't check each one of them\n",
    "len(rsr.__dir__()), len(ssr.__dir__())"
   ]
  },
  {
   "cell_type": "code",
   "execution_count": 4,
   "metadata": {},
   "outputs": [
    {
     "data": {
      "text/plain": [
       "'Base64'"
      ]
     },
     "execution_count": 4,
     "metadata": {},
     "output_type": "execute_result"
    },
    {
     "data": {
      "text/plain": [
       "18"
      ]
     },
     "execution_count": 4,
     "metadata": {},
     "output_type": "execute_result"
    },
    {
     "data": {
      "text/plain": [
       "0"
      ]
     },
     "execution_count": 4,
     "metadata": {},
     "output_type": "execute_result"
    },
    {
     "data": {
      "text/plain": [
       "331713226791361470321809588014152080"
      ]
     },
     "execution_count": 4,
     "metadata": {},
     "output_type": "execute_result"
    }
   ],
   "source": [
    "options = [\n",
    "    'Base64',\n",
    "    'Descriptor',\n",
    "    'BlockChain', \n",
    "    'Cryptography',\n",
    "]\n",
    "\n",
    "secrets.choice(options)  \n",
    "\n",
    "secrets.randbelow(30)  # an random int in [0, n)\n",
    "\n",
    "secrets.randbits(1)    # an int with k random bits\n",
    "secrets.randbits(120)"
   ]
  },
  {
   "cell_type": "code",
   "execution_count": 5,
   "metadata": {},
   "outputs": [
    {
     "data": {
      "text/plain": [
       "b'\\x85\\x1fG]\\xf1N\\xf1>\\xe6\\xc2f\\xe1\\xac\\xa8\\x9c\\tgb\\xda\\xf9\\xbct-UJ\\xb4;\\xda\\xec\\xae\\x05\\\\'"
      ]
     },
     "execution_count": 5,
     "metadata": {},
     "output_type": "execute_result"
    }
   ],
   "source": [
    "# tokens \n",
    "\n",
    "secrets.token_bytes()"
   ]
  }
 ],
 "metadata": {
  "kernelspec": {
   "display_name": "Python 3",
   "language": "python",
   "name": "python3"
  },
  "language_info": {
   "codemirror_mode": {
    "name": "ipython",
    "version": 3
   },
   "file_extension": ".py",
   "mimetype": "text/x-python",
   "name": "python",
   "nbconvert_exporter": "python",
   "pygments_lexer": "ipython3",
   "version": "3.6.5"
  }
 },
 "nbformat": 4,
 "nbformat_minor": 2
}
