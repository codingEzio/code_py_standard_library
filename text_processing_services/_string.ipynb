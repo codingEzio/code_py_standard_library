{
 "cells": [
  {
   "cell_type": "markdown",
   "metadata": {},
   "source": [
    "#### 來源\n",
    "- 鏈接在此: [link](https://docs.python.org/3/library/string.html)\n",
    "- 版本是: *Python* 3.6"
   ]
  },
  {
   "cell_type": "code",
   "execution_count": 14,
   "metadata": {
    "scrolled": false
   },
   "outputs": [
    {
     "name": "stdout",
     "output_type": "stream",
     "text": [
      "abcdefghijklmnopqrstuvwxyz\n",
      "ABCDEFGHIJKLMNOPQRSTUVWXYZ\n",
      "0123456789\n",
      "0123456789abcdefABCDEF\n",
      "01234567\n",
      " \t\n",
      "\u000b",
      "\f",
      "\n",
      "abcdefghijklmnopqrstuvwxyzABCDEFGHIJKLMNOPQRSTUVWXYZ\n",
      "!\"#$%&'()*+,-./:;<=>?@[\\]^_`{|}~\n",
      "0123456789abcdefghijklmnopqrstuvwxyzABCDEFGHIJKLMNOPQRSTUVWXYZ!\"#$%&'()*+,-./:;<=>?@[\\]^_`{|}~ \t\n",
      "\u000b",
      "\f",
      "\n"
     ]
    }
   ],
   "source": [
    "import string\n",
    "\n",
    "# the constants\n",
    "print(\n",
    "    string.ascii_lowercase,\n",
    "    string.ascii_uppercase,\n",
    "    string.digits,\n",
    "    string.hexdigits,\n",
    "    string.octdigits,sep='\\n')\n",
    "\n",
    "print(string.whitespace)\n",
    "\n",
    "print(\n",
    "    string.ascii_letters,\n",
    "    string.punctuation,\n",
    "    string.printable,sep='\\n')"
   ]
  },
  {
   "cell_type": "code",
   "execution_count": 15,
   "metadata": {
    "scrolled": false
   },
   "outputs": [
    {
     "name": "stdout",
     "output_type": "stream",
     "text": [
      "a b c\n",
      "a b c\n",
      "c a b\n",
      "1 2 1 2\n",
      "100 200 300\n",
      "200 100 300\n"
     ]
    }
   ],
   "source": [
    "print(\n",
    "    '{} {} {}'.format('a','b','c'),\n",
    "    '{0} {1} {2}'.format('a','b','c'),\n",
    "    '{2} {0} {1}'.format('a','b','c'),sep='\\n')\n",
    "\n",
    "print(\n",
    "    '{0} {1} {0} {1}'.format(*[1,2,3]),\n",
    "    '{0} {1} {2}'.format(*[100,200,300]),\n",
    "    '{0} {1} {2}'.format(*{100,200,300}),sep='\\n')"
   ]
  },
  {
   "cell_type": "code",
   "execution_count": 16,
   "metadata": {
    "scrolled": false
   },
   "outputs": [
    {
     "name": "stdout",
     "output_type": "stream",
     "text": [
      "t h o W A R\n"
     ]
    }
   ],
   "source": [
    "print(\n",
    "    '{2} {3} {4}'.format(*'Python is GREAT!'),\n",
    "    '{0[0]} {0[1]} {0[2]}'.format('WAR IS HELL')\n",
    ")"
   ]
  },
  {
   "cell_type": "code",
   "execution_count": 17,
   "metadata": {
    "scrolled": false
   },
   "outputs": [
    {
     "name": "stdout",
     "output_type": "stream",
     "text": [
      "Where: USA/NY\n",
      "Where: UK/London\n"
     ]
    }
   ],
   "source": [
    "loc = {'country':'USA','province':'NY'}\n",
    "\n",
    "print(\n",
    "    'Where: {country}/{province}'.format(**loc),\n",
    "    'Where: {country}/{province}'.format(country='UK',province='London'),sep='\\n')"
   ]
  },
  {
   "cell_type": "code",
   "execution_count": 18,
   "metadata": {
    "scrolled": false
   },
   "outputs": [
    {
     "name": "stdout",
     "output_type": "stream",
     "text": [
      "a num: (3-5j),3.0,-5.0\n",
      "Point(6, 9)\n"
     ]
    }
   ],
   "source": [
    "c = 3-5j\n",
    "\n",
    "class Point:\n",
    "    def __init__(self,x,y):\n",
    "        self.x,self.y = x,y\n",
    "    def __str__(self):\n",
    "        return 'Point({self.x}, {self.y})'.format(self=self)\n",
    "    \n",
    "    \n",
    "print(\n",
    "    'a num: {0},{0.real},{0.imag}'.format(c),\n",
    "    str(Point(6,9)),sep='\\n')\n"
   ]
  },
  {
   "cell_type": "code",
   "execution_count": 19,
   "metadata": {},
   "outputs": [
    {
     "name": "stdout",
     "output_type": "stream",
     "text": [
      "I know right? I was like 'WAT THE FUCK!?'\n",
      "\n",
      "LLLL left aligned                   RRRR\n",
      "LLLL                  right aligned RRRR\n",
      "LLLL            centered            RRRR\n",
      "LLLL ***********centered*********** RRRR\n"
     ]
    }
   ],
   "source": [
    "print(\n",
    "    \"{!s} {!r}\\n\".format(\"I know right? I was like\",\"WAT THE FUCK!?\"))\n",
    "\n",
    "print(\n",
    "    \"LLLL {:<30} RRRR\".format('left aligned'),\n",
    "    \"LLLL {:>30} RRRR\".format('right aligned'),sep='\\n')\n",
    "\n",
    "print(\n",
    "    \"LLLL {:^30} RRRR\".format('centered'),\n",
    "    \"LLLL {:*^30} RRRR\".format('centered'),sep='\\n')"
   ]
  },
  {
   "cell_type": "code",
   "execution_count": 20,
   "metadata": {
    "scrolled": true
   },
   "outputs": [
    {
     "name": "stdout",
     "output_type": "stream",
     "text": [
      "+3.140000\t-3.140000\n",
      " 3.140000\t-3.140000\n",
      "3.140000\t-3.140000\n"
     ]
    }
   ],
   "source": [
    "two_num = [3.14,-3.14]\n",
    "\n",
    "print(\n",
    "    \"{:+f}\\t{:+f}\".format(*two_num),\n",
    "    \"{: f}\\t{: f}\".format(*two_num),\n",
    "    \"{:-f}\\t{:-f}\".format(*two_num),sep='\\n')"
   ]
  },
  {
   "cell_type": "code",
   "execution_count": 21,
   "metadata": {
    "scrolled": true
   },
   "outputs": [
    {
     "name": "stdout",
     "output_type": "stream",
     "text": [
      "no prefix \t255\tff\t377\t11111111\n",
      "with prefix \t255\t0xff\t0o377\t0b11111111\n",
      "\n",
      "The num is 1,234,567,890 .\n",
      "11/29 equals 0.3793 (like normal)\n",
      "11/29 equals 37.93% (as percentage)\n"
     ]
    }
   ],
   "source": [
    "print(\n",
    "    \"no prefix \\t{0:d}\\t{0:x}\\t{0:o}\\t{0:b}\".format(255),\n",
    "    \"with prefix \\t{0:d}\\t{0:#x}\\t{0:#o}\\t{0:#b}\\n\".format(255),sep='\\n'\n",
    ")\n",
    "\n",
    "print(\n",
    "    'The num is {:,} .'.format(1234567890),\n",
    "    '11/29 equals {:.4} (like normal)'.format(11/29),\n",
    "    '11/29 equals {:.2%} (as percentage)'.format(11/29),sep='\\n'\n",
    ")"
   ]
  },
  {
   "cell_type": "code",
   "execution_count": 22,
   "metadata": {
    "scrolled": true
   },
   "outputs": [
    {
     "name": "stdout",
     "output_type": "stream",
     "text": [
      "2018-07-15 22:57:39.067064\n",
      "07/15 22:57:39\n"
     ]
    }
   ],
   "source": [
    "from datetime import datetime \n",
    "\n",
    "print(\n",
    "    datetime.now(),\n",
    "    '{:%m/%d %H:%M:%S}'.format(datetime.now()),sep='\\n')"
   ]
  },
  {
   "cell_type": "code",
   "execution_count": 23,
   "metadata": {
    "scrolled": true
   },
   "outputs": [
    {
     "name": "stdout",
     "output_type": "stream",
     "text": [
      "LLLL<<<<<<<<<<<\n",
      "^^^^^MAZE^^^^^^\n",
      ">>>>>>>>>>>RRRR\n"
     ]
    },
    {
     "data": {
      "text/plain": [
       "[('<', 'LLLL'), ('^', 'MAZE'), ('>', 'RRRR')]"
      ]
     },
     "execution_count": 23,
     "metadata": {},
     "output_type": "execute_result"
    }
   ],
   "source": [
    "for align,text in zip('<^>',['LLLL','MAZE','RRRR']):\n",
    "    print('{0:{fill}{align}15}'.format(text,fill=align,align=align))\n",
    "    \n",
    "list(zip('<^>',['LLLL','MAZE','RRRR']))"
   ]
  },
  {
   "cell_type": "code",
   "execution_count": 25,
   "metadata": {
    "scrolled": true
   },
   "outputs": [
    {
     "name": "stdout",
     "output_type": "stream",
     "text": [
      "ip as binary: 11000000.10101000.01.01\n"
     ]
    }
   ],
   "source": [
    "ip_addr = [192,168,1,1]\n",
    "fmt_ip_addr = '{:02b}.{:02b}.{:02b}.{:02b}'\n",
    "\n",
    "print('ip as binary:',fmt_ip.format(*ip_addr))"
   ]
  },
  {
   "cell_type": "code",
   "execution_count": null,
   "metadata": {},
   "outputs": [],
   "source": [
    "width = 10\n",
    "\n",
    "for num in range(22,32):\n",
    "    for base in 'dXob':\n",
    "        print('{0:{width}{base}}'.format(num,base=base,width=width),end=' ')\n",
    "    print()"
   ]
  },
  {
   "cell_type": "code",
   "execution_count": null,
   "metadata": {},
   "outputs": [],
   "source": [
    "from string import Template as tmpl\n",
    "\n",
    "s = tmpl('$who is $what')\n",
    "\n",
    "print(\n",
    "    s.safe_substitute(who='John'),\n",
    "    s.substitute(who='John',what='a teacher.'),sep='\\n')\n",
    "\n",
    "try:\n",
    "    s.substitute(who='John')\n",
    "except KeyError:\n",
    "    pass"
   ]
  }
 ],
 "metadata": {
  "kernelspec": {
   "display_name": "Python 3",
   "language": "python",
   "name": "python3"
  },
  "language_info": {
   "codemirror_mode": {
    "name": "ipython",
    "version": 3
   },
   "file_extension": ".py",
   "mimetype": "text/x-python",
   "name": "python",
   "nbconvert_exporter": "python",
   "pygments_lexer": "ipython3",
   "version": "3.6.5"
  }
 },
 "nbformat": 4,
 "nbformat_minor": 2
}
