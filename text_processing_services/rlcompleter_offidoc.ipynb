{
 "cells": [
  {
   "cell_type": "markdown",
   "metadata": {},
   "source": [
    "#### Resources\n",
    "- 链接: [rlcompleter](https://docs.python.org/3/library/rlcompleter.html)\n",
    "- 版本: *Python* 3.7.0"
   ]
  },
  {
   "cell_type": "code",
   "execution_count": 16,
   "metadata": {},
   "outputs": [],
   "source": [
    "import rlcompleter\n",
    "import readline \n",
    "\n",
    "# Bind \"0\" for complete \n",
    "readline.parse_and_bind(\"0: complete\")"
   ]
  },
  {
   "cell_type": "code",
   "execution_count": 24,
   "metadata": {},
   "outputs": [
    {
     "name": "stdout",
     "output_type": "stream",
     "text": [
      "Help on module rlcompleter:\n",
      "\n",
      "NAME\n",
      "    rlcompleter - Word completion for GNU readline.\n",
      "\n",
      "DESCRIPTION\n",
      "    The completer completes keywords, built-ins and globals in a selectable\n",
      "    namespace (which defaults to __main__); when completing NAME.NAME..., it\n",
      "    evaluates (!) the expression up to the last dot and completes its attributes.\n",
      "    \n",
      "    It's very cool to do \"import sys\" type \"sys.\", hit the completion key (twice),\n",
      "    and see the list of names defined by the sys module!\n",
      "    \n",
      "    Tip: to use the tab key as the completion key, call\n",
      "    \n",
      "        readline.parse_and_bind(\"tab: complete\")\n",
      "    \n",
      "    Notes:\n",
      "    \n",
      "    - Exceptions raised by the completer function are *ignored* (and generally cause\n",
      "      the completion to fail).  This is a feature -- since readline sets the tty\n",
      "      device in raw (or cbreak) mode, printing a traceback wouldn't work well\n",
      "      without some complicated hoopla to save, reset and restore the tty state.\n",
      "    \n",
      "    - The evaluation of the NAME.NAME... form may cause arbitrary application\n",
      "      defined code to be executed if an object with a __getattr__ hook is found.\n",
      "      Since it is the responsibility of the application (or the user) to enable this\n",
      "      feature, I consider this an acceptable risk.  More complicated expressions\n",
      "      (e.g. function calls or indexing operations) are *not* evaluated.\n",
      "    \n",
      "    - When the original stdin is not a tty device, GNU readline is never\n",
      "      used, and this module (and the readline module) are silently inactive.\n",
      "\n",
      "CLASSES\n",
      "    builtins.object\n",
      "        Completer\n",
      "    \n",
      "    class Completer(builtins.object)\n",
      "     |  Methods defined here:\n",
      "     |  \n",
      "     |  __init__(self, namespace=None)\n",
      "     |      Create a new completer for the command line.\n",
      "     |      \n",
      "     |      Completer([namespace]) -> completer instance.\n",
      "     |      \n",
      "     |      If unspecified, the default namespace where completions are performed\n",
      "     |      is __main__ (technically, __main__.__dict__). Namespaces should be\n",
      "     |      given as dictionaries.\n",
      "     |      \n",
      "     |      Completer instances should be used as the completion mechanism of\n",
      "     |      readline via the set_completer() call:\n",
      "     |      \n",
      "     |      readline.set_completer(Completer(my_namespace).complete)\n",
      "     |  \n",
      "     |  attr_matches(self, text)\n",
      "     |      Compute matches when text contains a dot.\n",
      "     |      \n",
      "     |      Assuming the text is of the form NAME.NAME....[NAME], and is\n",
      "     |      evaluable in self.namespace, it will be evaluated and its attributes\n",
      "     |      (as revealed by dir()) are used as possible completions.  (For class\n",
      "     |      instances, class members are also considered.)\n",
      "     |      \n",
      "     |      WARNING: this can still invoke arbitrary C code, if an object\n",
      "     |      with a __getattr__ hook is evaluated.\n",
      "     |  \n",
      "     |  complete(self, text, state)\n",
      "     |      Return the next possible completion for 'text'.\n",
      "     |      \n",
      "     |      This is called successively with state == 0, 1, 2, ... until it\n",
      "     |      returns None.  The completion should begin with 'text'.\n",
      "     |  \n",
      "     |  global_matches(self, text)\n",
      "     |      Compute matches when text is a simple name.\n",
      "     |      \n",
      "     |      Return a list of all keywords, built-in functions and names currently\n",
      "     |      defined in self.namespace that match.\n",
      "     |  \n",
      "     |  ----------------------------------------------------------------------\n",
      "     |  Data descriptors defined here:\n",
      "     |  \n",
      "     |  __dict__\n",
      "     |      dictionary for instance variables (if defined)\n",
      "     |  \n",
      "     |  __weakref__\n",
      "     |      list of weak references to the object (if defined)\n",
      "\n",
      "DATA\n",
      "    __all__ = ['Completer']\n",
      "\n",
      "FILE\n",
      "    /Volumes/exFAT_Two/env_datascience/env/lib/python3.6/rlcompleter.py\n",
      "\n",
      "\n"
     ]
    }
   ],
   "source": [
    "help(rlcompleter)"
   ]
  }
 ],
 "metadata": {
  "kernelspec": {
   "display_name": "Python 3",
   "language": "python",
   "name": "python3"
  },
  "language_info": {
   "codemirror_mode": {
    "name": "ipython",
    "version": 3
   },
   "file_extension": ".py",
   "mimetype": "text/x-python",
   "name": "python",
   "nbconvert_exporter": "python",
   "pygments_lexer": "ipython3",
   "version": "3.6.5"
  }
 },
 "nbformat": 4,
 "nbformat_minor": 2
}
