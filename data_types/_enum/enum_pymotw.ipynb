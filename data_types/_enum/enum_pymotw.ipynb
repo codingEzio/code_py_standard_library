{
 "cells": [
  {
   "cell_type": "markdown",
   "metadata": {},
   "source": [
    "#### What does ```enum``` module do?\n",
    "- It provides an implementation of an *enumeration* type, with iteration and comparison capabilities. \n",
    "- It can be used to create well-defined symbols for values, instead of using literal or integers.\n",
    "- 另附上 [源代码](https://github.com/python/cpython/blob/3.7/Lib/enum.py)"
   ]
  },
  {
   "cell_type": "markdown",
   "metadata": {},
   "source": [
    "#### 注意\n",
    "- 此文件是以 [PyMOTW3 - Enum](https://pymotw.com/3/enum/index.html#module-enum) 为学习基础\n",
    "- 以它为始, 再至标准库巩固"
   ]
  },
  {
   "cell_type": "markdown",
   "metadata": {},
   "source": [
    "<p></p>"
   ]
  },
  {
   "cell_type": "code",
   "execution_count": 31,
   "metadata": {},
   "outputs": [],
   "source": [
    "import enum \n",
    "\n",
    "class BodyStatus(enum.Enum):\n",
    "    ''' Defined by subclassing Enum\n",
    "    '''\n",
    "    read = 5\n",
    "    sleep = 4\n",
    "    work = 3\n",
    "    fun = 2 \n",
    "    eat = 1 "
   ]
  },
  {
   "cell_type": "code",
   "execution_count": 33,
   "metadata": {},
   "outputs": [
    {
     "name": "stdout",
     "output_type": "stream",
     "text": [
      "Member name: work\n",
      "Member value: 3\n",
      "\n",
      "read  = 5\n",
      "sleep = 4\n",
      "work  = 3\n",
      "fun   = 2\n",
      "eat   = 1\n"
     ]
    }
   ],
   "source": [
    "# each inst has two props: (name,value)\n",
    "print('Member name: {}'.format(BodyStatus.work.name))\n",
    "print('Member value: {}\\n'.format(BodyStatus.work.value))\n",
    "\n",
    "# iterate it\n",
    "for status in BodyStatus:\n",
    "    print('{:5} = {}'.format(status.name,status.value))"
   ]
  },
  {
   "cell_type": "code",
   "execution_count": 51,
   "metadata": {},
   "outputs": [
    {
     "name": "stdout",
     "output_type": "stream",
     "text": [
      "Equality: False True\n",
      "Identity: False True\n"
     ]
    }
   ],
   "source": [
    "# basic comparison \n",
    "\n",
    "actual_state = BodyStatus.fun\n",
    "desired_state = BodyStatus.work \n",
    "\n",
    "print('Equality:',\n",
    "     actual_state == desired_state,  # normal \n",
    "     actual_state == BodyStatus.fun) # important\n",
    "\n",
    "print('Identity:',\n",
    "     actual_state is desired_state,  # normal \n",
    "     actual_state is BodyStatus.fun) # important"
   ]
  },
  {
   "cell_type": "code",
   "execution_count": 58,
   "metadata": {},
   "outputs": [
    {
     "name": "stdout",
     "output_type": "stream",
     "text": [
      "\n",
      "Cannot sort: '<' not supported between instances of 'BodyStatus' and 'BodyStatus'\n"
     ]
    }
   ],
   "source": [
    "# cannot sort directly \n",
    "try: \n",
    "    sorted(BodyStatus)\n",
    "except TypeError as err:\n",
    "    print('\\nCannot sort: {}'.format(err))"
   ]
  },
  {
   "cell_type": "code",
   "execution_count": 59,
   "metadata": {},
   "outputs": [
    {
     "data": {
      "text/plain": [
       "[<BodyStatusLikeNum.eat: 1>,\n",
       " <BodyStatusLikeNum.fun: 2>,\n",
       " <BodyStatusLikeNum.work: 3>,\n",
       " <BodyStatusLikeNum.sleep: 4>,\n",
       " <BodyStatusLikeNum.read: 5>]"
      ]
     },
     "execution_count": 59,
     "metadata": {},
     "output_type": "execute_result"
    }
   ],
   "source": [
    "# able to sort now ( by subclassing \"IntEnum\" )\n",
    "\n",
    "class BodyStatusLikeNum(enum.IntEnum):\n",
    "    # By subclassing 'IntEnum' it behaves more like numbers \n",
    "    read = 5\n",
    "    sleep = 4\n",
    "    work = 3\n",
    "    fun = 2 \n",
    "    eat = 1 \n",
    "    \n",
    "try:\n",
    "    [ i for i in sorted(BodyStatusLikeNum)]\n",
    "except TypeError as err:\n",
    "    print('Nah..')"
   ]
  },
  {
   "cell_type": "code",
   "execution_count": 100,
   "metadata": {},
   "outputs": [
    {
     "name": "stdout",
     "output_type": "stream",
     "text": [
      "yes   = 1\n",
      "no    = 0\n",
      "True\n",
      "True\n",
      "True\n"
     ]
    }
   ],
   "source": [
    "class UniqueStatus(enum.Enum):\n",
    "    ''' Members with the same val are tracked as alias refs to the same obj.\n",
    "        Aliases will NOT shown in the iterator for the Enum. \n",
    "        ... \n",
    "        first came, nice boi. \n",
    "        last came, you two became ONE (same object)\n",
    "    '''\n",
    "    yes = 1\n",
    "    no = 0\n",
    "    \n",
    "    ohshit = 0\n",
    "    \n",
    "for status in UniqueStatus:\n",
    "    print('{:5} = {}'.format(status.name,status.value))\n",
    "\n",
    "print(\n",
    "    # FIRST name attached to the value is the Boss.\n",
    "    UniqueStatus.no == UniqueStatus.ohshit,\n",
    "    \n",
    "    # actual 'Equal' (same object)\n",
    "    UniqueStatus.no is UniqueStatus.ohshit,\n",
    "    id(UniqueStatus.no) == id(UniqueStatus.ohshit),\n",
    "    \n",
    "    sep='\\n'\n",
    ")"
   ]
  },
  {
   "cell_type": "code",
   "execution_count": 103,
   "metadata": {},
   "outputs": [
    {
     "name": "stdout",
     "output_type": "stream",
     "text": [
      "duplicate values found in <enum 'ForceUniqueStatus'>: nope -> no\n"
     ]
    }
   ],
   "source": [
    "try:\n",
    "   \n",
    "    @enum.unique\n",
    "    class ForceUniqueStatus(enum.Enum):\n",
    "        ''' By adding this decorator => { repeat? --> error! }\n",
    "        '''\n",
    "        yes = 1 \n",
    "        no = 0 \n",
    "\n",
    "        nope = 0  # you sure? \n",
    "        \n",
    "except ValueError as err:\n",
    "    print(err)"
   ]
  },
  {
   "cell_type": "code",
   "execution_count": 123,
   "metadata": {},
   "outputs": [
    {
     "name": "stdout",
     "output_type": "stream",
     "text": [
      "morning   : 1\n",
      "afternoon : 2\n",
      "night     : 3\n"
     ]
    }
   ],
   "source": [
    "# Create by passing data (value/names)\n",
    "#     [value]  the enum object's name \n",
    "#     [names]  the members in it ( vals are automatically assigned ) \n",
    "\n",
    "EnumCreateByData = enum.Enum(\n",
    "    value = 'CreateEnumByData',         # object's name \n",
    "    names = ('morning afternoon night') # vals start with 1\n",
    ")\n",
    "\n",
    "for item in EnumCreateByData:\n",
    "    print(\"{:10}: {}\".format(\n",
    "        item.name,item.value\n",
    "    ))"
   ]
  },
  {
   "cell_type": "code",
   "execution_count": 125,
   "metadata": {},
   "outputs": [
    {
     "name": "stdout",
     "output_type": "stream",
     "text": [
      "true      : 1\n",
      "false     : 0\n"
     ]
    }
   ],
   "source": [
    "# Another implementation (more detailed)\n",
    "\n",
    "EnumCreateByDataDetail = enum.Enum(\n",
    "    value = 'EnumCreateByDataDetail',\n",
    "    names = [\n",
    "        ('true',1),  # ('...') => [(e,v),(e,v)]\n",
    "        ('false',0)\n",
    "    ],\n",
    ")\n",
    "\n",
    "for item in EnumCreateByDataDetail:\n",
    "    print(\"{:10}: {}\".format(\n",
    "        item.name,item.value\n",
    "    ))"
   ]
  },
  {
   "cell_type": "code",
   "execution_count": 137,
   "metadata": {},
   "outputs": [
    {
     "data": {
      "text/plain": [
       "<EnumTupleValues.start: (4, ['one', 'two', 'three'])>"
      ]
     },
     "execution_count": 137,
     "metadata": {},
     "output_type": "execute_result"
    },
    {
     "data": {
      "text/plain": [
       "(4, ['one', 'two', 'three'])"
      ]
     },
     "execution_count": 137,
     "metadata": {},
     "output_type": "execute_result"
    },
    {
     "data": {
      "text/plain": [
       "['one', 'two', 'three']"
      ]
     },
     "execution_count": 137,
     "metadata": {},
     "output_type": "execute_result"
    },
    {
     "data": {
      "text/plain": [
       "True"
      ]
     },
     "execution_count": 137,
     "metadata": {},
     "output_type": "execute_result"
    }
   ],
   "source": [
    "\n",
    "class EnumTupleValues(enum.Enum):\n",
    "    ''' Any type of objects can be associated with a member.\n",
    "            If the value is a tuple, \n",
    "            the members are passed as individual args to __init__()\n",
    "    '''\n",
    "    start = (4,['one','two','three'])\n",
    "    one = (1,['one'])\n",
    "    two = (2,['two'])\n",
    "    three = (3,['three'])\n",
    "    \n",
    "    def __init__(self,num,items):\n",
    "        self.num = num\n",
    "        self.items = items \n",
    "        \n",
    "    def in_it(self,new_arg):\n",
    "        return new_arg.name in self.items \n",
    "    \n",
    "    \n",
    "EnumTupleValues.start \n",
    "\n",
    "EnumTupleValues.start.value \n",
    "EnumTupleValues.start.items\n",
    "\n",
    "# ['one'] in ['one','two','three']\n",
    "EnumTupleValues.start.in_it(EnumTupleValues.one)"
   ]
  },
  {
   "cell_type": "code",
   "execution_count": 146,
   "metadata": {},
   "outputs": [
    {
     "data": {
      "text/plain": [
       "<EnumComplexValues.in_progress: {'num': 3, 'transitions': ['new', 'fix_committed']}>"
      ]
     },
     "execution_count": 146,
     "metadata": {},
     "output_type": "execute_result"
    },
    {
     "data": {
      "text/plain": [
       "'in_progress'"
      ]
     },
     "execution_count": 146,
     "metadata": {},
     "output_type": "execute_result"
    },
    {
     "data": {
      "text/plain": [
       "['new', 'fix_committed']"
      ]
     },
     "execution_count": 146,
     "metadata": {},
     "output_type": "execute_result"
    },
    {
     "data": {
      "text/plain": [
       "True"
      ]
     },
     "execution_count": 146,
     "metadata": {},
     "output_type": "execute_result"
    }
   ],
   "source": [
    "# Extending its usage (dict)\n",
    "\n",
    "class EnumComplexValues(enum.Enum):\n",
    "    ''' For more complex cases, tuples might be unwieldy. (笨重)\n",
    "        Dict can be used for \n",
    "            cases where there are a lot of \n",
    "            separate attrs to track for each enum value.\n",
    "        Complex vals are passed directly \n",
    "            to __init__() as the only arg other than self \n",
    "    '''\n",
    "    new = {\n",
    "        'num': 7,\n",
    "        'transitions': [\n",
    "            'incomplete',\n",
    "            'invalid',\n",
    "            'wont_fix',\n",
    "            'in_progress',\n",
    "        ],\n",
    "    }\n",
    "    incomplete = {\n",
    "        'num': 6,\n",
    "        'transitions': ['new', 'wont_fix'],\n",
    "    }\n",
    "    invalid = {\n",
    "        'num': 5,\n",
    "        'transitions': ['new'],\n",
    "    }\n",
    "    wont_fix = {\n",
    "        'num': 4,\n",
    "        'transitions': ['new'],\n",
    "    }\n",
    "    in_progress = {\n",
    "        'num': 3,\n",
    "        'transitions': ['new','fix_committed'],\n",
    "    }\n",
    "    fix_committed = {\n",
    "        'num': 2,\n",
    "        'transitions': ['in_progress','fix_released'],\n",
    "    }\n",
    "    fix_released = {\n",
    "        'num': 1,\n",
    "        'transitions': ['new'],\n",
    "    }\n",
    "    \n",
    "    def __init__(self,vals):\n",
    "        self.num = vals['num']\n",
    "        self.transitions = vals['transitions']\n",
    "        \n",
    "    def can_transition(self,new_state):\n",
    "        return new_state.name in self.transitions\n",
    "    \n",
    "    \n",
    "# continue (UP)\n",
    "\n",
    "EnumComplexValues.in_progress\n",
    "\n",
    "EnumComplexValues.in_progress.name \n",
    "EnumComplexValues.in_progress.transitions\n",
    "\n",
    "# ['new', 'fix_committed'] \n",
    "#     in ['incomplete', 'invalid', 'wont_fix', 'in_progress']\n",
    "EnumComplexValues.in_progress.can_transition(EnumComplexValues.new)"
   ]
  }
 ],
 "metadata": {
  "kernelspec": {
   "display_name": "Python 3",
   "language": "python",
   "name": "python3"
  },
  "language_info": {
   "codemirror_mode": {
    "name": "ipython",
    "version": 3
   },
   "file_extension": ".py",
   "mimetype": "text/x-python",
   "name": "python",
   "nbconvert_exporter": "python",
   "pygments_lexer": "ipython3",
   "version": "3.6.5"
  }
 },
 "nbformat": 4,
 "nbformat_minor": 2
}
