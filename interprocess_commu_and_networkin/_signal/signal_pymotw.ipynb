{
 "cells": [
  {
   "cell_type": "markdown",
   "metadata": {},
   "source": [
    "some related links: \n",
    "- [pymotw.com/3/signal/index.html](https://pymotw.com/3/signal/index.html)\n",
    "- [The GNU C Library](http://www.gnu.org/software/libc/manual/html_node/index.html#SEC_Contents)\n",
    "- [SIGNAL(7) - Linux Programmer's Manual ](http://man7.org/linux/man-pages/man7/signal.7.html)\n",
    "- [threading.current_thread](https://docs.python.org/3.6/library/threading.html#threading.current_thread)\n",
    "- [signal.pause](https://docs.python.org/3.6/library/signal.html#signal.pause)"
   ]
  },
  {
   "cell_type": "markdown",
   "metadata": {},
   "source": [
    "- 0x01 - receiving signals"
   ]
  },
  {
   "cell_type": "code",
   "execution_count": 7,
   "metadata": {},
   "outputs": [],
   "source": [
    "import signal \n",
    "import os \n",
    "import time \n",
    "\n",
    "\n",
    "def run():\n",
    "    '''While running this,\n",
    "         start a new term, type \n",
    "           kill -USR1 2742\n",
    "           kill -USR1 2742\n",
    "           kill -INT  2742\n",
    "    '''\n",
    "    \n",
    "    def receive_signal(signum, stack):\n",
    "        print('Received :', signum, '|', stack)    # specific args \n",
    "\n",
    "    signal.signal(signal.SIGUSR1, receive_signal)  # INTERRUPT XD  \n",
    "    signal.signal(signal.SIGUSR2, receive_signal)  # INTERRUPT XD\n",
    "\n",
    "    print('My PID is :', os.getpid())\n",
    "\n",
    "    while True:\n",
    "        print('Waiting ...')\n",
    "        time.sleep(3)\n",
    "        \n",
    "# run()"
   ]
  },
  {
   "cell_type": "markdown",
   "metadata": {},
   "source": [
    "- 0x02 - retrieving registered handlers"
   ]
  },
  {
   "cell_type": "code",
   "execution_count": 8,
   "metadata": {},
   "outputs": [
    {
     "data": {
      "text/plain": [
       "<Handlers.SIG_DFL: 0>"
      ]
     },
     "execution_count": 8,
     "metadata": {},
     "output_type": "execute_result"
    },
    {
     "name": "stdout",
     "output_type": "stream",
     "text": [
      "SIGHUP     ( 1) SIG_DFL\n",
      "SIGINT     ( 2) <built-in function default_int_handler>\n",
      "SIGQUIT    ( 3) SIG_DFL\n",
      "SIGILL     ( 4) SIG_DFL\n",
      "SIGTRAP    ( 5) SIG_DFL\n",
      "SIGIOT     ( 6) SIG_DFL\n",
      "SIGEMT     ( 7) SIG_DFL\n",
      "SIGFPE     ( 8) SIG_DFL\n",
      "SIGKILL    ( 9) None\n",
      "SIGBUS     (10) SIG_DFL\n",
      "SIGSEGV    (11) SIG_DFL\n",
      "SIGSYS     (12) SIG_DFL\n",
      "SIGPIPE    (13) SIG_IGN\n",
      "SIGALRM    (14) <function alarm_recved at 0x10f01f488>\n",
      "SIGTERM    (15) SIG_DFL\n",
      "SIGURG     (16) SIG_DFL\n",
      "SIGSTOP    (17) None\n",
      "SIGTSTP    (18) SIG_DFL\n",
      "SIGCONT    (19) SIG_DFL\n",
      "SIGCHLD    (20) SIG_DFL\n",
      "SIGTTIN    (21) SIG_DFL\n",
      "SIGTTOU    (22) SIG_DFL\n",
      "SIGIO      (23) SIG_DFL\n",
      "SIGXCPU    (24) SIG_DFL\n",
      "SIGXFSZ    (25) SIG_IGN\n",
      "SIGVTALRM  (26) SIG_DFL\n",
      "SIGPROF    (27) SIG_DFL\n",
      "SIGWINCH   (28) SIG_DFL\n",
      "SIGINFO    (29) SIG_DFL\n",
      "SIGUSR1    (30) SIG_DFL\n",
      "SIGUSR2    (31) SIG_DFL\n"
     ]
    }
   ],
   "source": [
    "import signal \n",
    "\n",
    "\n",
    "def alarm_recved(n, stack):\n",
    "    return\n",
    "\n",
    "\n",
    "signal.signal(signal.SIGALRM, alarm_recved)\n",
    "\n",
    "signals_to_names = {\n",
    "    getattr(signal, n): n \n",
    "    for n in dir(signal)\n",
    "    if n.startswith('SIG') and '_' not in n\n",
    "}\n",
    "\n",
    "for s, name in sorted(signals_to_names.items()):\n",
    "    handler = signal.getsignal(s) \n",
    "    \n",
    "    if handler is signal.SIG_DFL:\n",
    "        handler = 'SIG_DFL'          # default   \n",
    "    elif handler is signal.SIG_IGN:  \n",
    "        handler = 'SIG_IGN'          # ignore \n",
    "    \n",
    "    print('{:<10} ({:2d})'.format(name, s), handler)"
   ]
  },
  {
   "cell_type": "markdown",
   "metadata": {},
   "source": [
    "- 0x03 - alarms"
   ]
  },
  {
   "cell_type": "code",
   "execution_count": 9,
   "metadata": {},
   "outputs": [
    {
     "data": {
      "text/plain": [
       "<function __main__.alarm_recved(n, stack)>"
      ]
     },
     "execution_count": 9,
     "metadata": {},
     "output_type": "execute_result"
    },
    {
     "data": {
      "text/plain": [
       "0"
      ]
     },
     "execution_count": 9,
     "metadata": {},
     "output_type": "execute_result"
    },
    {
     "name": "stdout",
     "output_type": "stream",
     "text": [
      "Before : Wed Oct 24 10:43:19 2018\n",
      "Alarm  : Wed Oct 24 10:43:21 2018\n",
      "After  : Wed Oct 24 10:43:23 2018\n"
     ]
    }
   ],
   "source": [
    "import signal \n",
    "import time \n",
    "\n",
    "\n",
    "def recv_alarm(signum, stack):\n",
    "    print('Alarm  :', time.ctime())\n",
    "    \n",
    "    \n",
    "signal.signal(signal.SIGALRM, recv_alarm)    \n",
    "signal.alarm(2)\n",
    "\n",
    "print('Before :', time.ctime())\n",
    "time.sleep(4)\n",
    "print('After  :', time.ctime())"
   ]
  },
  {
   "cell_type": "markdown",
   "metadata": {},
   "source": [
    "- 0x04 - ignoring signals"
   ]
  },
  {
   "cell_type": "code",
   "execution_count": 10,
   "metadata": {},
   "outputs": [
    {
     "name": "stdout",
     "output_type": "stream",
     "text": [
      "\u001b[31m./signal_pyfile_only/01-ignore-signals.py\u001b[m\u001b[m\r\n"
     ]
    }
   ],
   "source": [
    "!ls ./signal_pyfile_only/*ignore*"
   ]
  },
  {
   "cell_type": "markdown",
   "metadata": {},
   "source": [
    "- 0x05 - signal & threads - basic"
   ]
  },
  {
   "cell_type": "code",
   "execution_count": 11,
   "metadata": {},
   "outputs": [
    {
     "name": "stdout",
     "output_type": "stream",
     "text": [
      "\u001b[31m./signal_pyfile_only/02-signals-and-threads-basic.py\u001b[m\u001b[m\r\n"
     ]
    }
   ],
   "source": [
    "!ls ./signal_pyfile_only/*signal*basic*"
   ]
  },
  {
   "cell_type": "markdown",
   "metadata": {},
   "source": [
    "- 0x06 - signal & threads - with ```alarm```"
   ]
  },
  {
   "cell_type": "code",
   "execution_count": 12,
   "metadata": {},
   "outputs": [
    {
     "name": "stdout",
     "output_type": "stream",
     "text": [
      "\u001b[31m./signal_pyfile_only/03-signals-and-threads-withalarm.py\u001b[m\u001b[m\r\n"
     ]
    }
   ],
   "source": [
    "!ls ./signal_pyfile_only/*signal*alarm*"
   ]
  }
 ],
 "metadata": {
  "kernelspec": {
   "display_name": "Python 3",
   "language": "python",
   "name": "python3"
  },
  "language_info": {
   "codemirror_mode": {
    "name": "ipython",
    "version": 3
   },
   "file_extension": ".py",
   "mimetype": "text/x-python",
   "name": "python",
   "nbconvert_exporter": "python",
   "pygments_lexer": "ipython3",
   "version": "3.6.5"
  }
 },
 "nbformat": 4,
 "nbformat_minor": 2
}
